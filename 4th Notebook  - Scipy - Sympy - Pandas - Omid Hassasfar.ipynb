{
 "cells": [
  {
   "cell_type": "markdown",
   "id": "eaee90ee",
   "metadata": {},
   "source": [
    "# Python Workshop\n",
    "\n",
    "# <span style='color:Blue'> Introduction to Scientific Computing in Python  </span>\n",
    "\n",
    "## 4th Notebook  : Scipy - Sympy - Pandas\n",
    "\n",
    "\n",
    "### September 2022 \n",
    "\n",
    "\n",
    "## <span style='background :yellow' > <span style='color:red'> Omid Hassasfar  </span>\n",
    "\n",
    "My LinkedIn : https://www.linkedin.com/in/abbas-omid-hassasfar/\n",
    "\n",
    "My Email Address : Omid.Hassasfar@gmail.com\n",
    "\n",
    "\n",
    "\n",
    "***"
   ]
  },
  {
   "cell_type": "markdown",
   "id": "b605312d",
   "metadata": {},
   "source": [
    "## First of all : Importing Packages"
   ]
  },
  {
   "cell_type": "code",
   "execution_count": 265,
   "id": "593c3556",
   "metadata": {},
   "outputs": [],
   "source": [
    "# Importing\n",
    "\n",
    "import numpy as np\n",
    "\n",
    "import scipy as sc  \n",
    "\n",
    "import sympy as sp\n",
    "\n",
    "import pandas as pd\n",
    "\n",
    "import matplotlib as plt\n",
    "\n",
    "import matplotlib.pyplot as plt\n",
    "\n",
    "from mpl_toolkits.mplot3d import Axes3D\n",
    "\n",
    "from IPython.display import Image"
   ]
  },
  {
   "cell_type": "code",
   "execution_count": 266,
   "id": "5a9261d0",
   "metadata": {},
   "outputs": [
    {
     "name": "stdout",
     "output_type": "stream",
     "text": [
      "3.5.2\n"
     ]
    }
   ],
   "source": [
    "import matplotlib.pyplot\n",
    "print(matplotlib.__version__)"
   ]
  },
  {
   "cell_type": "code",
   "execution_count": 267,
   "id": "daf9bf48",
   "metadata": {},
   "outputs": [
    {
     "name": "stdout",
     "output_type": "stream",
     "text": [
      "1.7.3\n"
     ]
    }
   ],
   "source": [
    "print(sc.__version__)"
   ]
  },
  {
   "cell_type": "code",
   "execution_count": 268,
   "id": "fc794bed",
   "metadata": {},
   "outputs": [
    {
     "name": "stdout",
     "output_type": "stream",
     "text": [
      "1.21.5\n"
     ]
    }
   ],
   "source": [
    "print(np.__version__)"
   ]
  },
  {
   "cell_type": "code",
   "execution_count": 269,
   "id": "56b419ef",
   "metadata": {},
   "outputs": [
    {
     "name": "stdout",
     "output_type": "stream",
     "text": [
      "1.10.1\n"
     ]
    }
   ],
   "source": [
    "print(sp.__version__)"
   ]
  },
  {
   "cell_type": "code",
   "execution_count": 270,
   "id": "915a673f",
   "metadata": {},
   "outputs": [
    {
     "name": "stdout",
     "output_type": "stream",
     "text": [
      "1.4.3\n"
     ]
    }
   ],
   "source": [
    "print(pd.__version__)"
   ]
  },
  {
   "cell_type": "markdown",
   "id": "c897023f",
   "metadata": {},
   "source": [
    "## --------------------------------------------------------------------------------------------------\n",
    "# 1. Scipy : high-level scientific computing"
   ]
  },
  {
   "cell_type": "markdown",
   "id": "e2793e05",
   "metadata": {},
   "source": [
    "The scipy package contains various toolboxes dedicated to common issues in scientific computing.\n",
    "Its different submodules correspond to different applications, such as interpolation, integration, optimization, image processing, statistics, special functions, etc.\n",
    "\n",
    "scipy is the core package for scientific routines in Python; it is meant to operate efficiently on numpy arrays, so that numpy and scipy work hand in hand."
   ]
  },
  {
   "cell_type": "markdown",
   "id": "018cded2",
   "metadata": {},
   "source": [
    "# SciPy functionality\n",
    "\n",
    "https://docs.scipy.org/doc/scipy/tutorial/index.html#user-guide"
   ]
  },
  {
   "cell_type": "markdown",
   "id": "0f86ce1c",
   "metadata": {},
   "source": [
    "## <span style='background :yellow' >  Linear algebra operations: scipy.linalg </span>"
   ]
  },
  {
   "cell_type": "code",
   "execution_count": 289,
   "id": "3efeedc2",
   "metadata": {},
   "outputs": [],
   "source": [
    "# Linear Algebra (scipy.linalg)\n",
    "\n",
    "from scipy import linalg"
   ]
  },
  {
   "cell_type": "code",
   "execution_count": 290,
   "id": "aed1cfce",
   "metadata": {},
   "outputs": [
    {
     "data": {
      "text/plain": [
       "array([[1, 3, 5],\n",
       "       [2, 5, 1],\n",
       "       [2, 3, 8]])"
      ]
     },
     "execution_count": 290,
     "metadata": {},
     "output_type": "execute_result"
    }
   ],
   "source": [
    "A = np.array([[1,3,5],[2,5,1],[2,3,8]])\n",
    "A"
   ]
  },
  {
   "cell_type": "code",
   "execution_count": 291,
   "id": "eef924e1",
   "metadata": {},
   "outputs": [
    {
     "data": {
      "text/latex": [
       "$\\displaystyle \\left[\\begin{matrix}1 & 3 & 5\\\\2 & 5 & 1\\\\2 & 3 & 8\\end{matrix}\\right]$"
      ],
      "text/plain": [
       "Matrix([\n",
       "[1, 3, 5],\n",
       "[2, 5, 1],\n",
       "[2, 3, 8]])"
      ]
     },
     "execution_count": 291,
     "metadata": {},
     "output_type": "execute_result"
    }
   ],
   "source": [
    "sp.Matrix(A)  #  "
   ]
  },
  {
   "cell_type": "code",
   "execution_count": 292,
   "id": "3b4ab503",
   "metadata": {},
   "outputs": [
    {
     "data": {
      "text/plain": [
       "-25.000000000000004"
      ]
     },
     "execution_count": 292,
     "metadata": {},
     "output_type": "execute_result"
    }
   ],
   "source": [
    "# The scipy.linalg.det() function computes the determinant of a square matrix:\n",
    "det = linalg.det(A)\n",
    "det"
   ]
  },
  {
   "cell_type": "code",
   "execution_count": 293,
   "id": "fdea1e62",
   "metadata": {},
   "outputs": [
    {
     "data": {
      "text/plain": [
       "-25"
      ]
     },
     "execution_count": 293,
     "metadata": {},
     "output_type": "execute_result"
    }
   ],
   "source": [
    "round(det)"
   ]
  },
  {
   "cell_type": "code",
   "execution_count": 294,
   "id": "ce9362d5",
   "metadata": {},
   "outputs": [
    {
     "data": {
      "text/plain": [
       "array([[-1.48,  0.36,  0.88],\n",
       "       [ 0.56,  0.08, -0.36],\n",
       "       [ 0.16, -0.12,  0.04]])"
      ]
     },
     "execution_count": 294,
     "metadata": {},
     "output_type": "execute_result"
    }
   ],
   "source": [
    "B = linalg.inv(A)  # The scipy.linalg.inv() function computes the inverse of a square matrix:\n",
    "B"
   ]
  },
  {
   "cell_type": "code",
   "execution_count": 295,
   "id": "bd25f7f1",
   "metadata": {},
   "outputs": [
    {
     "data": {
      "text/latex": [
       "$\\displaystyle \\left[\\begin{matrix}-1.48 & 0.36 & 0.88\\\\0.56 & 0.08 & -0.36\\\\0.16 & -0.12 & 0.04\\end{matrix}\\right]$"
      ],
      "text/plain": [
       "Matrix([\n",
       "[-1.48,  0.36,  0.88],\n",
       "[ 0.56,  0.08, -0.36],\n",
       "[ 0.16, -0.12,  0.04]])"
      ]
     },
     "execution_count": 295,
     "metadata": {},
     "output_type": "execute_result"
    }
   ],
   "source": [
    "sp.Matrix(B)"
   ]
  },
  {
   "cell_type": "markdown",
   "id": "ab4d8eba",
   "metadata": {},
   "source": [
    "#### Double check   : $A A ^{-1} = 1$"
   ]
  },
  {
   "cell_type": "code",
   "execution_count": 296,
   "id": "d05a9f7a",
   "metadata": {},
   "outputs": [
    {
     "data": {
      "text/plain": [
       "array([[ 1.00000000e+00, -1.11022302e-16, -5.55111512e-17],\n",
       "       [ 3.05311332e-16,  1.00000000e+00,  1.87350135e-16],\n",
       "       [ 2.22044605e-16, -1.11022302e-16,  1.00000000e+00]])"
      ]
     },
     "execution_count": 296,
     "metadata": {},
     "output_type": "execute_result"
    }
   ],
   "source": [
    "A @ B"
   ]
  },
  {
   "cell_type": "code",
   "execution_count": 297,
   "id": "467f3991",
   "metadata": {},
   "outputs": [
    {
     "data": {
      "text/plain": [
       "array([[ 1.00000000e+00, -1.11022302e-16, -5.55111512e-17],\n",
       "       [ 3.05311332e-16,  1.00000000e+00,  1.87350135e-16],\n",
       "       [ 2.22044605e-16, -1.11022302e-16,  1.00000000e+00]])"
      ]
     },
     "execution_count": 297,
     "metadata": {},
     "output_type": "execute_result"
    }
   ],
   "source": [
    "C = np.matmul(A,B)\n",
    "C"
   ]
  },
  {
   "cell_type": "code",
   "execution_count": 298,
   "id": "4404c66b",
   "metadata": {},
   "outputs": [
    {
     "data": {
      "text/plain": [
       "array([[ 1.00000000e+00, -1.11022302e-16, -5.55111512e-17],\n",
       "       [ 3.05311332e-16,  1.00000000e+00,  1.87350135e-16],\n",
       "       [ 2.22044605e-16, -1.11022302e-16,  1.00000000e+00]])"
      ]
     },
     "execution_count": 298,
     "metadata": {},
     "output_type": "execute_result"
    }
   ],
   "source": [
    "np.dot(A,B)"
   ]
  },
  {
   "cell_type": "code",
   "execution_count": 299,
   "id": "930d496d",
   "metadata": {},
   "outputs": [
    {
     "name": "stderr",
     "output_type": "stream",
     "text": [
      "C:\\Users\\asus\\AppData\\Local\\Temp\\ipykernel_5452\\3246245291.py:1: DeprecationWarning: scipy.around is deprecated and will be removed in SciPy 2.0.0, use numpy.around instead\n",
      "  sc.around(C)\n"
     ]
    },
    {
     "data": {
      "text/plain": [
       "array([[ 1., -0., -0.],\n",
       "       [ 0.,  1.,  0.],\n",
       "       [ 0., -0.,  1.]])"
      ]
     },
     "execution_count": 299,
     "metadata": {},
     "output_type": "execute_result"
    }
   ],
   "source": [
    "sc.around(C)"
   ]
  },
  {
   "cell_type": "code",
   "execution_count": 300,
   "id": "e9ffcf38",
   "metadata": {},
   "outputs": [
    {
     "data": {
      "text/plain": [
       "array([[ 1., -0., -0.],\n",
       "       [ 0.,  1.,  0.],\n",
       "       [ 0., -0.,  1.]])"
      ]
     },
     "execution_count": 300,
     "metadata": {},
     "output_type": "execute_result"
    }
   ],
   "source": [
    "D = np.around(C)\n",
    "D"
   ]
  },
  {
   "cell_type": "code",
   "execution_count": 301,
   "id": "ffa7cde4",
   "metadata": {},
   "outputs": [
    {
     "data": {
      "text/latex": [
       "$\\displaystyle \\left[\\begin{matrix}1.0 & 0 & 0\\\\0 & 1.0 & 0\\\\0 & 0 & 1.0\\end{matrix}\\right]$"
      ],
      "text/plain": [
       "Matrix([\n",
       "[1.0,   0,   0],\n",
       "[  0, 1.0,   0],\n",
       "[  0,   0, 1.0]])"
      ]
     },
     "execution_count": 301,
     "metadata": {},
     "output_type": "execute_result"
    }
   ],
   "source": [
    "sp.Matrix(D)"
   ]
  },
  {
   "cell_type": "code",
   "execution_count": 302,
   "id": "18520092",
   "metadata": {},
   "outputs": [
    {
     "data": {
      "text/plain": [
       "array([[3, 2],\n",
       "       [6, 4]])"
      ]
     },
     "execution_count": 302,
     "metadata": {},
     "output_type": "execute_result"
    }
   ],
   "source": [
    "F = np.array([[3, 2],[6, 4]])\n",
    "F"
   ]
  },
  {
   "cell_type": "code",
   "execution_count": 303,
   "id": "bd05602f",
   "metadata": {},
   "outputs": [
    {
     "data": {
      "text/latex": [
       "$\\displaystyle \\left[\\begin{matrix}3 & 2\\\\6 & 4\\end{matrix}\\right]$"
      ],
      "text/plain": [
       "Matrix([\n",
       "[3, 2],\n",
       "[6, 4]])"
      ]
     },
     "execution_count": 303,
     "metadata": {},
     "output_type": "execute_result"
    }
   ],
   "source": [
    "sp.Matrix(F)"
   ]
  },
  {
   "cell_type": "code",
   "execution_count": 304,
   "id": "0bf53299",
   "metadata": {},
   "outputs": [
    {
     "data": {
      "text/plain": [
       "0.0"
      ]
     },
     "execution_count": 304,
     "metadata": {},
     "output_type": "execute_result"
    }
   ],
   "source": [
    "linalg.det(F)"
   ]
  },
  {
   "cell_type": "code",
   "execution_count": 305,
   "id": "f16fcee2",
   "metadata": {},
   "outputs": [
    {
     "ename": "LinAlgError",
     "evalue": "singular matrix",
     "output_type": "error",
     "traceback": [
      "\u001b[1;31m---------------------------------------------------------------------------\u001b[0m",
      "\u001b[1;31mLinAlgError\u001b[0m                               Traceback (most recent call last)",
      "Input \u001b[1;32mIn [305]\u001b[0m, in \u001b[0;36m<cell line: 1>\u001b[1;34m()\u001b[0m\n\u001b[1;32m----> 1\u001b[0m \u001b[43mlinalg\u001b[49m\u001b[38;5;241;43m.\u001b[39;49m\u001b[43minv\u001b[49m\u001b[43m(\u001b[49m\u001b[43mF\u001b[49m\u001b[43m)\u001b[49m\n",
      "File \u001b[1;32mD:\\Software\\AnacondaNasb\\lib\\site-packages\\scipy\\linalg\\basic.py:968\u001b[0m, in \u001b[0;36minv\u001b[1;34m(a, overwrite_a, check_finite)\u001b[0m\n\u001b[0;32m    966\u001b[0m     inv_a, info \u001b[38;5;241m=\u001b[39m getri(lu, piv, lwork\u001b[38;5;241m=\u001b[39mlwork, overwrite_lu\u001b[38;5;241m=\u001b[39m\u001b[38;5;241m1\u001b[39m)\n\u001b[0;32m    967\u001b[0m \u001b[38;5;28;01mif\u001b[39;00m info \u001b[38;5;241m>\u001b[39m \u001b[38;5;241m0\u001b[39m:\n\u001b[1;32m--> 968\u001b[0m     \u001b[38;5;28;01mraise\u001b[39;00m LinAlgError(\u001b[38;5;124m\"\u001b[39m\u001b[38;5;124msingular matrix\u001b[39m\u001b[38;5;124m\"\u001b[39m)\n\u001b[0;32m    969\u001b[0m \u001b[38;5;28;01mif\u001b[39;00m info \u001b[38;5;241m<\u001b[39m \u001b[38;5;241m0\u001b[39m:\n\u001b[0;32m    970\u001b[0m     \u001b[38;5;28;01mraise\u001b[39;00m \u001b[38;5;167;01mValueError\u001b[39;00m(\u001b[38;5;124m'\u001b[39m\u001b[38;5;124millegal value in \u001b[39m\u001b[38;5;132;01m%d\u001b[39;00m\u001b[38;5;124m-th argument of internal \u001b[39m\u001b[38;5;124m'\u001b[39m\n\u001b[0;32m    971\u001b[0m                      \u001b[38;5;124m'\u001b[39m\u001b[38;5;124mgetrf|getri\u001b[39m\u001b[38;5;124m'\u001b[39m \u001b[38;5;241m%\u001b[39m \u001b[38;5;241m-\u001b[39minfo)\n",
      "\u001b[1;31mLinAlgError\u001b[0m: singular matrix"
     ]
    }
   ],
   "source": [
    "linalg.inv(F)  # the inverse of a singular matrix (its determinant is zero) will raise LinAlgError"
   ]
  },
  {
   "cell_type": "markdown",
   "id": "81ae0515",
   "metadata": {},
   "source": [
    "### Eigenvalue Problems"
   ]
  },
  {
   "cell_type": "code",
   "execution_count": 306,
   "id": "8a8bed39",
   "metadata": {},
   "outputs": [
    {
     "data": {
      "text/plain": [
       "array([[ 0., -1.],\n",
       "       [ 1.,  0.]])"
      ]
     },
     "execution_count": 306,
     "metadata": {},
     "output_type": "execute_result"
    }
   ],
   "source": [
    "a = np.array([[0., -1.], [1., 0.]])\n",
    "a"
   ]
  },
  {
   "cell_type": "code",
   "execution_count": 307,
   "id": "2f60b92e",
   "metadata": {},
   "outputs": [
    {
     "data": {
      "text/plain": [
       "array([0.+1.j, 0.-1.j])"
      ]
     },
     "execution_count": 307,
     "metadata": {},
     "output_type": "execute_result"
    }
   ],
   "source": [
    "linalg.eigvals(a)"
   ]
  },
  {
   "cell_type": "code",
   "execution_count": 308,
   "id": "12acdad8",
   "metadata": {},
   "outputs": [],
   "source": [
    "eigen_value, eignevector = linalg.eig(a)"
   ]
  },
  {
   "cell_type": "code",
   "execution_count": 309,
   "id": "313aadab",
   "metadata": {},
   "outputs": [
    {
     "data": {
      "text/plain": [
       "array([0.+1.j, 0.-1.j])"
      ]
     },
     "execution_count": 309,
     "metadata": {},
     "output_type": "execute_result"
    }
   ],
   "source": [
    "eigen_value"
   ]
  },
  {
   "cell_type": "code",
   "execution_count": 310,
   "id": "9fb2367d",
   "metadata": {},
   "outputs": [
    {
     "data": {
      "text/plain": [
       "array([[0.70710678+0.j        , 0.70710678-0.j        ],\n",
       "       [0.        -0.70710678j, 0.        +0.70710678j]])"
      ]
     },
     "execution_count": 310,
     "metadata": {},
     "output_type": "execute_result"
    }
   ],
   "source": [
    "eignevector"
   ]
  },
  {
   "cell_type": "code",
   "execution_count": 311,
   "id": "ffedb2e2",
   "metadata": {},
   "outputs": [
    {
     "data": {
      "text/plain": [
       "array([0.70710678+0.j, 0.70710678-0.j])"
      ]
     },
     "execution_count": 311,
     "metadata": {},
     "output_type": "execute_result"
    }
   ],
   "source": [
    "eignevector[0]"
   ]
  },
  {
   "cell_type": "code",
   "execution_count": 312,
   "id": "dee88b38",
   "metadata": {},
   "outputs": [
    {
     "data": {
      "text/plain": [
       "array([0.-0.70710678j, 0.+0.70710678j])"
      ]
     },
     "execution_count": 312,
     "metadata": {},
     "output_type": "execute_result"
    }
   ],
   "source": [
    "eignevector[1]"
   ]
  },
  {
   "cell_type": "markdown",
   "id": "e248ef0c",
   "metadata": {},
   "source": [
    "## singular-value decomposition (SVD)\n",
    "In linear algebra, the Singular Value Decomposition (SVD) of a matrix is a factorization of that matrix into three matrices.\n",
    "It has some interesting algebraic properties and conveys important geometrical and theoretical insights about \n",
    "linear transformations.  It also has some important applications in data science.\n",
    "\n",
    "- Data Reduction (Dimentionality Reduction) in big data\n",
    "- Regression\n",
    "- PCA\n",
    "-  Statistics and Signal Processing"
   ]
  },
  {
   "cell_type": "code",
   "execution_count": 54,
   "id": "6b89cba7",
   "metadata": {},
   "outputs": [
    {
     "data": {
      "text/plain": [
       "array([[1, 1, 2],\n",
       "       [3, 4, 5],\n",
       "       [6, 7, 9]])"
      ]
     },
     "execution_count": 54,
     "metadata": {},
     "output_type": "execute_result"
    }
   ],
   "source": [
    "arr = np.arange(9).reshape((3, 3)) + np.diag([1, 0, 1])\n",
    "arr"
   ]
  },
  {
   "cell_type": "code",
   "execution_count": 55,
   "id": "33d653d2",
   "metadata": {},
   "outputs": [],
   "source": [
    "uarr, spec, vharr = linalg.svd(arr)"
   ]
  },
  {
   "cell_type": "code",
   "execution_count": 56,
   "id": "6f3d1d1f",
   "metadata": {},
   "outputs": [
    {
     "data": {
      "text/plain": [
       "array([[-0.1617463 , -0.98659196,  0.02178164],\n",
       "       [-0.47456365,  0.09711667,  0.87484724],\n",
       "       [-0.86523261,  0.13116653, -0.48390895]])"
      ]
     },
     "execution_count": 56,
     "metadata": {},
     "output_type": "execute_result"
    }
   ],
   "source": [
    "uarr"
   ]
  },
  {
   "cell_type": "code",
   "execution_count": 57,
   "id": "b4378106",
   "metadata": {},
   "outputs": [
    {
     "data": {
      "text/plain": [
       "array([14.88982544,  0.45294236,  0.29654967])"
      ]
     },
     "execution_count": 57,
     "metadata": {},
     "output_type": "execute_result"
    }
   ],
   "source": [
    "spec"
   ]
  },
  {
   "cell_type": "code",
   "execution_count": 58,
   "id": "8830352e",
   "metadata": {},
   "outputs": [
    {
     "data": {
      "text/plain": [
       "array([[-0.45513179, -0.54511245, -0.70406496],\n",
       "       [ 0.20258033,  0.70658087, -0.67801525],\n",
       "       [-0.86707339,  0.45121601,  0.21115836]])"
      ]
     },
     "execution_count": 58,
     "metadata": {},
     "output_type": "execute_result"
    }
   ],
   "source": [
    "vharr"
   ]
  },
  {
   "cell_type": "code",
   "execution_count": 59,
   "id": "faab0a77",
   "metadata": {},
   "outputs": [
    {
     "data": {
      "text/plain": [
       "array([[14.88982544,  0.        ,  0.        ],\n",
       "       [ 0.        ,  0.45294236,  0.        ],\n",
       "       [ 0.        ,  0.        ,  0.29654967]])"
      ]
     },
     "execution_count": 59,
     "metadata": {},
     "output_type": "execute_result"
    }
   ],
   "source": [
    "sarr = np.diag(spec)\n",
    "sarr"
   ]
  },
  {
   "cell_type": "code",
   "execution_count": 60,
   "id": "6c033799",
   "metadata": {},
   "outputs": [
    {
     "data": {
      "text/plain": [
       "array([[1., 1., 2.],\n",
       "       [3., 4., 5.],\n",
       "       [6., 7., 9.]])"
      ]
     },
     "execution_count": 60,
     "metadata": {},
     "output_type": "execute_result"
    }
   ],
   "source": [
    "svd_mat = uarr.dot(sarr).dot(vharr)\n",
    "svd_mat"
   ]
  },
  {
   "cell_type": "code",
   "execution_count": 61,
   "id": "edbeaae0",
   "metadata": {},
   "outputs": [
    {
     "data": {
      "text/plain": [
       "array([[False, False, False],\n",
       "       [ True, False,  True],\n",
       "       [False,  True,  True]])"
      ]
     },
     "execution_count": 61,
     "metadata": {},
     "output_type": "execute_result"
    }
   ],
   "source": [
    "arr == svd_mat"
   ]
  },
  {
   "cell_type": "code",
   "execution_count": 62,
   "id": "8902efd0",
   "metadata": {},
   "outputs": [
    {
     "data": {
      "text/plain": [
       "True"
      ]
     },
     "execution_count": 62,
     "metadata": {},
     "output_type": "execute_result"
    }
   ],
   "source": [
    "# numpy.allclose : Returns True if two arrays are element-wise equal within a tolerance.\n",
    "\n",
    "np.allclose(svd_mat, arr)   "
   ]
  },
  {
   "cell_type": "markdown",
   "id": "6533c6d6",
   "metadata": {},
   "source": [
    "# <span style='background :yellow' >  Special functions: scipy.special </span>\n",
    "Special functions are transcendental functions. The docstring of the **scipy.special** module is wellwritten, so we won’t list all functions here. Frequently used ones are:\n",
    "\n",
    "- Bessel function, such as scipy.special.jn() (nth integer order Bessel function)\n",
    "\n",
    "- Elliptic function (scipy.special.ellipj() for the Jacobian elliptic function, . . . )\n",
    "\n",
    "- Gamma function: scipy.special.gamma(), also note scipy.special.gammaln() which will give\n",
    "the log of Gamma to a higher numerical precision.\n",
    "\n",
    "- Erf, the area under a Gaussian curve: scipy.special.erf()   \n",
    ".                         \n",
    ".                           \n",
    ".                           \n",
    "https://docs.scipy.org/doc/scipy/reference/special.html "
   ]
  },
  {
   "cell_type": "code",
   "execution_count": 63,
   "id": "d95a0b79",
   "metadata": {},
   "outputs": [],
   "source": [
    "from scipy.special import cbrt\n",
    "from scipy.special import gamma"
   ]
  },
  {
   "cell_type": "code",
   "execution_count": 64,
   "id": "87da0831",
   "metadata": {},
   "outputs": [
    {
     "name": "stdout",
     "output_type": "stream",
     "text": [
      "4.0\n",
      "3.0\n"
     ]
    }
   ],
   "source": [
    "print(cbrt(64))    # cube root\n",
    "print(cbrt(27)) "
   ]
  },
  {
   "cell_type": "markdown",
   "id": "349644e9",
   "metadata": {},
   "source": [
    "## gamma()\n",
    "It is known as Gamma function. It is the generalized factorial since z*gamma(z) = gamma(z+1) and \n",
    "#### $\\Gamma(n+1)= n!$ , for a natural number ‘n’."
   ]
  },
  {
   "cell_type": "code",
   "execution_count": 65,
   "id": "a2c4bb38",
   "metadata": {},
   "outputs": [
    {
     "data": {
      "text/plain": [
       "11.63172839656745"
      ]
     },
     "execution_count": 65,
     "metadata": {},
     "output_type": "execute_result"
    }
   ],
   "source": [
    "gamma(4.5)"
   ]
  },
  {
   "cell_type": "code",
   "execution_count": 66,
   "id": "31fad619",
   "metadata": {},
   "outputs": [
    {
     "name": "stderr",
     "output_type": "stream",
     "text": [
      "C:\\Users\\asus\\AppData\\Local\\Temp\\ipykernel_5452\\661714474.py:1: DeprecationWarning: Using factorial() with floats is deprecated\n",
      "  np.math.factorial(4.5)\n"
     ]
    },
    {
     "ename": "ValueError",
     "evalue": "factorial() only accepts integral values",
     "output_type": "error",
     "traceback": [
      "\u001b[1;31m---------------------------------------------------------------------------\u001b[0m",
      "\u001b[1;31mValueError\u001b[0m                                Traceback (most recent call last)",
      "Input \u001b[1;32mIn [66]\u001b[0m, in \u001b[0;36m<cell line: 1>\u001b[1;34m()\u001b[0m\n\u001b[1;32m----> 1\u001b[0m \u001b[43mnp\u001b[49m\u001b[38;5;241;43m.\u001b[39;49m\u001b[43mmath\u001b[49m\u001b[38;5;241;43m.\u001b[39;49m\u001b[43mfactorial\u001b[49m\u001b[43m(\u001b[49m\u001b[38;5;241;43m4.5\u001b[39;49m\u001b[43m)\u001b[49m\n",
      "\u001b[1;31mValueError\u001b[0m: factorial() only accepts integral values"
     ]
    }
   ],
   "source": [
    "np.math.factorial(4.5)"
   ]
  },
  {
   "cell_type": "code",
   "execution_count": 67,
   "id": "cad0edf9",
   "metadata": {},
   "outputs": [
    {
     "data": {
      "text/plain": [
       "24.0"
      ]
     },
     "execution_count": 67,
     "metadata": {},
     "output_type": "execute_result"
    }
   ],
   "source": [
    "gamma(5)"
   ]
  },
  {
   "cell_type": "code",
   "execution_count": 68,
   "id": "69894da6",
   "metadata": {},
   "outputs": [
    {
     "data": {
      "text/plain": [
       "24.0"
      ]
     },
     "execution_count": 68,
     "metadata": {},
     "output_type": "execute_result"
    }
   ],
   "source": [
    "sc.special.factorial(4)"
   ]
  },
  {
   "cell_type": "code",
   "execution_count": 69,
   "id": "3307c647",
   "metadata": {},
   "outputs": [
    {
     "data": {
      "text/plain": [
       "24"
      ]
     },
     "execution_count": 69,
     "metadata": {},
     "output_type": "execute_result"
    }
   ],
   "source": [
    "np.math.factorial(4)"
   ]
  },
  {
   "cell_type": "code",
   "execution_count": 70,
   "id": "0bdfd1ca",
   "metadata": {},
   "outputs": [
    {
     "data": {
      "text/plain": [
       "array([ 1.,  2.,  6., 24.])"
      ]
     },
     "execution_count": 70,
     "metadata": {},
     "output_type": "execute_result"
    }
   ],
   "source": [
    "sc.special.factorial([1,2,3,4])"
   ]
  },
  {
   "cell_type": "markdown",
   "id": "f21cc47d",
   "metadata": {},
   "source": [
    "# <span style='background :yellow' >  Interpolation: scipy.interpolate </span>\n",
    "\n",
    "scipy.interpolate is useful for fitting a function from experimental data and thus evaluating points\n",
    "where no measure exists. The module is based on the FITPACK Fortran subroutines : http://www.netlib.org/dierckx/index.html\n",
    "\n",
    "### A demo of 1D interpolation"
   ]
  },
  {
   "cell_type": "code",
   "execution_count": 313,
   "id": "eff6ca4c",
   "metadata": {},
   "outputs": [],
   "source": [
    "from scipy.interpolate import interp1d\n",
    "from scipy import interpolate"
   ]
  },
  {
   "cell_type": "code",
   "execution_count": 72,
   "id": "169765c4",
   "metadata": {},
   "outputs": [
    {
     "data": {
      "text/plain": [
       "array([0.        , 0.07142857, 0.14285714, 0.21428571, 0.28571429,\n",
       "       0.35714286, 0.42857143, 0.5       , 0.57142857, 0.64285714,\n",
       "       0.71428571, 0.78571429, 0.85714286, 0.92857143, 1.        ])"
      ]
     },
     "execution_count": 72,
     "metadata": {},
     "output_type": "execute_result"
    }
   ],
   "source": [
    "measured_time = np.linspace(0, 1, 15)\n",
    "measured_time"
   ]
  },
  {
   "cell_type": "code",
   "execution_count": 73,
   "id": "9acfbe99",
   "metadata": {},
   "outputs": [
    {
     "data": {
      "text/plain": [
       "array([ 0.03723645, -0.03960501,  0.01855027, -0.0645561 , -0.05006781,\n",
       "       -0.06337093, -0.06884267, -0.03682405,  0.01303659, -0.08897064,\n",
       "        0.07391262,  0.03505744,  0.00915147, -0.09753047,  0.01593363])"
      ]
     },
     "execution_count": 73,
     "metadata": {},
     "output_type": "execute_result"
    }
   ],
   "source": [
    "noise = (np.random.random(15)*2 - 1) * 1e-1\n",
    "noise"
   ]
  },
  {
   "cell_type": "code",
   "execution_count": 74,
   "id": "a2d19951",
   "metadata": {},
   "outputs": [
    {
     "data": {
      "text/plain": [
       "array([ 0.03723645,  0.39427873,  0.80038176,  0.91037182,  0.9248601 ,\n",
       "        0.71846056,  0.36504107, -0.03682405, -0.42084715, -0.87080212,\n",
       "       -0.90101529, -0.93987047, -0.77268001, -0.53141421,  0.01593363])"
      ]
     },
     "execution_count": 74,
     "metadata": {},
     "output_type": "execute_result"
    }
   ],
   "source": [
    "measures = np.sin(2 * np.pi * measured_time) + noise\n",
    "measures"
   ]
  },
  {
   "cell_type": "code",
   "execution_count": 75,
   "id": "cb4ab568",
   "metadata": {},
   "outputs": [
    {
     "data": {
      "image/png": "[encoded data removed]",
      "text/plain": [
       "<Figure size 640x480 with 1 Axes>"
      ]
     },
     "metadata": {},
     "output_type": "display_data"
    }
   ],
   "source": [
    "plt.plot(measured_time,measures)\n",
    "plt.show()"
   ]
  },
  {
   "cell_type": "code",
   "execution_count": 76,
   "id": "d56bafe5",
   "metadata": {},
   "outputs": [
    {
     "data": {
      "image/png": "[encoded data removed]",
      "text/plain": [
       "<Figure size 640x480 with 1 Axes>"
      ]
     },
     "metadata": {},
     "output_type": "display_data"
    }
   ],
   "source": [
    "plt.plot(measured_time, measures, 'o', ms=5, label='measures')\n",
    "plt.show()"
   ]
  },
  {
   "cell_type": "code",
   "execution_count": 77,
   "id": "d24f13fa",
   "metadata": {},
   "outputs": [],
   "source": [
    "# scipy.interpolate.interp1d can build a linear interpolation function:\n",
    "\n",
    "linear_interp = interp1d(measured_time, measures)"
   ]
  },
  {
   "cell_type": "code",
   "execution_count": 78,
   "id": "62ffbb5d",
   "metadata": {},
   "outputs": [],
   "source": [
    "interpolation_time = np.linspace(0, 1, 50)"
   ]
  },
  {
   "cell_type": "code",
   "execution_count": 79,
   "id": "bcf71b3f",
   "metadata": {},
   "outputs": [],
   "source": [
    "linear_results = linear_interp(interpolation_time)"
   ]
  },
  {
   "cell_type": "code",
   "execution_count": 80,
   "id": "c4bbb755",
   "metadata": {},
   "outputs": [
    {
     "data": {
      "image/png": "[encoded data removed]",
      "text/plain": [
       "<Figure size 640x480 with 1 Axes>"
      ]
     },
     "metadata": {},
     "output_type": "display_data"
    }
   ],
   "source": [
    "plt.plot(interpolation_time, linear_results, label='linear interp')\n",
    "plt.show()"
   ]
  },
  {
   "cell_type": "code",
   "execution_count": 81,
   "id": "cfdbd34a",
   "metadata": {},
   "outputs": [],
   "source": [
    "# A cubic interpolation can also be selected by providing the kind optional keyword argument:\n",
    "\n",
    "cubic_interp = interp1d(measured_time, measures, kind='cubic')\n",
    "cubic_results = cubic_interp(interpolation_time)"
   ]
  },
  {
   "cell_type": "code",
   "execution_count": 82,
   "id": "d0dde567",
   "metadata": {},
   "outputs": [
    {
     "data": {
      "image/png": "[encoded data removed]",
      "text/plain": [
       "<Figure size 640x480 with 1 Axes>"
      ]
     },
     "metadata": {},
     "output_type": "display_data"
    }
   ],
   "source": [
    "plt.plot(interpolation_time, cubic_results, label='cubic interp')\n",
    "plt.show()"
   ]
  },
  {
   "cell_type": "code",
   "execution_count": 83,
   "id": "b018f7d7",
   "metadata": {},
   "outputs": [],
   "source": [
    "quad_interp = interp1d(measured_time, measures, kind='quadratic')\n",
    "quad_results = quad_interp(interpolation_time)"
   ]
  },
  {
   "cell_type": "code",
   "execution_count": 84,
   "id": "cb14f42f",
   "metadata": {},
   "outputs": [
    {
     "data": {
      "image/png": "[encoded data removed]",
      "text/plain": [
       "<Figure size 640x480 with 1 Axes>"
      ]
     },
     "metadata": {},
     "output_type": "display_data"
    }
   ],
   "source": [
    "plt.plot(interpolation_time, quad_results, label='quadratic')\n",
    "plt.show()"
   ]
  },
  {
   "cell_type": "code",
   "execution_count": 85,
   "id": "573d2cfe",
   "metadata": {},
   "outputs": [
    {
     "data": {
      "image/png": "[encoded data removed]",
      "text/plain": [
       "<Figure size 640x480 with 1 Axes>"
      ]
     },
     "metadata": {},
     "output_type": "display_data"
    }
   ],
   "source": [
    "plt.plot(measured_time, measures, 'o', ms=5, label='measures')\n",
    "plt.plot(interpolation_time, linear_results, label='linear interp')\n",
    "plt.plot(interpolation_time, cubic_results, label='cubic interp')\n",
    "plt.legend()\n",
    "plt.show()"
   ]
  },
  {
   "cell_type": "markdown",
   "id": "2b74c021",
   "metadata": {},
   "source": [
    "## Another Example"
   ]
  },
  {
   "cell_type": "code",
   "execution_count": 319,
   "id": "f89e4f66",
   "metadata": {},
   "outputs": [
    {
     "data": {
      "image/png": "[encoded data removed]",
      "text/plain": [
       "<Figure size 640x480 with 1 Axes>"
      ]
     },
     "metadata": {},
     "output_type": "display_data"
    }
   ],
   "source": [
    "x = np.arange(0, 15)\n",
    "y = np.exp(-x)\n",
    "plt.plot(x, y)\n",
    "plt.show()"
   ]
  },
  {
   "cell_type": "code",
   "execution_count": 320,
   "id": "bddb78b2",
   "metadata": {},
   "outputs": [],
   "source": [
    "f = interpolate.interp1d(x, y)\n",
    "xnew = np.arange(0, 14, 0.1)\n",
    "ynew = f(xnew)   # use interpolation function returned by `interp1d`"
   ]
  },
  {
   "cell_type": "code",
   "execution_count": 321,
   "id": "b571fe66",
   "metadata": {},
   "outputs": [
    {
     "data": {
      "image/png": "[encoded data removed]",
      "text/plain": [
       "<Figure size 640x480 with 1 Axes>"
      ]
     },
     "metadata": {},
     "output_type": "display_data"
    }
   ],
   "source": [
    "plt.plot(x, y, 'o', xnew, ynew, '-')\n",
    "plt.show()"
   ]
  },
  {
   "cell_type": "code",
   "execution_count": 322,
   "id": "f9823e2b",
   "metadata": {},
   "outputs": [
    {
     "data": {
      "text/plain": [
       "140"
      ]
     },
     "execution_count": 322,
     "metadata": {},
     "output_type": "execute_result"
    }
   ],
   "source": [
    "len(ynew)"
   ]
  },
  {
   "cell_type": "code",
   "execution_count": 323,
   "id": "50c263e5",
   "metadata": {},
   "outputs": [
    {
     "data": {
      "text/plain": [
       "0.01831563888873418"
      ]
     },
     "execution_count": 323,
     "metadata": {},
     "output_type": "execute_result"
    }
   ],
   "source": [
    "y[4]"
   ]
  },
  {
   "cell_type": "code",
   "execution_count": 324,
   "id": "f21c5ee5",
   "metadata": {},
   "outputs": [
    {
     "data": {
      "text/plain": [
       "0.01831563888873418"
      ]
     },
     "execution_count": 324,
     "metadata": {},
     "output_type": "execute_result"
    }
   ],
   "source": [
    "ynew[40]"
   ]
  },
  {
   "cell_type": "code",
   "execution_count": 325,
   "id": "487e6c74",
   "metadata": {},
   "outputs": [
    {
     "data": {
      "text/plain": [
       "9.74408787891316e-07"
      ]
     },
     "execution_count": 325,
     "metadata": {},
     "output_type": "execute_result"
    }
   ],
   "source": [
    "ynew[139]"
   ]
  },
  {
   "cell_type": "code",
   "execution_count": 326,
   "id": "98a13732",
   "metadata": {},
   "outputs": [
    {
     "ename": "IndexError",
     "evalue": "index 140 is out of bounds for axis 0 with size 140",
     "output_type": "error",
     "traceback": [
      "\u001b[1;31m---------------------------------------------------------------------------\u001b[0m",
      "\u001b[1;31mIndexError\u001b[0m                                Traceback (most recent call last)",
      "Input \u001b[1;32mIn [326]\u001b[0m, in \u001b[0;36m<cell line: 1>\u001b[1;34m()\u001b[0m\n\u001b[1;32m----> 1\u001b[0m \u001b[43mynew\u001b[49m\u001b[43m[\u001b[49m\u001b[38;5;241;43m140\u001b[39;49m\u001b[43m]\u001b[49m\n",
      "\u001b[1;31mIndexError\u001b[0m: index 140 is out of bounds for axis 0 with size 140"
     ]
    }
   ],
   "source": [
    "ynew[140]"
   ]
  },
  {
   "cell_type": "markdown",
   "id": "df714c45",
   "metadata": {},
   "source": [
    "## Extrapolation"
   ]
  },
  {
   "cell_type": "code",
   "execution_count": 327,
   "id": "69512b08",
   "metadata": {},
   "outputs": [
    {
     "ename": "ValueError",
     "evalue": "A value in x_new is above the interpolation range.",
     "output_type": "error",
     "traceback": [
      "\u001b[1;31m---------------------------------------------------------------------------\u001b[0m",
      "\u001b[1;31mValueError\u001b[0m                                Traceback (most recent call last)",
      "Input \u001b[1;32mIn [327]\u001b[0m, in \u001b[0;36m<cell line: 1>\u001b[1;34m()\u001b[0m\n\u001b[1;32m----> 1\u001b[0m \u001b[43mf\u001b[49m\u001b[43m(\u001b[49m\u001b[38;5;241;43m16\u001b[39;49m\u001b[43m)\u001b[49m\n",
      "File \u001b[1;32mD:\\Software\\AnacondaNasb\\lib\\site-packages\\scipy\\interpolate\\polyint.py:78\u001b[0m, in \u001b[0;36m_Interpolator1D.__call__\u001b[1;34m(self, x)\u001b[0m\n\u001b[0;32m     57\u001b[0m \u001b[38;5;124;03m\"\"\"\u001b[39;00m\n\u001b[0;32m     58\u001b[0m \u001b[38;5;124;03mEvaluate the interpolant\u001b[39;00m\n\u001b[0;32m     59\u001b[0m \n\u001b[1;32m   (...)\u001b[0m\n\u001b[0;32m     75\u001b[0m \n\u001b[0;32m     76\u001b[0m \u001b[38;5;124;03m\"\"\"\u001b[39;00m\n\u001b[0;32m     77\u001b[0m x, x_shape \u001b[38;5;241m=\u001b[39m \u001b[38;5;28mself\u001b[39m\u001b[38;5;241m.\u001b[39m_prepare_x(x)\n\u001b[1;32m---> 78\u001b[0m y \u001b[38;5;241m=\u001b[39m \u001b[38;5;28;43mself\u001b[39;49m\u001b[38;5;241;43m.\u001b[39;49m\u001b[43m_evaluate\u001b[49m\u001b[43m(\u001b[49m\u001b[43mx\u001b[49m\u001b[43m)\u001b[49m\n\u001b[0;32m     79\u001b[0m \u001b[38;5;28;01mreturn\u001b[39;00m \u001b[38;5;28mself\u001b[39m\u001b[38;5;241m.\u001b[39m_finish_y(y, x_shape)\n",
      "File \u001b[1;32mD:\\Software\\AnacondaNasb\\lib\\site-packages\\scipy\\interpolate\\interpolate.py:684\u001b[0m, in \u001b[0;36minterp1d._evaluate\u001b[1;34m(self, x_new)\u001b[0m\n\u001b[0;32m    682\u001b[0m y_new \u001b[38;5;241m=\u001b[39m \u001b[38;5;28mself\u001b[39m\u001b[38;5;241m.\u001b[39m_call(\u001b[38;5;28mself\u001b[39m, x_new)\n\u001b[0;32m    683\u001b[0m \u001b[38;5;28;01mif\u001b[39;00m \u001b[38;5;129;01mnot\u001b[39;00m \u001b[38;5;28mself\u001b[39m\u001b[38;5;241m.\u001b[39m_extrapolate:\n\u001b[1;32m--> 684\u001b[0m     below_bounds, above_bounds \u001b[38;5;241m=\u001b[39m \u001b[38;5;28;43mself\u001b[39;49m\u001b[38;5;241;43m.\u001b[39;49m\u001b[43m_check_bounds\u001b[49m\u001b[43m(\u001b[49m\u001b[43mx_new\u001b[49m\u001b[43m)\u001b[49m\n\u001b[0;32m    685\u001b[0m     \u001b[38;5;28;01mif\u001b[39;00m \u001b[38;5;28mlen\u001b[39m(y_new) \u001b[38;5;241m>\u001b[39m \u001b[38;5;241m0\u001b[39m:\n\u001b[0;32m    686\u001b[0m         \u001b[38;5;66;03m# Note fill_value must be broadcast up to the proper size\u001b[39;00m\n\u001b[0;32m    687\u001b[0m         \u001b[38;5;66;03m# and flattened to work here\u001b[39;00m\n\u001b[0;32m    688\u001b[0m         y_new[below_bounds] \u001b[38;5;241m=\u001b[39m \u001b[38;5;28mself\u001b[39m\u001b[38;5;241m.\u001b[39m_fill_value_below\n",
      "File \u001b[1;32mD:\\Software\\AnacondaNasb\\lib\\site-packages\\scipy\\interpolate\\interpolate.py:716\u001b[0m, in \u001b[0;36minterp1d._check_bounds\u001b[1;34m(self, x_new)\u001b[0m\n\u001b[0;32m    713\u001b[0m     \u001b[38;5;28;01mraise\u001b[39;00m \u001b[38;5;167;01mValueError\u001b[39;00m(\u001b[38;5;124m\"\u001b[39m\u001b[38;5;124mA value in x_new is below the interpolation \u001b[39m\u001b[38;5;124m\"\u001b[39m\n\u001b[0;32m    714\u001b[0m                      \u001b[38;5;124m\"\u001b[39m\u001b[38;5;124mrange.\u001b[39m\u001b[38;5;124m\"\u001b[39m)\n\u001b[0;32m    715\u001b[0m \u001b[38;5;28;01mif\u001b[39;00m \u001b[38;5;28mself\u001b[39m\u001b[38;5;241m.\u001b[39mbounds_error \u001b[38;5;129;01mand\u001b[39;00m above_bounds\u001b[38;5;241m.\u001b[39many():\n\u001b[1;32m--> 716\u001b[0m     \u001b[38;5;28;01mraise\u001b[39;00m \u001b[38;5;167;01mValueError\u001b[39;00m(\u001b[38;5;124m\"\u001b[39m\u001b[38;5;124mA value in x_new is above the interpolation \u001b[39m\u001b[38;5;124m\"\u001b[39m\n\u001b[0;32m    717\u001b[0m                      \u001b[38;5;124m\"\u001b[39m\u001b[38;5;124mrange.\u001b[39m\u001b[38;5;124m\"\u001b[39m)\n\u001b[0;32m    719\u001b[0m \u001b[38;5;66;03m# !! Should we emit a warning if some values are out of bounds?\u001b[39;00m\n\u001b[0;32m    720\u001b[0m \u001b[38;5;66;03m# !! matlab does not.\u001b[39;00m\n\u001b[0;32m    721\u001b[0m \u001b[38;5;28;01mreturn\u001b[39;00m below_bounds, above_bounds\n",
      "\u001b[1;31mValueError\u001b[0m: A value in x_new is above the interpolation range."
     ]
    }
   ],
   "source": [
    "f(16)"
   ]
  },
  {
   "cell_type": "code",
   "execution_count": 328,
   "id": "204f52cd",
   "metadata": {},
   "outputs": [],
   "source": [
    "f2 = interpolate.interp1d(x, y, fill_value = 'extrapolate')"
   ]
  },
  {
   "cell_type": "code",
   "execution_count": 329,
   "id": "5369c25d",
   "metadata": {},
   "outputs": [
    {
     "data": {
      "text/plain": [
       "array(-2.02607266e-06)"
      ]
     },
     "execution_count": 329,
     "metadata": {},
     "output_type": "execute_result"
    }
   ],
   "source": [
    "f2(16)"
   ]
  },
  {
   "cell_type": "markdown",
   "id": "12313da5",
   "metadata": {},
   "source": [
    "## scipy.interpolate.interp2d is similar to scipy.interpolate.interp1d, but for 2-D arrays."
   ]
  },
  {
   "cell_type": "markdown",
   "id": "a994d2fa",
   "metadata": {},
   "source": [
    "# <span style='background :yellow' >  Optimization and fit: scipy.optimize </span>\n",
    "\n",
    "Optimization is the problem of finding a numerical solution to a minimization or equality.\n",
    "\n",
    "The scipy.optimize module provides algorithms for function minimization (scalar or multidimensional), curve fitting and root finding."
   ]
  },
  {
   "cell_type": "code",
   "execution_count": 330,
   "id": "a7178ce4",
   "metadata": {},
   "outputs": [],
   "source": [
    "from scipy import optimize\n",
    "from scipy.optimize import curve_fit"
   ]
  },
  {
   "cell_type": "code",
   "execution_count": 332,
   "id": "d2a5d3e1",
   "metadata": {},
   "outputs": [],
   "source": [
    "# Seed the random number generator for reproducibility\n",
    "np.random.seed(0)"
   ]
  },
  {
   "cell_type": "code",
   "execution_count": 333,
   "id": "6ac48a2b",
   "metadata": {},
   "outputs": [],
   "source": [
    "x_data = np.linspace(-5, 5, num=50)\n",
    "y_data = 2.9 * np.sin(1.5 * x_data) + np.random.normal(size=50)"
   ]
  },
  {
   "cell_type": "code",
   "execution_count": 127,
   "id": "32b10166",
   "metadata": {},
   "outputs": [
    {
     "data": {
      "image/png": "[encoded data removed]",
      "text/plain": [
       "<Figure size 600x400 with 1 Axes>"
      ]
     },
     "metadata": {},
     "output_type": "display_data"
    }
   ],
   "source": [
    "plt.figure(figsize=(6, 4))\n",
    "plt.scatter(x_data, y_data)\n",
    "plt.show()"
   ]
  },
  {
   "cell_type": "markdown",
   "id": "6401ec7c",
   "metadata": {},
   "source": [
    "If we know that the data lies on a sine wave, but not the **amplitudes** or the **period**, we can find those by least squares curve fitting. First we have to define the test function to fit, here a sine with unknown amplitude and period:"
   ]
  },
  {
   "cell_type": "markdown",
   "id": "d5a38d25",
   "metadata": {},
   "source": [
    "### Now fit a simple sine function to the data"
   ]
  },
  {
   "cell_type": "code",
   "execution_count": 128,
   "id": "e43f5f69",
   "metadata": {},
   "outputs": [],
   "source": [
    "def test_func(x, a, b):\n",
    "    return a * np.sin(b * x)"
   ]
  },
  {
   "cell_type": "code",
   "execution_count": 129,
   "id": "85200143",
   "metadata": {},
   "outputs": [
    {
     "name": "stdout",
     "output_type": "stream",
     "text": [
      "[3.05931973 1.45754553]\n"
     ]
    }
   ],
   "source": [
    "# We then use scipy.optimize.curve_fit() to find 𝑎 and 𝑏:\n",
    "\n",
    "params, params_covariance = optimize.curve_fit(test_func, x_data, y_data, p0=[2, 2])\n",
    "print(params)"
   ]
  },
  {
   "cell_type": "code",
   "execution_count": 130,
   "id": "ca9202cc",
   "metadata": {},
   "outputs": [
    {
     "data": {
      "image/png": "[encoded data removed]",
      "text/plain": [
       "<Figure size 600x400 with 1 Axes>"
      ]
     },
     "metadata": {},
     "output_type": "display_data"
    }
   ],
   "source": [
    "# plot the resulting curve on the data\n",
    "\n",
    "plt.figure(figsize=(6, 4))\n",
    "plt.scatter(x_data, y_data, label='Data')\n",
    "plt.plot(x_data, test_func(x_data, params[0], params[1]), label='Fitted function')\n",
    "\n",
    "plt.legend(loc='best')\n",
    "\n",
    "plt.show()"
   ]
  },
  {
   "cell_type": "markdown",
   "id": "f9394104",
   "metadata": {},
   "source": [
    "## Another Example\n",
    "Curve fitting: temperature as a function of month of the year   \n",
    "\n",
    "We have the min and max temperatures in Alaska for each months of the year. We would like to find a function to describe this yearly evolution.\n",
    "For this, we will fit a periodic function."
   ]
  },
  {
   "cell_type": "code",
   "execution_count": 131,
   "id": "58775b92",
   "metadata": {},
   "outputs": [],
   "source": [
    "temp_max = np.array([17,  19,  21,  28,  33,  38, 37,  37,  31,  23,  19,  18])\n",
    "temp_min = np.array([-62, -59, -56, -46, -32, -18, -9, -13, -25, -46, -52, -58])"
   ]
  },
  {
   "cell_type": "code",
   "execution_count": 132,
   "id": "cbc00efa",
   "metadata": {},
   "outputs": [
    {
     "data": {
      "text/plain": [
       "Text(0, 0.5, 'Min and max temperature')"
      ]
     },
     "execution_count": 132,
     "metadata": {},
     "output_type": "execute_result"
    },
    {
     "data": {
      "image/png": "[encoded data removed]",
      "text/plain": [
       "<Figure size 640x480 with 1 Axes>"
      ]
     },
     "metadata": {},
     "output_type": "display_data"
    }
   ],
   "source": [
    "months = np.arange(12)\n",
    "plt.plot(months, temp_max, 'ro')\n",
    "plt.plot(months, temp_min, 'bo')\n",
    "plt.xlabel('Month')\n",
    "plt.ylabel('Min and max temperature')"
   ]
  },
  {
   "cell_type": "code",
   "execution_count": 133,
   "id": "9330cc8d",
   "metadata": {},
   "outputs": [],
   "source": [
    "def yearly_temps(times, avg, ampl, time_offset):\n",
    "    return (avg + ampl * np.cos((times + time_offset) * 2 * np.pi / times.max()))\n",
    "\n",
    "res_max, cov_max = optimize.curve_fit(yearly_temps, months, temp_max, [20, 10, 0])\n",
    "\n",
    "res_min, cov_min = optimize.curve_fit(yearly_temps, months,temp_min, [-40, 20, 0])"
   ]
  },
  {
   "cell_type": "code",
   "execution_count": 134,
   "id": "10446687",
   "metadata": {},
   "outputs": [
    {
     "data": {
      "image/png": "[encoded data removed]",
      "text/plain": [
       "<Figure size 640x480 with 1 Axes>"
      ]
     },
     "metadata": {},
     "output_type": "display_data"
    }
   ],
   "source": [
    "days = np.linspace(0, 12, num=365)\n",
    "\n",
    "plt.figure()\n",
    "plt.plot(months, temp_max, 'ro', label = 'Max_Tem')\n",
    "plt.plot(days, yearly_temps(days, *res_max), 'r-')\n",
    "\n",
    "plt.plot(months, temp_min, 'bo', label = 'Min_Tem')\n",
    "plt.plot(days, yearly_temps(days, *res_min), 'b-')\n",
    "\n",
    "plt.xlabel('Month')\n",
    "plt.ylabel('Temperature ($^\\circ$C)')\n",
    "\n",
    "plt.legend()\n",
    "\n",
    "plt.show()"
   ]
  },
  {
   "cell_type": "markdown",
   "id": "bca17834",
   "metadata": {},
   "source": [
    "## Finding the minimum of a scalar function"
   ]
  },
  {
   "cell_type": "code",
   "execution_count": 135,
   "id": "134d2b97",
   "metadata": {},
   "outputs": [],
   "source": [
    "def f(x):\n",
    "    return x**2 + 10*np.sin(x)"
   ]
  },
  {
   "cell_type": "code",
   "execution_count": 136,
   "id": "c24ae697",
   "metadata": {},
   "outputs": [
    {
     "data": {
      "image/png": "[encoded data removed]",
      "text/plain": [
       "<Figure size 640x480 with 1 Axes>"
      ]
     },
     "metadata": {},
     "output_type": "display_data"
    }
   ],
   "source": [
    "x = np.arange(-10, 10, 0.1)\n",
    "plt.plot(x, f(x)) \n",
    "plt.show()"
   ]
  },
  {
   "cell_type": "markdown",
   "id": "ce333a2e",
   "metadata": {},
   "source": [
    "This function has a global minimum around -1.3 and a local minimum around 3.8.        \n",
    "Searching for minimum can be done with scipy.optimize.minimize(), given a starting point x0, it returns the location of the minimum that it has found:\n",
    "\n",
    "#### Now find the minimum with a few methods"
   ]
  },
  {
   "cell_type": "code",
   "execution_count": 137,
   "id": "bba6ed6f",
   "metadata": {},
   "outputs": [
    {
     "data": {
      "text/plain": [
       "array([-1.30644012])"
      ]
     },
     "execution_count": 137,
     "metadata": {},
     "output_type": "execute_result"
    }
   ],
   "source": [
    "result = optimize.minimize(f, x0=0)   # The default Method Nelder Mead\n",
    "result \n",
    "result.x # The coordinate of the minimum "
   ]
  },
  {
   "cell_type": "code",
   "execution_count": 138,
   "id": "fc47653e",
   "metadata": {},
   "outputs": [
    {
     "name": "stdout",
     "output_type": "stream",
     "text": [
      "      fun: -7.945823375615215\n",
      " hess_inv: array([[0.08589237]])\n",
      "      jac: array([-1.1920929e-06])\n",
      "  message: 'Optimization terminated successfully.'\n",
      "     nfev: 12\n",
      "      nit: 5\n",
      "     njev: 6\n",
      "   status: 0\n",
      "  success: True\n",
      "        x: array([-1.30644012])\n"
     ]
    }
   ],
   "source": [
    "print(optimize.minimize(f, x0=0))"
   ]
  },
  {
   "cell_type": "code",
   "execution_count": 139,
   "id": "64c1428b",
   "metadata": {},
   "outputs": [
    {
     "name": "stdout",
     "output_type": "stream",
     "text": [
      "      fun: array([-7.94582338])\n",
      " hess_inv: <1x1 LbfgsInvHessProduct with dtype=float64>\n",
      "      jac: array([-1.68753901e-06])\n",
      "  message: 'CONVERGENCE: NORM_OF_PROJECTED_GRADIENT_<=_PGTOL'\n",
      "     nfev: 12\n",
      "      nit: 5\n",
      "     njev: 6\n",
      "   status: 0\n",
      "  success: True\n",
      "        x: array([-1.30644017])\n"
     ]
    }
   ],
   "source": [
    "# Methods: As the function is a smooth function, gradient-descent based methods are good options.\n",
    "# The lBFGS algorithm is a good choice in general:\n",
    "\n",
    "print(optimize.minimize(f, x0=0, method=\"L-BFGS-B\"))"
   ]
  },
  {
   "cell_type": "code",
   "execution_count": 140,
   "id": "3ea9c44f",
   "metadata": {},
   "outputs": [
    {
     "data": {
      "text/plain": [
       "array([3.83746709])"
      ]
     },
     "execution_count": 140,
     "metadata": {},
     "output_type": "execute_result"
    }
   ],
   "source": [
    "# Global minimum: A possible issue with this approach is that, if the function has local minima, \n",
    "# the algorithm may find these local minima instead of the global minimum depending on the initial point x0\n",
    "\n",
    "res = optimize.minimize(f, x0=3, method=\"L-BFGS-B\")\n",
    "res.x"
   ]
  },
  {
   "cell_type": "markdown",
   "id": "3ff0daae",
   "metadata": {},
   "source": [
    "If we don’t know the neighborhood of the global minimum to choose the initial point, we need to resort to costlier global optimization. To find the global minimum, we use scipy.optimize.basinhopping() (added in version 0.12.0 of Scipy). It combines a local optimizer with sampling of starting points:"
   ]
  },
  {
   "cell_type": "code",
   "execution_count": 141,
   "id": "b85eda73",
   "metadata": {},
   "outputs": [
    {
     "data": {
      "text/plain": [
       "                        fun: -7.9458233756152845\n",
       " lowest_optimization_result:       fun: -7.9458233756152845\n",
       " hess_inv: array([[0.08582649]])\n",
       "      jac: array([5.96046448e-08])\n",
       "  message: 'Optimization terminated successfully.'\n",
       "     nfev: 14\n",
       "      nit: 6\n",
       "     njev: 7\n",
       "   status: 0\n",
       "  success: True\n",
       "        x: array([-1.30644001])\n",
       "                    message: ['requested number of basinhopping iterations completed successfully']\n",
       "      minimization_failures: 0\n",
       "                       nfev: 1022\n",
       "                        nit: 100\n",
       "                       njev: 511\n",
       "                          x: array([-1.30644001])"
      ]
     },
     "execution_count": 141,
     "metadata": {},
     "output_type": "execute_result"
    }
   ],
   "source": [
    "optimize.basinhopping(f, 0)"
   ]
  },
  {
   "cell_type": "markdown",
   "id": "ff7a21d3",
   "metadata": {},
   "source": [
    "## Optimization of a two-parameter function\n",
    "The six-hump camelback function has multiple global and local minima. Find the global minima of this function."
   ]
  },
  {
   "cell_type": "code",
   "execution_count": 142,
   "id": "526c4716",
   "metadata": {},
   "outputs": [],
   "source": [
    "# Define the function that we are interested in\n",
    "def sixhump(x):\n",
    "    return ((4 - 2.1*x[0]**2 + x[0]**4 / 3.)* x[0]**2 + x[0] * x[1] +(-4 + 4*x[1]**2) * x[1] **2)\n",
    "\n",
    "# Make a grid to evaluate the function (for plotting)\n",
    "x = np.linspace(-2, 2)\n",
    "y = np.linspace(-1, 1)\n",
    "xg, yg = np.meshgrid(x, y)"
   ]
  },
  {
   "cell_type": "code",
   "execution_count": 143,
   "id": "64225acf",
   "metadata": {},
   "outputs": [
    {
     "data": {
      "image/png": "[encoded data removed]",
      "text/plain": [
       "<Figure size 640x480 with 2 Axes>"
      ]
     },
     "metadata": {},
     "output_type": "display_data"
    }
   ],
   "source": [
    "#Simple visualization in 2D\n",
    "\n",
    "plt.figure()\n",
    "plt.imshow(sixhump([xg, yg]), extent=[-2, 2, -1, 1], origin=\"lower\")\n",
    "plt.colorbar()\n",
    "plt.show()"
   ]
  },
  {
   "cell_type": "code",
   "execution_count": 144,
   "id": "00c12c8e",
   "metadata": {},
   "outputs": [
    {
     "data": {
      "image/png": "[encoded data removed]",
      "text/plain": [
       "<Figure size 640x480 with 1 Axes>"
      ]
     },
     "metadata": {},
     "output_type": "display_data"
    }
   ],
   "source": [
    "# A 3D surface plot of the function\n",
    "\n",
    "fig = plt.figure()\n",
    "ax = fig.add_subplot(111, projection='3d')\n",
    "surf = ax.plot_surface(xg, yg, sixhump([xg, yg]), rstride=1, cstride=1, cmap=plt.cm.jet, linewidth=0, antialiased=False)\n",
    "\n",
    "ax.set_xlabel('x')\n",
    "ax.set_ylabel('y')\n",
    "ax.set_zlabel('f(x, y)')\n",
    "ax.set_title('Six-hump Camelback function')\n",
    "\n",
    "plt.show()"
   ]
  },
  {
   "cell_type": "code",
   "execution_count": 145,
   "id": "6c825ef4",
   "metadata": {},
   "outputs": [
    {
     "data": {
      "image/png": "[encoded data removed]",
      "text/plain": [
       "<Figure size 640x480 with 2 Axes>"
      ]
     },
     "metadata": {},
     "output_type": "display_data"
    }
   ],
   "source": [
    "# Find the minima\n",
    "\n",
    "x_min = optimize.minimize(sixhump, x0=[0, 0])\n",
    "\n",
    "plt.figure()\n",
    "# Show the function in 2D\n",
    "plt.imshow(sixhump([xg, yg]), extent=[-2, 2, -1, 1], origin=\"lower\")\n",
    "plt.colorbar()\n",
    "# And the minimum that we've found:\n",
    "plt.scatter(x_min.x[0], x_min.x[1])\n",
    "\n",
    "plt.show()"
   ]
  },
  {
   "cell_type": "code",
   "execution_count": 146,
   "id": "7dd28886",
   "metadata": {},
   "outputs": [
    {
     "data": {
      "text/plain": [
       "    fjac: array([[-1.]])\n",
       "     fun: array([0.])\n",
       " message: 'The solution converged.'\n",
       "    nfev: 10\n",
       "     qtf: array([1.33310463e-32])\n",
       "       r: array([-10.])\n",
       "  status: 1\n",
       " success: True\n",
       "       x: array([0.])"
      ]
     },
     "execution_count": 146,
     "metadata": {},
     "output_type": "execute_result"
    }
   ],
   "source": [
    "root = optimize.root(f, x0=1)  # our initial guess is 1\n",
    "root    # The full result"
   ]
  },
  {
   "cell_type": "code",
   "execution_count": 147,
   "id": "6046d22c",
   "metadata": {},
   "outputs": [
    {
     "data": {
      "text/plain": [
       "array([0.])"
      ]
     },
     "execution_count": 147,
     "metadata": {},
     "output_type": "execute_result"
    }
   ],
   "source": [
    "root.x  # Only the root found"
   ]
  },
  {
   "cell_type": "markdown",
   "id": "b2fbbbcc",
   "metadata": {},
   "source": [
    "Note that only one root is found. Inspecting the plot of f reveals that there is a second root around -2.5. We find the exact value of it by adjusting our initial guess:"
   ]
  },
  {
   "cell_type": "code",
   "execution_count": 148,
   "id": "d6d47367",
   "metadata": {},
   "outputs": [
    {
     "data": {
      "text/plain": [
       "array([-2.47948183])"
      ]
     },
     "execution_count": 148,
     "metadata": {},
     "output_type": "execute_result"
    }
   ],
   "source": [
    "root2 = optimize.root(f, x0=-2.5)\n",
    "root2.x"
   ]
  },
  {
   "cell_type": "markdown",
   "id": "92fa7bf9",
   "metadata": {},
   "source": [
    "## Minima and roots of a function\n",
    "Another Example"
   ]
  },
  {
   "cell_type": "code",
   "execution_count": 149,
   "id": "19e03fe7",
   "metadata": {},
   "outputs": [],
   "source": [
    "x = np.arange(-10, 10, 0.1)\n",
    "def f(x):\n",
    "    return x**2 + 10*np.sin(x)"
   ]
  },
  {
   "cell_type": "code",
   "execution_count": 150,
   "id": "47986e17",
   "metadata": {},
   "outputs": [
    {
     "name": "stdout",
     "output_type": "stream",
     "text": [
      "Global minima found [-1.30641113]\n",
      "Local minimum found 3.8374671194983834\n"
     ]
    }
   ],
   "source": [
    "# Global optimization\n",
    "grid = (-10, 10, 0.1)\n",
    "xmin_global = optimize.brute(f, (grid, ))\n",
    "print(\"Global minima found %s\" % xmin_global)\n",
    "\n",
    "# Constrain optimization\n",
    "xmin_local = optimize.fminbound(f, 0, 10)\n",
    "print(\"Local minimum found %s\" % xmin_local)"
   ]
  },
  {
   "cell_type": "code",
   "execution_count": 151,
   "id": "ad832ef9",
   "metadata": {},
   "outputs": [
    {
     "name": "stdout",
     "output_type": "stream",
     "text": [
      "First root found [0.]\n",
      "Second root found [-2.47948183]\n"
     ]
    }
   ],
   "source": [
    "root = optimize.root(f, 1)  # our initial guess is 1\n",
    "print(\"First root found %s\" % root.x)\n",
    "root2 = optimize.root(f, -2.5)\n",
    "print(\"Second root found %s\" % root2.x)"
   ]
  },
  {
   "cell_type": "markdown",
   "id": "74728a82",
   "metadata": {},
   "source": [
    "### Plot function, minima, and roots"
   ]
  },
  {
   "cell_type": "code",
   "execution_count": 152,
   "id": "abad2609",
   "metadata": {},
   "outputs": [
    {
     "data": {
      "image/png": "[encoded data removed]",
      "text/plain": [
       "<Figure size 600x400 with 1 Axes>"
      ]
     },
     "metadata": {},
     "output_type": "display_data"
    }
   ],
   "source": [
    "fig = plt.figure(figsize=(6, 4))\n",
    "ax = fig.add_subplot(111)\n",
    "\n",
    "# Plot the function\n",
    "ax.plot(x, f(x), 'b-', label=\"f(x)\")\n",
    "\n",
    "# Plot the minima\n",
    "xmins = np.array([xmin_global[0], xmin_local])\n",
    "ax.plot(xmins, f(xmins), 'go', label=\"Minima\")\n",
    "\n",
    "# Plot the roots\n",
    "roots = np.array([root.x, root2.x])\n",
    "ax.plot(roots, f(roots), 'kv', label=\"Roots\")\n",
    "\n",
    "# Decorate the figure\n",
    "ax.legend(loc='best')\n",
    "ax.set_xlabel('x')\n",
    "ax.set_ylabel('f(x)')\n",
    "ax.axhline(0, color='gray')\n",
    "plt.show()"
   ]
  },
  {
   "cell_type": "markdown",
   "id": "6d5dd68b",
   "metadata": {},
   "source": [
    "# <span style='background :yellow' >  Numerical integration: scipy.integrate </span>\n",
    "The most generic integration routine is scipy.integrate.quad().       \n",
    "\n",
    "Other integration schemes are available: scipy.integrate.fixed_quad(), scipy.integrate.quadrature(), scipy.integrate.romberg()…"
   ]
  },
  {
   "cell_type": "code",
   "execution_count": 334,
   "id": "4d45d31b",
   "metadata": {},
   "outputs": [],
   "source": [
    "from scipy.integrate import quad\n",
    "from scipy.integrate import dblquad\n",
    "\n",
    "# from scipy import integrate\n",
    "# General multiple integration (dblquad, tplquad, nquad)"
   ]
  },
  {
   "cell_type": "code",
   "execution_count": 335,
   "id": "4d2bd09d",
   "metadata": {},
   "outputs": [
    {
     "data": {
      "text/plain": [
       "0.9999999999999999"
      ]
     },
     "execution_count": 335,
     "metadata": {},
     "output_type": "execute_result"
    }
   ],
   "source": [
    "res, err = quad(np.sin, 0, np.pi/2)\n",
    "\n",
    "res"
   ]
  },
  {
   "cell_type": "code",
   "execution_count": 336,
   "id": "4ece37b3",
   "metadata": {},
   "outputs": [
    {
     "data": {
      "text/plain": [
       "1"
      ]
     },
     "execution_count": 336,
     "metadata": {},
     "output_type": "execute_result"
    }
   ],
   "source": [
    "round(res)"
   ]
  },
  {
   "cell_type": "code",
   "execution_count": 339,
   "id": "ddde51ea",
   "metadata": {},
   "outputs": [
    {
     "data": {
      "text/plain": [
       "True"
      ]
     },
     "execution_count": 339,
     "metadata": {},
     "output_type": "execute_result"
    }
   ],
   "source": [
    "np.allclose(res, 1)   # res is the result, is should be close to 1"
   ]
  },
  {
   "cell_type": "code",
   "execution_count": 156,
   "id": "c4d73b2d",
   "metadata": {},
   "outputs": [
    {
     "data": {
      "text/plain": [
       "True"
      ]
     },
     "execution_count": 156,
     "metadata": {},
     "output_type": "execute_result"
    }
   ],
   "source": [
    "np.allclose(err, 1 - res)  # err is an estimate of the err"
   ]
  },
  {
   "cell_type": "markdown",
   "id": "e543303e",
   "metadata": {},
   "source": [
    "Compute the double integral of x * y**2 over the box x ranging from 0 to 2 and y ranging from 0 to 1."
   ]
  },
  {
   "cell_type": "code",
   "execution_count": 157,
   "id": "1c255887",
   "metadata": {},
   "outputs": [
    {
     "data": {
      "text/plain": [
       "(0.6666666666666667, 7.401486830834377e-15)"
      ]
     },
     "execution_count": 157,
     "metadata": {},
     "output_type": "execute_result"
    }
   ],
   "source": [
    "f = lambda y, x: x*(y**2)\n",
    "dblquad(f, 0, 2, 0, 1)"
   ]
  },
  {
   "cell_type": "markdown",
   "id": "a28a4b7c",
   "metadata": {},
   "source": [
    "## Double integration"
   ]
  },
  {
   "cell_type": "code",
   "execution_count": 158,
   "id": "866e1c0e",
   "metadata": {},
   "outputs": [],
   "source": [
    "def I(n):\n",
    "    return dblquad(lambda t, x: np.exp(-x*t)/t**n, 0, np.inf, lambda x: 1, lambda x: np.inf)"
   ]
  },
  {
   "cell_type": "code",
   "execution_count": 159,
   "id": "d6b18963",
   "metadata": {},
   "outputs": [],
   "source": [
    "area = dblquad(lambda x, y: x*y, 0, 0.5, lambda x: 0, lambda x: 1-2*x)"
   ]
  },
  {
   "cell_type": "code",
   "execution_count": 160,
   "id": "4e02dfdf",
   "metadata": {},
   "outputs": [],
   "source": [
    "area = dblquad(lambda x, y: x*y, 0, 0.5, lambda x: 0, lambda x: 1-2*x)"
   ]
  },
  {
   "cell_type": "markdown",
   "id": "ab14690f",
   "metadata": {},
   "source": [
    "# <span style='background :yellow' > Integrating differential equations </span>"
   ]
  },
  {
   "cell_type": "markdown",
   "id": "014c6874",
   "metadata": {},
   "source": [
    "scipy.integrate also features routines for integrating Ordinary Differential Equations (ODE).  In particular, scipy.integrate.odeint() solves ODE of the form:\n",
    "\n",
    "dy/dt = rhs(y1, y2, .., t0,...)\n"
   ]
  },
  {
   "cell_type": "code",
   "execution_count": 340,
   "id": "600e0cb2",
   "metadata": {},
   "outputs": [],
   "source": [
    "from scipy.integrate import odeint"
   ]
  },
  {
   "cell_type": "code",
   "execution_count": 162,
   "id": "c2afd5c7",
   "metadata": {},
   "outputs": [],
   "source": [
    "def calc_derivative(ypos, time):\n",
    "    return -2 * ypos"
   ]
  },
  {
   "cell_type": "code",
   "execution_count": 163,
   "id": "888b44b1",
   "metadata": {},
   "outputs": [],
   "source": [
    "time_vec = np.linspace(0, 4, 40)\n",
    "y = odeint(calc_derivative, y0=1, t=time_vec)"
   ]
  },
  {
   "cell_type": "markdown",
   "id": "bd54e50b",
   "metadata": {},
   "source": [
    "### Integrating a simple ODE Solve the ODE dy/dt = -2y between t = 0..4, with the initial condition y(t=0) = 1."
   ]
  },
  {
   "cell_type": "code",
   "execution_count": 164,
   "id": "d17ac35d",
   "metadata": {},
   "outputs": [
    {
     "data": {
      "image/png": "[encoded data removed]",
      "text/plain": [
       "<Figure size 400x300 with 1 Axes>"
      ]
     },
     "metadata": {},
     "output_type": "display_data"
    }
   ],
   "source": [
    "def calc_derivative(ypos, time):\n",
    "    return -2*ypos\n",
    "\n",
    "time_vec = np.linspace(0, 4, 40)\n",
    "yvec = odeint(calc_derivative, 1, time_vec)\n",
    "\n",
    "plt.figure(figsize=(4, 3))\n",
    "plt.plot(time_vec, yvec)\n",
    "plt.xlabel('t: Time')\n",
    "plt.ylabel('y: Position')\n",
    "plt.tight_layout()"
   ]
  },
  {
   "cell_type": "markdown",
   "id": "c85a0bff",
   "metadata": {},
   "source": [
    "## Integrate the Damped spring-mass oscillator\n",
    "2nd order ODE   \n",
    "\n",
    "$ 𝑦′′ + 2𝜀𝜔_{0}𝑦′ + 𝜔_{0}^{2}𝑦 = 0 $\n",
    "\n",
    "$ 𝜔_{0}^{2} = 𝑘/𝑚, 𝜀 = 𝑐/(2𝑚𝜔_{0}) $"
   ]
  },
  {
   "cell_type": "code",
   "execution_count": 165,
   "id": "d2e9e450",
   "metadata": {},
   "outputs": [],
   "source": [
    "mass = 0.5  # kg\n",
    "kspring = 4  # N/m\n",
    "cviscous = 0.4  # N s/m\n",
    "\n",
    "eps = cviscous / (2 * mass * np.sqrt(kspring/mass))\n",
    "omega = np.sqrt(kspring / mass)"
   ]
  },
  {
   "cell_type": "code",
   "execution_count": 166,
   "id": "f688adb3",
   "metadata": {},
   "outputs": [
    {
     "data": {
      "text/plain": [
       "True"
      ]
     },
     "execution_count": 166,
     "metadata": {},
     "output_type": "execute_result"
    }
   ],
   "source": [
    "# The system is underdamped\n",
    "eps < 1"
   ]
  },
  {
   "cell_type": "markdown",
   "id": "db291d49",
   "metadata": {},
   "source": [
    "For odeint(), the 2nd order equation needs to be transformed in a system of two first-order equations for the vector 𝑌 = (𝑦, 𝑦′): the function computes the velocity and acceleration:"
   ]
  },
  {
   "cell_type": "code",
   "execution_count": 167,
   "id": "f381152d",
   "metadata": {},
   "outputs": [
    {
     "data": {
      "image/png": "[encoded data removed]",
      "text/plain": [
       "<Figure size 400x300 with 1 Axes>"
      ]
     },
     "metadata": {},
     "output_type": "display_data"
    }
   ],
   "source": [
    "def calc_deri(yvec, time, eps, omega):\n",
    "    return (yvec[1], -eps * omega * yvec[1] - omega **2 * yvec[0])\n",
    "\n",
    "time_vec = np.linspace(0, 10, 100)\n",
    "yinit = (1, 0)\n",
    "yarr = odeint(calc_deri, yinit, time_vec, args=(eps, omega))\n",
    "\n",
    "plt.figure(figsize=(4, 3))\n",
    "plt.plot(time_vec, yarr[:, 0], label='y')\n",
    "plt.plot(time_vec, yarr[:, 1], label=\"y'\")\n",
    "plt.legend(loc='best')\n",
    "plt.show()"
   ]
  },
  {
   "cell_type": "markdown",
   "id": "70d38a96",
   "metadata": {},
   "source": [
    "Partial Differental Equations\n",
    "There is no Partial Differential Equations (PDE) solver in Scipy. Some Python packages for solving PDE’s are available, such as fipy or SfePy.\n",
    "OR\n",
    "https://docs.sympy.org/latest/modules/solvers/pde.html"
   ]
  },
  {
   "cell_type": "markdown",
   "id": "8cc9ca87",
   "metadata": {},
   "source": [
    "## --------------------------------------------------------------------------------------------------\n",
    "# 2. Sympy : Symbolic Mathematics in Python\n",
    "SymPy is a Python library for symbolic mathematics. It aims to be an alternative to\n",
    "systems such as **Mathematica** or **Maple** while keeping the code as simple as possible and easily extensible.\n",
    "SymPy is written entirely in Python and does not require any external libraries."
   ]
  },
  {
   "cell_type": "markdown",
   "id": "aae7a7f1",
   "metadata": {},
   "source": [
    "SymPy defines three numerical types: **Real, Rational and Integer**  \n",
    "The Rational class represents a rational number as a pair of two Integers: the numerator and the\n",
    "denominator, so Rational(1, 2) represents 1/2, Rational(5, 2) 5/2 and so on:"
   ]
  },
  {
   "cell_type": "code",
   "execution_count": 168,
   "id": "2a1222fd",
   "metadata": {},
   "outputs": [
    {
     "data": {
      "text/latex": [
       "$\\displaystyle \\frac{3}{7}$"
      ],
      "text/plain": [
       "3/7"
      ]
     },
     "execution_count": 168,
     "metadata": {},
     "output_type": "execute_result"
    }
   ],
   "source": [
    "a = sp.Rational(3, 7)\n",
    "a"
   ]
  },
  {
   "cell_type": "code",
   "execution_count": 169,
   "id": "b7a714bb",
   "metadata": {},
   "outputs": [
    {
     "data": {
      "text/latex": [
       "$\\displaystyle \\frac{1}{2}$"
      ],
      "text/plain": [
       "1/2"
      ]
     },
     "execution_count": 169,
     "metadata": {},
     "output_type": "execute_result"
    }
   ],
   "source": [
    "b = sp.Rational(3, 6)\n",
    "b"
   ]
  },
  {
   "cell_type": "code",
   "execution_count": 170,
   "id": "b90ff822",
   "metadata": {},
   "outputs": [
    {
     "data": {
      "text/latex": [
       "$\\displaystyle \\pi^{2}$"
      ],
      "text/plain": [
       "pi**2"
      ]
     },
     "execution_count": 170,
     "metadata": {},
     "output_type": "execute_result"
    }
   ],
   "source": [
    "sp.pi**2"
   ]
  },
  {
   "cell_type": "code",
   "execution_count": 341,
   "id": "e99994c0",
   "metadata": {},
   "outputs": [
    {
     "data": {
      "text/plain": [
       "3.141592653589793"
      ]
     },
     "execution_count": 341,
     "metadata": {},
     "output_type": "execute_result"
    }
   ],
   "source": [
    "np.pi"
   ]
  },
  {
   "cell_type": "markdown",
   "id": "6252affa",
   "metadata": {},
   "source": [
    "**evalf** evaluates the expression to a floating-point number"
   ]
  },
  {
   "cell_type": "code",
   "execution_count": 171,
   "id": "238936b7",
   "metadata": {},
   "outputs": [
    {
     "data": {
      "text/latex": [
       "$\\displaystyle 3.14159265358979$"
      ],
      "text/plain": [
       "3.14159265358979"
      ]
     },
     "execution_count": 171,
     "metadata": {},
     "output_type": "execute_result"
    }
   ],
   "source": [
    "sp.pi.evalf()"
   ]
  },
  {
   "cell_type": "code",
   "execution_count": 342,
   "id": "b3953a64",
   "metadata": {},
   "outputs": [
    {
     "data": {
      "text/latex": [
       "$\\displaystyle e + \\pi$"
      ],
      "text/plain": [
       "E + pi"
      ]
     },
     "execution_count": 342,
     "metadata": {},
     "output_type": "execute_result"
    }
   ],
   "source": [
    "sp.pi + sp.exp(1)"
   ]
  },
  {
   "cell_type": "code",
   "execution_count": 172,
   "id": "64f31465",
   "metadata": {},
   "outputs": [
    {
     "data": {
      "text/latex": [
       "$\\displaystyle 5.85987448204884$"
      ],
      "text/plain": [
       "5.85987448204884"
      ]
     },
     "execution_count": 172,
     "metadata": {},
     "output_type": "execute_result"
    }
   ],
   "source": [
    "(sp.pi + sp.exp(1)).evalf()"
   ]
  },
  {
   "cell_type": "markdown",
   "id": "61f17511",
   "metadata": {},
   "source": [
    "There is also a class representing mathematical infinity, called oo:"
   ]
  },
  {
   "cell_type": "code",
   "execution_count": 173,
   "id": "567797a2",
   "metadata": {},
   "outputs": [
    {
     "data": {
      "text/latex": [
       "$\\displaystyle \\infty$"
      ],
      "text/plain": [
       "oo"
      ]
     },
     "execution_count": 173,
     "metadata": {},
     "output_type": "execute_result"
    }
   ],
   "source": [
    "sp.oo"
   ]
  },
  {
   "cell_type": "code",
   "execution_count": 174,
   "id": "d1c6eecc",
   "metadata": {},
   "outputs": [
    {
     "data": {
      "text/latex": [
       "$\\displaystyle \\text{True}$"
      ],
      "text/plain": [
       "True"
      ]
     },
     "execution_count": 174,
     "metadata": {},
     "output_type": "execute_result"
    }
   ],
   "source": [
    "sp.oo > 99999999999"
   ]
  },
  {
   "cell_type": "code",
   "execution_count": 175,
   "id": "459bb88f",
   "metadata": {},
   "outputs": [
    {
     "data": {
      "text/latex": [
       "$\\displaystyle \\infty$"
      ],
      "text/plain": [
       "oo"
      ]
     },
     "execution_count": 175,
     "metadata": {},
     "output_type": "execute_result"
    }
   ],
   "source": [
    "sp.oo + 1"
   ]
  },
  {
   "cell_type": "markdown",
   "id": "dca8b3a5",
   "metadata": {},
   "source": [
    "#### In contrast to other Computer Algebra Systems, in SymPy you have to declare symbolic variables explicitly:"
   ]
  },
  {
   "cell_type": "code",
   "execution_count": 176,
   "id": "38a1d8ab",
   "metadata": {},
   "outputs": [],
   "source": [
    "x = sp.Symbol('x')\n",
    "y = sp.Symbol('y')\n",
    "z = sp.Symbol('z')"
   ]
  },
  {
   "cell_type": "code",
   "execution_count": 177,
   "id": "18cf0039",
   "metadata": {},
   "outputs": [
    {
     "data": {
      "text/latex": [
       "$\\displaystyle x$"
      ],
      "text/plain": [
       "x"
      ]
     },
     "execution_count": 177,
     "metadata": {},
     "output_type": "execute_result"
    }
   ],
   "source": [
    "x"
   ]
  },
  {
   "cell_type": "code",
   "execution_count": 178,
   "id": "bf66fd34",
   "metadata": {},
   "outputs": [
    {
     "data": {
      "text/latex": [
       "$\\displaystyle y$"
      ],
      "text/plain": [
       "y"
      ]
     },
     "execution_count": 178,
     "metadata": {},
     "output_type": "execute_result"
    }
   ],
   "source": [
    "y"
   ]
  },
  {
   "cell_type": "code",
   "execution_count": 179,
   "id": "ef7790da",
   "metadata": {},
   "outputs": [
    {
     "data": {
      "text/latex": [
       "$\\displaystyle z$"
      ],
      "text/plain": [
       "z"
      ]
     },
     "execution_count": 179,
     "metadata": {},
     "output_type": "execute_result"
    }
   ],
   "source": [
    "z"
   ]
  },
  {
   "cell_type": "markdown",
   "id": "1743d376",
   "metadata": {},
   "source": [
    "you can manipulate them"
   ]
  },
  {
   "cell_type": "code",
   "execution_count": 180,
   "id": "0216a04b",
   "metadata": {},
   "outputs": [
    {
     "data": {
      "text/latex": [
       "$\\displaystyle x + y$"
      ],
      "text/plain": [
       "x + y"
      ]
     },
     "execution_count": 180,
     "metadata": {},
     "output_type": "execute_result"
    }
   ],
   "source": [
    "x + y"
   ]
  },
  {
   "cell_type": "code",
   "execution_count": 181,
   "id": "2adb57b3",
   "metadata": {},
   "outputs": [
    {
     "data": {
      "text/latex": [
       "$\\displaystyle x - y$"
      ],
      "text/plain": [
       "x - y"
      ]
     },
     "execution_count": 181,
     "metadata": {},
     "output_type": "execute_result"
    }
   ],
   "source": [
    "x - y"
   ]
  },
  {
   "cell_type": "code",
   "execution_count": 182,
   "id": "32340fff",
   "metadata": {},
   "outputs": [
    {
     "data": {
      "text/latex": [
       "$\\displaystyle 2 x$"
      ],
      "text/plain": [
       "2*x"
      ]
     },
     "execution_count": 182,
     "metadata": {},
     "output_type": "execute_result"
    }
   ],
   "source": [
    "x + y + x - y"
   ]
  },
  {
   "cell_type": "code",
   "execution_count": 183,
   "id": "b6869f0a",
   "metadata": {},
   "outputs": [
    {
     "data": {
      "text/latex": [
       "$\\displaystyle \\left(x + y\\right)^{2}$"
      ],
      "text/plain": [
       "(x + y)**2"
      ]
     },
     "execution_count": 183,
     "metadata": {},
     "output_type": "execute_result"
    }
   ],
   "source": [
    "(x + y) ** 2"
   ]
  },
  {
   "cell_type": "markdown",
   "id": "38bd9fbd",
   "metadata": {},
   "source": [
    "Symbols can now be manipulated using some of python operators: +, -`, ``*, ** (arithmetic), &, |, ~"
   ]
  },
  {
   "cell_type": "markdown",
   "id": "4aa56779",
   "metadata": {},
   "source": [
    "### Algebraic manipulations"
   ]
  },
  {
   "cell_type": "markdown",
   "id": "bb9b72ff",
   "metadata": {},
   "source": [
    "SymPy is capable of performing powerful algebraic manipulations. We’ll take a look into some of the most frequently used: expand and simplify :\n",
    "\n",
    "**Expand** : Use this to expand an algebraic expression. It will try to denest powers and multiplications:\n",
    "\n",
    "**Simplify** : Use simplify if you would like to transform an expression into a simpler form:           \n",
    "Simplification is a somewhat vague term, and more precises alternatives to simplify exists: powsimp\n",
    "(simplification of exponents), trigsimp (for trigonometric expressions) , logcombine, radsimp, together."
   ]
  },
  {
   "cell_type": "code",
   "execution_count": 184,
   "id": "687dc8b8",
   "metadata": {},
   "outputs": [
    {
     "data": {
      "text/latex": [
       "$\\displaystyle x^{3} + 3 x^{2} y + 3 x y^{2} + y^{3}$"
      ],
      "text/plain": [
       "x**3 + 3*x**2*y + 3*x*y**2 + y**3"
      ]
     },
     "execution_count": 184,
     "metadata": {},
     "output_type": "execute_result"
    }
   ],
   "source": [
    "sp.expand((x + y) ** 3)"
   ]
  },
  {
   "cell_type": "code",
   "execution_count": 185,
   "id": "5ebdd37c",
   "metadata": {},
   "outputs": [
    {
     "data": {
      "text/latex": [
       "$\\displaystyle x^{3} + 3 x^{2} y + 3 x y^{2} + y^{3}$"
      ],
      "text/plain": [
       "x**3 + 3*x**2*y + 3*x*y**2 + y**3"
      ]
     },
     "execution_count": 185,
     "metadata": {},
     "output_type": "execute_result"
    }
   ],
   "source": [
    "3 * x * y ** 2 + 3 * y * x ** 2 + x ** 3 + y ** 3"
   ]
  },
  {
   "cell_type": "code",
   "execution_count": 186,
   "id": "0cab2af5",
   "metadata": {},
   "outputs": [
    {
     "data": {
      "text/latex": [
       "$\\displaystyle x + y$"
      ],
      "text/plain": [
       "x + y"
      ]
     },
     "execution_count": 186,
     "metadata": {},
     "output_type": "execute_result"
    }
   ],
   "source": [
    "sp.expand(x + y)"
   ]
  },
  {
   "cell_type": "code",
   "execution_count": 187,
   "id": "e067c03c",
   "metadata": {},
   "outputs": [
    {
     "data": {
      "text/latex": [
       "$\\displaystyle \\operatorname{re}{\\left(x\\right)} + \\operatorname{re}{\\left(y\\right)} + i \\operatorname{im}{\\left(x\\right)} + i \\operatorname{im}{\\left(y\\right)}$"
      ],
      "text/plain": [
       "re(x) + re(y) + I*im(x) + I*im(y)"
      ]
     },
     "execution_count": 187,
     "metadata": {},
     "output_type": "execute_result"
    }
   ],
   "source": [
    "# Further options can be given in form on keywords:\n",
    "\n",
    "sp.expand(x + y, complex=True)"
   ]
  },
  {
   "cell_type": "code",
   "execution_count": 188,
   "id": "323abe48",
   "metadata": {},
   "outputs": [
    {
     "data": {
      "text/latex": [
       "$\\displaystyle \\operatorname{re}{\\left(x\\right)} + \\operatorname{re}{\\left(y\\right)} + i \\operatorname{im}{\\left(x\\right)} + i \\operatorname{im}{\\left(y\\right)}$"
      ],
      "text/plain": [
       "re(x) + re(y) + I*im(x) + I*im(y)"
      ]
     },
     "execution_count": 188,
     "metadata": {},
     "output_type": "execute_result"
    }
   ],
   "source": [
    "sp.I * sp.im(x) + sp.I * sp.im(y) + sp.re(x) + sp.re(y)"
   ]
  },
  {
   "cell_type": "code",
   "execution_count": 189,
   "id": "8cde5654",
   "metadata": {},
   "outputs": [
    {
     "data": {
      "text/latex": [
       "$\\displaystyle \\cos{\\left(x + y \\right)}$"
      ],
      "text/plain": [
       "cos(x + y)"
      ]
     },
     "execution_count": 189,
     "metadata": {},
     "output_type": "execute_result"
    }
   ],
   "source": [
    "sp.expand(sp.cos(x + y))"
   ]
  },
  {
   "cell_type": "code",
   "execution_count": 190,
   "id": "5d29f030",
   "metadata": {},
   "outputs": [
    {
     "data": {
      "text/latex": [
       "$\\displaystyle - \\sin{\\left(x \\right)} \\sin{\\left(y \\right)} + \\cos{\\left(x \\right)} \\cos{\\left(y \\right)}$"
      ],
      "text/plain": [
       "-sin(x)*sin(y) + cos(x)*cos(y)"
      ]
     },
     "execution_count": 190,
     "metadata": {},
     "output_type": "execute_result"
    }
   ],
   "source": [
    "sp.expand(sp.cos(x + y), trig=True)"
   ]
  },
  {
   "cell_type": "code",
   "execution_count": 191,
   "id": "08f7c678",
   "metadata": {},
   "outputs": [
    {
     "data": {
      "text/latex": [
       "$\\displaystyle - \\sin{\\left(x \\right)} \\sin{\\left(y \\right)} + \\cos{\\left(x \\right)} \\cos{\\left(y \\right)}$"
      ],
      "text/plain": [
       "-sin(x)*sin(y) + cos(x)*cos(y)"
      ]
     },
     "execution_count": 191,
     "metadata": {},
     "output_type": "execute_result"
    }
   ],
   "source": [
    "sp.cos(x) * sp.cos(y) - sp.sin(x) * sp.sin(y)"
   ]
  },
  {
   "cell_type": "code",
   "execution_count": 192,
   "id": "f8471bb0",
   "metadata": {},
   "outputs": [
    {
     "data": {
      "text/latex": [
       "$\\displaystyle y + 1$"
      ],
      "text/plain": [
       "y + 1"
      ]
     },
     "execution_count": 192,
     "metadata": {},
     "output_type": "execute_result"
    }
   ],
   "source": [
    "sp.simplify((x + x * y) / x)"
   ]
  },
  {
   "cell_type": "code",
   "execution_count": 193,
   "id": "6fcd7ce8",
   "metadata": {},
   "outputs": [
    {
     "data": {
      "text/latex": [
       "$\\displaystyle \\sin^{2}{\\left(x \\right)} + \\cos^{2}{\\left(x \\right)}$"
      ],
      "text/plain": [
       "sin(x)**2 + cos(x)**2"
      ]
     },
     "execution_count": 193,
     "metadata": {},
     "output_type": "execute_result"
    }
   ],
   "source": [
    "expr = sp.sin(x)**2 + sp.cos(x)**2 \n",
    "expr"
   ]
  },
  {
   "cell_type": "code",
   "execution_count": 194,
   "id": "d428ab01",
   "metadata": {},
   "outputs": [
    {
     "data": {
      "text/latex": [
       "$\\displaystyle 1$"
      ],
      "text/plain": [
       "1"
      ]
     },
     "execution_count": 194,
     "metadata": {},
     "output_type": "execute_result"
    }
   ],
   "source": [
    "sp.simplify(expr)"
   ]
  },
  {
   "cell_type": "code",
   "execution_count": 195,
   "id": "127f5e11",
   "metadata": {},
   "outputs": [
    {
     "data": {
      "text/latex": [
       "$\\displaystyle x^{y} x^{z} y^{z}$"
      ],
      "text/plain": [
       "x**y*x**z*y**z"
      ]
     },
     "execution_count": 195,
     "metadata": {},
     "output_type": "execute_result"
    }
   ],
   "source": [
    "expr = x**y*x**z*y**z \n",
    "expr"
   ]
  },
  {
   "cell_type": "code",
   "execution_count": 196,
   "id": "b4de3489",
   "metadata": {},
   "outputs": [
    {
     "data": {
      "text/latex": [
       "$\\displaystyle x^{y + z} y^{z}$"
      ],
      "text/plain": [
       "x**(y + z)*y**z"
      ]
     },
     "execution_count": 196,
     "metadata": {},
     "output_type": "execute_result"
    }
   ],
   "source": [
    "sp.powsimp(expr)"
   ]
  },
  {
   "cell_type": "code",
   "execution_count": 197,
   "id": "5790d4d9",
   "metadata": {},
   "outputs": [
    {
     "data": {
      "text/latex": [
       "$\\displaystyle \\frac{x!}{\\left(x - 3\\right)!}$"
      ],
      "text/plain": [
       "factorial(x)/factorial(x - 3)"
      ]
     },
     "execution_count": 197,
     "metadata": {},
     "output_type": "execute_result"
    }
   ],
   "source": [
    "expr = sp.factorial(x)/sp.factorial(x - 3) \n",
    "expr"
   ]
  },
  {
   "cell_type": "code",
   "execution_count": 198,
   "id": "d1e6fdc5",
   "metadata": {},
   "outputs": [
    {
     "data": {
      "text/latex": [
       "$\\displaystyle x \\left(x - 2\\right) \\left(x - 1\\right)$"
      ],
      "text/plain": [
       "x*(x - 2)*(x - 1)"
      ]
     },
     "execution_count": 198,
     "metadata": {},
     "output_type": "execute_result"
    }
   ],
   "source": [
    "sp.combsimp(expr)"
   ]
  },
  {
   "cell_type": "markdown",
   "id": "62786686",
   "metadata": {},
   "source": [
    "## Calculus"
   ]
  },
  {
   "cell_type": "markdown",
   "id": "abb17d73",
   "metadata": {},
   "source": [
    "### Limits\n",
    "Limits are easy to use in SymPy, they follow the syntax limit(function, variable, point), so to\n",
    "compute the limit of 𝑓(𝑥) as 𝑥 → 0, you would issue limit(f, x, 0):"
   ]
  },
  {
   "cell_type": "code",
   "execution_count": 199,
   "id": "07abcd69",
   "metadata": {},
   "outputs": [
    {
     "data": {
      "text/latex": [
       "$\\displaystyle 1$"
      ],
      "text/plain": [
       "1"
      ]
     },
     "execution_count": 199,
     "metadata": {},
     "output_type": "execute_result"
    }
   ],
   "source": [
    "sp.limit(sp.sin(x) / x, x, 0)"
   ]
  },
  {
   "cell_type": "code",
   "execution_count": 200,
   "id": "253cf169",
   "metadata": {},
   "outputs": [
    {
     "data": {
      "text/latex": [
       "$\\displaystyle \\infty$"
      ],
      "text/plain": [
       "oo"
      ]
     },
     "execution_count": 200,
     "metadata": {},
     "output_type": "execute_result"
    }
   ],
   "source": [
    "#you can also calculate the limit at infinity:\n",
    "sp.limit(x, x, sp.oo)"
   ]
  },
  {
   "cell_type": "code",
   "execution_count": 201,
   "id": "db1bd54c",
   "metadata": {},
   "outputs": [
    {
     "data": {
      "text/latex": [
       "$\\displaystyle 0$"
      ],
      "text/plain": [
       "0"
      ]
     },
     "execution_count": 201,
     "metadata": {},
     "output_type": "execute_result"
    }
   ],
   "source": [
    "sp.limit(1 / x, x, sp.oo)"
   ]
  },
  {
   "cell_type": "code",
   "execution_count": 202,
   "id": "cd28f7c0",
   "metadata": {},
   "outputs": [
    {
     "data": {
      "text/latex": [
       "$\\displaystyle 1$"
      ],
      "text/plain": [
       "1"
      ]
     },
     "execution_count": 202,
     "metadata": {},
     "output_type": "execute_result"
    }
   ],
   "source": [
    "sp.limit(x ** x, x, 0)"
   ]
  },
  {
   "cell_type": "markdown",
   "id": "745ec87a",
   "metadata": {},
   "source": [
    "## Differentiation\n",
    "You can differentiate any SymPy expression using diff(func, var). Examples:"
   ]
  },
  {
   "cell_type": "code",
   "execution_count": 203,
   "id": "c61ffa81",
   "metadata": {},
   "outputs": [
    {
     "data": {
      "text/latex": [
       "$\\displaystyle \\cos{\\left(x \\right)}$"
      ],
      "text/plain": [
       "cos(x)"
      ]
     },
     "execution_count": 203,
     "metadata": {},
     "output_type": "execute_result"
    }
   ],
   "source": [
    "sp.diff(sp.sin(x), x)"
   ]
  },
  {
   "cell_type": "code",
   "execution_count": 204,
   "id": "665c46ad",
   "metadata": {},
   "outputs": [
    {
     "data": {
      "text/latex": [
       "$\\displaystyle 2 \\cos{\\left(2 x \\right)}$"
      ],
      "text/plain": [
       "2*cos(2*x)"
      ]
     },
     "execution_count": 204,
     "metadata": {},
     "output_type": "execute_result"
    }
   ],
   "source": [
    "sp.diff(sp.sin(2 * x), x)"
   ]
  },
  {
   "cell_type": "code",
   "execution_count": 205,
   "id": "a86c24f7",
   "metadata": {},
   "outputs": [
    {
     "data": {
      "text/latex": [
       "$\\displaystyle \\tan^{2}{\\left(x \\right)} + 1$"
      ],
      "text/plain": [
       "tan(x)**2 + 1"
      ]
     },
     "execution_count": 205,
     "metadata": {},
     "output_type": "execute_result"
    }
   ],
   "source": [
    "sp.diff(sp.tan(x), x)"
   ]
  },
  {
   "cell_type": "markdown",
   "id": "652938e3",
   "metadata": {},
   "source": [
    "You can check, that it is correct by:  (Definition of Derivative)"
   ]
  },
  {
   "cell_type": "code",
   "execution_count": 206,
   "id": "eb7387c3",
   "metadata": {},
   "outputs": [
    {
     "data": {
      "text/latex": [
       "$\\displaystyle \\tan^{2}{\\left(x \\right)} + 1$"
      ],
      "text/plain": [
       "tan(x)**2 + 1"
      ]
     },
     "execution_count": 206,
     "metadata": {},
     "output_type": "execute_result"
    }
   ],
   "source": [
    "sp.limit((sp.tan(x + y) - sp.tan(x)) / y, y, 0)"
   ]
  },
  {
   "cell_type": "markdown",
   "id": "83eaafb1",
   "metadata": {},
   "source": [
    "Higher derivatives can be calculated using the diff(func, var, n) method:"
   ]
  },
  {
   "cell_type": "code",
   "execution_count": 207,
   "id": "7774365d",
   "metadata": {},
   "outputs": [
    {
     "data": {
      "text/latex": [
       "$\\displaystyle 2 \\cos{\\left(2 x \\right)}$"
      ],
      "text/plain": [
       "2*cos(2*x)"
      ]
     },
     "execution_count": 207,
     "metadata": {},
     "output_type": "execute_result"
    }
   ],
   "source": [
    "sp.diff(sp.sin(2 * x), x, 1)"
   ]
  },
  {
   "cell_type": "code",
   "execution_count": 208,
   "id": "a6a929f5",
   "metadata": {},
   "outputs": [
    {
     "data": {
      "text/latex": [
       "$\\displaystyle - 4 \\sin{\\left(2 x \\right)}$"
      ],
      "text/plain": [
       "-4*sin(2*x)"
      ]
     },
     "execution_count": 208,
     "metadata": {},
     "output_type": "execute_result"
    }
   ],
   "source": [
    "sp.diff(sp.sin(2 * x), x, 2)"
   ]
  },
  {
   "cell_type": "code",
   "execution_count": 209,
   "id": "f57c3fd0",
   "metadata": {},
   "outputs": [
    {
     "data": {
      "text/latex": [
       "$\\displaystyle - 8 \\cos{\\left(2 x \\right)}$"
      ],
      "text/plain": [
       "-8*cos(2*x)"
      ]
     },
     "execution_count": 209,
     "metadata": {},
     "output_type": "execute_result"
    }
   ],
   "source": [
    "sp.diff(sp.sin(2 * x), x, 3)"
   ]
  },
  {
   "cell_type": "markdown",
   "id": "28ebb195",
   "metadata": {},
   "source": [
    "## Series expansion\n",
    "SymPy also knows how to compute the Taylor series of an expression at a point. Use series(expr,\n",
    "var):"
   ]
  },
  {
   "cell_type": "code",
   "execution_count": 210,
   "id": "7b91f331",
   "metadata": {},
   "outputs": [
    {
     "data": {
      "text/latex": [
       "$\\displaystyle 1 - \\frac{x^{2}}{2} + \\frac{x^{4}}{24} + O\\left(x^{6}\\right)$"
      ],
      "text/plain": [
       "1 - x**2/2 + x**4/24 + O(x**6)"
      ]
     },
     "execution_count": 210,
     "metadata": {},
     "output_type": "execute_result"
    }
   ],
   "source": [
    "sp.series(sp.cos(x), x)"
   ]
  },
  {
   "cell_type": "code",
   "execution_count": 211,
   "id": "f3c8845c",
   "metadata": {},
   "outputs": [
    {
     "data": {
      "text/latex": [
       "$\\displaystyle 1 + \\frac{x^{2}}{2} + \\frac{5 x^{4}}{24} + O\\left(x^{6}\\right)$"
      ],
      "text/plain": [
       "1 + x**2/2 + 5*x**4/24 + O(x**6)"
      ]
     },
     "execution_count": 211,
     "metadata": {},
     "output_type": "execute_result"
    }
   ],
   "source": [
    "sp.series(1/(sp.cos(x)), x)"
   ]
  },
  {
   "cell_type": "markdown",
   "id": "9d73d6ca",
   "metadata": {},
   "source": [
    "## Integration\n",
    "SymPy has support for indefinite and definite integration of transcendental elementary and special functions via integrate() facility, which uses the powerful extended Risch-Norman algorithm and some heuristics and pattern matching. You can integrate elementary functions:"
   ]
  },
  {
   "cell_type": "code",
   "execution_count": 212,
   "id": "beda6aed",
   "metadata": {},
   "outputs": [
    {
     "data": {
      "text/latex": [
       "$\\displaystyle \\frac{3 x^{6}}{2}$"
      ],
      "text/plain": [
       "3*x**6/2"
      ]
     },
     "execution_count": 212,
     "metadata": {},
     "output_type": "execute_result"
    }
   ],
   "source": [
    "sp.integrate(9 * x ** 5, x)"
   ]
  },
  {
   "cell_type": "code",
   "execution_count": 213,
   "id": "8869c88c",
   "metadata": {},
   "outputs": [
    {
     "data": {
      "text/latex": [
       "$\\displaystyle - \\cos{\\left(x \\right)}$"
      ],
      "text/plain": [
       "-cos(x)"
      ]
     },
     "execution_count": 213,
     "metadata": {},
     "output_type": "execute_result"
    }
   ],
   "source": [
    "sp.integrate(sp.sin(x), x)"
   ]
  },
  {
   "cell_type": "code",
   "execution_count": 214,
   "id": "57865f4f",
   "metadata": {},
   "outputs": [
    {
     "data": {
      "text/latex": [
       "$\\displaystyle x \\log{\\left(x \\right)} - x$"
      ],
      "text/plain": [
       "x*log(x) - x"
      ]
     },
     "execution_count": 214,
     "metadata": {},
     "output_type": "execute_result"
    }
   ],
   "source": [
    "sp.integrate(sp.log(x), x)"
   ]
  },
  {
   "cell_type": "code",
   "execution_count": 215,
   "id": "4ab21a37",
   "metadata": {},
   "outputs": [
    {
     "data": {
      "text/latex": [
       "$\\displaystyle x^{2} + \\cosh{\\left(x \\right)}$"
      ],
      "text/plain": [
       "x**2 + cosh(x)"
      ]
     },
     "execution_count": 215,
     "metadata": {},
     "output_type": "execute_result"
    }
   ],
   "source": [
    "sp.integrate(2 * x + sp.sinh(x), x)"
   ]
  },
  {
   "cell_type": "code",
   "execution_count": 216,
   "id": "3220f27a",
   "metadata": {},
   "outputs": [
    {
     "data": {
      "text/latex": [
       "$\\displaystyle \\frac{\\sqrt{\\pi} \\operatorname{erf}^{2}{\\left(x \\right)}}{4}$"
      ],
      "text/plain": [
       "sqrt(pi)*erf(x)**2/4"
      ]
     },
     "execution_count": 216,
     "metadata": {},
     "output_type": "execute_result"
    }
   ],
   "source": [
    "# special functions are handled easily:\n",
    "sp.integrate(sp.exp(-x ** 2) * sp.erf(x), x)"
   ]
  },
  {
   "cell_type": "markdown",
   "id": "1cbad707",
   "metadata": {},
   "source": [
    "## It is possible to compute definite integral:"
   ]
  },
  {
   "cell_type": "code",
   "execution_count": 217,
   "id": "6caebb8a",
   "metadata": {},
   "outputs": [
    {
     "data": {
      "text/latex": [
       "$\\displaystyle 0$"
      ],
      "text/plain": [
       "0"
      ]
     },
     "execution_count": 217,
     "metadata": {},
     "output_type": "execute_result"
    }
   ],
   "source": [
    "sp.integrate(x**3, (x, -1, 1))"
   ]
  },
  {
   "cell_type": "code",
   "execution_count": 218,
   "id": "fe5f4aa7",
   "metadata": {},
   "outputs": [
    {
     "data": {
      "text/latex": [
       "$\\displaystyle 2$"
      ],
      "text/plain": [
       "2"
      ]
     },
     "execution_count": 218,
     "metadata": {},
     "output_type": "execute_result"
    }
   ],
   "source": [
    "sp.integrate(sp.cos(x), (x, -sp.pi / 2, sp.pi / 2))"
   ]
  },
  {
   "cell_type": "code",
   "execution_count": 219,
   "id": "1e937f40",
   "metadata": {},
   "outputs": [
    {
     "data": {
      "text/latex": [
       "$\\displaystyle 2$"
      ],
      "text/plain": [
       "2"
      ]
     },
     "execution_count": 219,
     "metadata": {},
     "output_type": "execute_result"
    }
   ],
   "source": [
    "sp.integrate(sp.cos(x), (x, -sp.pi / 2, sp.pi / 2))"
   ]
  },
  {
   "cell_type": "markdown",
   "id": "9dae9d1e",
   "metadata": {},
   "source": [
    "### Also improper integrals are supported as well:"
   ]
  },
  {
   "cell_type": "code",
   "execution_count": 220,
   "id": "44da0b3e",
   "metadata": {},
   "outputs": [
    {
     "data": {
      "text/latex": [
       "$\\displaystyle 1$"
      ],
      "text/plain": [
       "1"
      ]
     },
     "execution_count": 220,
     "metadata": {},
     "output_type": "execute_result"
    }
   ],
   "source": [
    "sp.integrate(sp.exp(-x), (x, 0, sp.oo))"
   ]
  },
  {
   "cell_type": "code",
   "execution_count": 221,
   "id": "96755b4c",
   "metadata": {},
   "outputs": [
    {
     "data": {
      "text/latex": [
       "$\\displaystyle \\sqrt{\\pi}$"
      ],
      "text/plain": [
       "sqrt(pi)"
      ]
     },
     "execution_count": 221,
     "metadata": {},
     "output_type": "execute_result"
    }
   ],
   "source": [
    "sp.integrate(sp.exp(-x ** 2), (x, -sp.oo, sp.oo))"
   ]
  },
  {
   "cell_type": "markdown",
   "id": "cb4203aa",
   "metadata": {},
   "source": [
    "### Equation solving\n",
    "SymPy is able to solve algebraic equations, in one and several variables using solveset():"
   ]
  },
  {
   "cell_type": "code",
   "execution_count": 222,
   "id": "42b46935",
   "metadata": {},
   "outputs": [
    {
     "data": {
      "text/latex": [
       "$\\displaystyle \\left\\{-1, 1, - i, i\\right\\}$"
      ],
      "text/plain": [
       "{-1, 1, -I, I}"
      ]
     },
     "execution_count": 222,
     "metadata": {},
     "output_type": "execute_result"
    }
   ],
   "source": [
    "sp.solveset(x ** 4 - 1, x)"
   ]
  },
  {
   "cell_type": "markdown",
   "id": "ff553857",
   "metadata": {},
   "source": [
    "As you can see it takes as first argument an expression that is supposed to be equaled to 0. It also has\n",
    "(limited) support for transcendental equations:"
   ]
  },
  {
   "cell_type": "code",
   "execution_count": 223,
   "id": "acd7671d",
   "metadata": {},
   "outputs": [
    {
     "data": {
      "text/latex": [
       "$\\displaystyle \\left\\{i \\left(2 n \\pi + \\pi\\right)\\; \\middle|\\; n \\in \\mathbb{Z}\\right\\}$"
      ],
      "text/plain": [
       "ImageSet(Lambda(_n, I*(2*_n*pi + pi)), Integers)"
      ]
     },
     "execution_count": 223,
     "metadata": {},
     "output_type": "execute_result"
    }
   ],
   "source": [
    "sp.solveset(sp.exp(x) + 1, x)"
   ]
  },
  {
   "cell_type": "markdown",
   "id": "5f43f2fe",
   "metadata": {},
   "source": [
    "### Systems of linear equations\n",
    "Sympy is able to solve a large part of polynomial equations, and is also capable of solving multiple\n",
    "equations with respect to multiple variables giving a tuple as second argument. To do this you use\n",
    "the solve() command:"
   ]
  },
  {
   "cell_type": "code",
   "execution_count": 224,
   "id": "b5062485",
   "metadata": {},
   "outputs": [
    {
     "data": {
      "text/plain": [
       "(-3, 1)"
      ]
     },
     "execution_count": 224,
     "metadata": {},
     "output_type": "execute_result"
    }
   ],
   "source": [
    "solution = sp.solve((x + 5 * y - 2, -3 * x + 6 * y - 15), (x, y))\n",
    "solution[x], solution[y]"
   ]
  },
  {
   "cell_type": "markdown",
   "id": "b7ea9229",
   "metadata": {},
   "source": [
    "Another alternative in the case of polynomial equations is factor. factor returns the polynomial factorized\n",
    "into irreducible terms, and is capable of computing the factorization over various domains:"
   ]
  },
  {
   "cell_type": "code",
   "execution_count": 225,
   "id": "7c25a72e",
   "metadata": {},
   "outputs": [
    {
     "data": {
      "text/latex": [
       "$\\displaystyle \\left(x^{2} - x - 1\\right) \\left(x^{2} + x - 1\\right)$"
      ],
      "text/plain": [
       "(x**2 - x - 1)*(x**2 + x - 1)"
      ]
     },
     "execution_count": 225,
     "metadata": {},
     "output_type": "execute_result"
    }
   ],
   "source": [
    "f = x ** 4 - 3 * x ** 2 + 1\n",
    "sp.factor(f)"
   ]
  },
  {
   "cell_type": "code",
   "execution_count": 226,
   "id": "902336e3",
   "metadata": {},
   "outputs": [
    {
     "data": {
      "text/latex": [
       "$\\displaystyle \\left(x^{2} + x + 1\\right)^{2}$"
      ],
      "text/plain": [
       "(x**2 + x + 1)**2"
      ]
     },
     "execution_count": 226,
     "metadata": {},
     "output_type": "execute_result"
    }
   ],
   "source": [
    "sp.factor(f, modulus = 2)"
   ]
  },
  {
   "cell_type": "code",
   "execution_count": 227,
   "id": "ca2924c9",
   "metadata": {},
   "outputs": [
    {
     "data": {
      "text/latex": [
       "$\\displaystyle \\left(x - 2\\right)^{2} \\left(x + 2\\right)^{2}$"
      ],
      "text/plain": [
       "(x - 2)**2*(x + 2)**2"
      ]
     },
     "execution_count": 227,
     "metadata": {},
     "output_type": "execute_result"
    }
   ],
   "source": [
    "sp.factor(f, modulus = 5)"
   ]
  },
  {
   "cell_type": "markdown",
   "id": "7b37ff45",
   "metadata": {},
   "source": [
    "## Linear Algebra in Sympy\n",
    "Matrices"
   ]
  },
  {
   "cell_type": "code",
   "execution_count": 228,
   "id": "7c50a287",
   "metadata": {},
   "outputs": [
    {
     "data": {
      "text/latex": [
       "$\\displaystyle \\left[\\begin{matrix}1 & 2\\\\-1 & 1\\end{matrix}\\right]$"
      ],
      "text/plain": [
       "Matrix([\n",
       "[ 1, 2],\n",
       "[-1, 1]])"
      ]
     },
     "execution_count": 228,
     "metadata": {},
     "output_type": "execute_result"
    }
   ],
   "source": [
    "B = sp.Matrix([[1, 2], [-1, 1]])\n",
    "B"
   ]
  },
  {
   "cell_type": "code",
   "execution_count": 229,
   "id": "9fb03149",
   "metadata": {},
   "outputs": [
    {
     "data": {
      "text/latex": [
       "$\\displaystyle \\left[\\begin{matrix}-5 & 2\\\\-1 & -5\\end{matrix}\\right]$"
      ],
      "text/plain": [
       "Matrix([\n",
       "[-5,  2],\n",
       "[-1, -5]])"
      ]
     },
     "execution_count": 229,
     "metadata": {},
     "output_type": "execute_result"
    }
   ],
   "source": [
    "B**3"
   ]
  },
  {
   "cell_type": "code",
   "execution_count": 230,
   "id": "6ef2b787",
   "metadata": {},
   "outputs": [
    {
     "data": {
      "text/latex": [
       "$\\displaystyle \\left[\\begin{matrix}1 & x\\\\y & 1\\end{matrix}\\right]$"
      ],
      "text/plain": [
       "Matrix([\n",
       "[1, x],\n",
       "[y, 1]])"
      ]
     },
     "execution_count": 230,
     "metadata": {},
     "output_type": "execute_result"
    }
   ],
   "source": [
    "# unlike a NumPy array, you can also put Symbols in it:\n",
    "A = sp.Matrix([[1, x], [y, 1]])\n",
    "A"
   ]
  },
  {
   "cell_type": "code",
   "execution_count": 231,
   "id": "65b6bdd9",
   "metadata": {},
   "outputs": [
    {
     "data": {
      "text/latex": [
       "$\\displaystyle \\left[\\begin{matrix}x y + 1 & 2 x\\\\2 y & x y + 1\\end{matrix}\\right]$"
      ],
      "text/plain": [
       "Matrix([\n",
       "[x*y + 1,     2*x],\n",
       "[    2*y, x*y + 1]])"
      ]
     },
     "execution_count": 231,
     "metadata": {},
     "output_type": "execute_result"
    }
   ],
   "source": [
    "A**2"
   ]
  },
  {
   "cell_type": "markdown",
   "id": "3b3946c1",
   "metadata": {},
   "source": [
    "## Differential Equations\n",
    "SymPy is capable of solving (some) Ordinary Differential.\n",
    "\n",
    "To solve differential equations, use dsolve First, create an undefined function by passing cls=Function to the symbols function:"
   ]
  },
  {
   "cell_type": "code",
   "execution_count": 232,
   "id": "2e95b73c",
   "metadata": {},
   "outputs": [],
   "source": [
    "f, g = sp.symbols('f g', cls=sp.Function)"
   ]
  },
  {
   "cell_type": "code",
   "execution_count": 233,
   "id": "0cf12dd8",
   "metadata": {},
   "outputs": [
    {
     "data": {
      "text/latex": [
       "$\\displaystyle f{\\left(x \\right)}$"
      ],
      "text/plain": [
       "f(x)"
      ]
     },
     "execution_count": 233,
     "metadata": {},
     "output_type": "execute_result"
    }
   ],
   "source": [
    "f(x)"
   ]
  },
  {
   "cell_type": "code",
   "execution_count": 234,
   "id": "cfeef0cb",
   "metadata": {},
   "outputs": [
    {
     "data": {
      "text/latex": [
       "$\\displaystyle f{\\left(x \\right)} + \\frac{d^{2}}{d x^{2}} f{\\left(x \\right)}$"
      ],
      "text/plain": [
       "f(x) + Derivative(f(x), (x, 2))"
      ]
     },
     "execution_count": 234,
     "metadata": {},
     "output_type": "execute_result"
    }
   ],
   "source": [
    "f(x).diff(x, x) + f(x)"
   ]
  },
  {
   "cell_type": "code",
   "execution_count": 235,
   "id": "00fe67a4",
   "metadata": {},
   "outputs": [
    {
     "data": {
      "text/latex": [
       "$\\displaystyle f{\\left(x \\right)} = C_{1} \\sin{\\left(x \\right)} + C_{2} \\cos{\\left(x \\right)}$"
      ],
      "text/plain": [
       "Eq(f(x), C1*sin(x) + C2*cos(x))"
      ]
     },
     "execution_count": 235,
     "metadata": {},
     "output_type": "execute_result"
    }
   ],
   "source": [
    "sp.dsolve(f(x).diff(x, x) + f(x), f(x))"
   ]
  },
  {
   "cell_type": "code",
   "execution_count": 236,
   "id": "26e1cfe6",
   "metadata": {},
   "outputs": [
    {
     "data": {
      "text/plain": [
       "[Eq(f(x), -acos(C1/cos(x)) + 2*pi), Eq(f(x), acos(C1/cos(x)))]"
      ]
     },
     "execution_count": 236,
     "metadata": {},
     "output_type": "execute_result"
    }
   ],
   "source": [
    "sp.dsolve(sp.sin(x) * sp.cos(f(x)) + sp.cos(x) * sp.sin(f(x)) * f(x).diff(x), f(x), hint='separable')"
   ]
  },
  {
   "cell_type": "markdown",
   "id": "e36e55a9",
   "metadata": {},
   "source": [
    "## --------------------------------------------------------------------------------------------------\n",
    "# 3. Pandas : Python Data Analysis Library"
   ]
  },
  {
   "cell_type": "markdown",
   "id": "e83fafe9",
   "metadata": {},
   "source": [
    "DataFrames and Series are quite similar in that many operations that you can do with one you can do with the other, such as filling in null values and calculating the mean.\n",
    "\n",
    "There are many ways to create a DataFrame from scratch, but a great option is to just use a simple dict."
   ]
  },
  {
   "cell_type": "code",
   "execution_count": 237,
   "id": "15b10972",
   "metadata": {},
   "outputs": [
    {
     "data": {
      "text/plain": [
       "a    3\n",
       "b   -5\n",
       "c    7\n",
       "d    4\n",
       "dtype: int64"
      ]
     },
     "execution_count": 237,
     "metadata": {},
     "output_type": "execute_result"
    }
   ],
   "source": [
    "s = pd.Series([3, -5, 7, 4], index =[  'a' , 'b'  , 'c' , 'd'  ])\n",
    "s"
   ]
  },
  {
   "cell_type": "code",
   "execution_count": 238,
   "id": "52e03fc0",
   "metadata": {},
   "outputs": [
    {
     "data": {
      "text/plain": [
       "{'apples': [3, 2, 0, 1], 'oranges': [0, 3, 7, 2]}"
      ]
     },
     "execution_count": 238,
     "metadata": {},
     "output_type": "execute_result"
    }
   ],
   "source": [
    "data = {'apples': [3, 2, 0, 1], 'oranges': [0, 3, 7, 2]}\n",
    "data"
   ]
  },
  {
   "cell_type": "code",
   "execution_count": 239,
   "id": "d02073ea",
   "metadata": {},
   "outputs": [
    {
     "data": {
      "text/html": [
       "<div>\n",
       "<style scoped>\n",
       "    .dataframe tbody tr th:only-of-type {\n",
       "        vertical-align: middle;\n",
       "    }\n",
       "\n",
       "    .dataframe tbody tr th {\n",
       "        vertical-align: top;\n",
       "    }\n",
       "\n",
       "    .dataframe thead th {\n",
       "        text-align: right;\n",
       "    }\n",
       "</style>\n",
       "<table border=\"1\" class=\"dataframe\">\n",
       "  <thead>\n",
       "    <tr style=\"text-align: right;\">\n",
       "      <th></th>\n",
       "      <th>apples</th>\n",
       "      <th>oranges</th>\n",
       "    </tr>\n",
       "  </thead>\n",
       "  <tbody>\n",
       "    <tr>\n",
       "      <th>0</th>\n",
       "      <td>3</td>\n",
       "      <td>0</td>\n",
       "    </tr>\n",
       "    <tr>\n",
       "      <th>1</th>\n",
       "      <td>2</td>\n",
       "      <td>3</td>\n",
       "    </tr>\n",
       "    <tr>\n",
       "      <th>2</th>\n",
       "      <td>0</td>\n",
       "      <td>7</td>\n",
       "    </tr>\n",
       "    <tr>\n",
       "      <th>3</th>\n",
       "      <td>1</td>\n",
       "      <td>2</td>\n",
       "    </tr>\n",
       "  </tbody>\n",
       "</table>\n",
       "</div>"
      ],
      "text/plain": [
       "   apples  oranges\n",
       "0       3        0\n",
       "1       2        3\n",
       "2       0        7\n",
       "3       1        2"
      ]
     },
     "execution_count": 239,
     "metadata": {},
     "output_type": "execute_result"
    }
   ],
   "source": [
    "# And then pass it to the pandas DataFrame constructor:\n",
    "purchases = pd.DataFrame(data)\n",
    "\n",
    "purchases"
   ]
  },
  {
   "cell_type": "markdown",
   "id": "e6613437",
   "metadata": {},
   "source": [
    "Each (key, value) item in data corresponds to a column in the resulting DataFrame.\n",
    "\n",
    "The Index of this DataFrame was given to us on creation as the numbers 0-3, \n",
    "but we could also create our own when we initialize the DataFrame.\n",
    "\n",
    "Let's have customer names as our index:"
   ]
  },
  {
   "cell_type": "code",
   "execution_count": 240,
   "id": "cd0de259",
   "metadata": {},
   "outputs": [
    {
     "data": {
      "text/html": [
       "<div>\n",
       "<style scoped>\n",
       "    .dataframe tbody tr th:only-of-type {\n",
       "        vertical-align: middle;\n",
       "    }\n",
       "\n",
       "    .dataframe tbody tr th {\n",
       "        vertical-align: top;\n",
       "    }\n",
       "\n",
       "    .dataframe thead th {\n",
       "        text-align: right;\n",
       "    }\n",
       "</style>\n",
       "<table border=\"1\" class=\"dataframe\">\n",
       "  <thead>\n",
       "    <tr style=\"text-align: right;\">\n",
       "      <th></th>\n",
       "      <th>apples</th>\n",
       "      <th>oranges</th>\n",
       "    </tr>\n",
       "  </thead>\n",
       "  <tbody>\n",
       "    <tr>\n",
       "      <th>June</th>\n",
       "      <td>3</td>\n",
       "      <td>0</td>\n",
       "    </tr>\n",
       "    <tr>\n",
       "      <th>Robert</th>\n",
       "      <td>2</td>\n",
       "      <td>3</td>\n",
       "    </tr>\n",
       "    <tr>\n",
       "      <th>Lily</th>\n",
       "      <td>0</td>\n",
       "      <td>7</td>\n",
       "    </tr>\n",
       "    <tr>\n",
       "      <th>David</th>\n",
       "      <td>1</td>\n",
       "      <td>2</td>\n",
       "    </tr>\n",
       "  </tbody>\n",
       "</table>\n",
       "</div>"
      ],
      "text/plain": [
       "        apples  oranges\n",
       "June         3        0\n",
       "Robert       2        3\n",
       "Lily         0        7\n",
       "David        1        2"
      ]
     },
     "execution_count": 240,
     "metadata": {},
     "output_type": "execute_result"
    }
   ],
   "source": [
    "purchases = pd.DataFrame(data, index=['June', 'Robert', 'Lily', 'David'])\n",
    "purchases"
   ]
  },
  {
   "cell_type": "code",
   "execution_count": 241,
   "id": "b8d140d0",
   "metadata": {},
   "outputs": [
    {
     "data": {
      "image/png": "[encoded data removed]",
      "text/plain": [
       "<Figure size 640x480 with 1 Axes>"
      ]
     },
     "metadata": {},
     "output_type": "display_data"
    }
   ],
   "source": [
    "purchases.plot()\n",
    "plt.show()"
   ]
  },
  {
   "cell_type": "markdown",
   "id": "c0f15f13",
   "metadata": {},
   "source": [
    "So now we could locate a customer's order by using their name:"
   ]
  },
  {
   "cell_type": "code",
   "execution_count": 242,
   "id": "f9cbe19f",
   "metadata": {},
   "outputs": [
    {
     "data": {
      "text/plain": [
       "apples     3\n",
       "oranges    0\n",
       "Name: June, dtype: int64"
      ]
     },
     "execution_count": 242,
     "metadata": {},
     "output_type": "execute_result"
    }
   ],
   "source": [
    "purchases.loc['June']"
   ]
  },
  {
   "cell_type": "markdown",
   "id": "80a2d4aa",
   "metadata": {},
   "source": [
    "## To read Excel or CSV file"
   ]
  },
  {
   "cell_type": "code",
   "execution_count": 243,
   "id": "0da484a2",
   "metadata": {},
   "outputs": [
    {
     "data": {
      "text/html": [
       "<div>\n",
       "<style scoped>\n",
       "    .dataframe tbody tr th:only-of-type {\n",
       "        vertical-align: middle;\n",
       "    }\n",
       "\n",
       "    .dataframe tbody tr th {\n",
       "        vertical-align: top;\n",
       "    }\n",
       "\n",
       "    .dataframe thead th {\n",
       "        text-align: right;\n",
       "    }\n",
       "</style>\n",
       "<table border=\"1\" class=\"dataframe\">\n",
       "  <thead>\n",
       "    <tr style=\"text-align: right;\">\n",
       "      <th></th>\n",
       "      <th>id</th>\n",
       "      <th>name</th>\n",
       "      <th>class</th>\n",
       "      <th>mark</th>\n",
       "      <th>gender</th>\n",
       "    </tr>\n",
       "  </thead>\n",
       "  <tbody>\n",
       "    <tr>\n",
       "      <th>0</th>\n",
       "      <td>1</td>\n",
       "      <td>John Deo</td>\n",
       "      <td>Four</td>\n",
       "      <td>75</td>\n",
       "      <td>female</td>\n",
       "    </tr>\n",
       "    <tr>\n",
       "      <th>1</th>\n",
       "      <td>2</td>\n",
       "      <td>Max Ruin</td>\n",
       "      <td>Three</td>\n",
       "      <td>85</td>\n",
       "      <td>male</td>\n",
       "    </tr>\n",
       "    <tr>\n",
       "      <th>2</th>\n",
       "      <td>3</td>\n",
       "      <td>Arnold</td>\n",
       "      <td>Three</td>\n",
       "      <td>55</td>\n",
       "      <td>male</td>\n",
       "    </tr>\n",
       "    <tr>\n",
       "      <th>3</th>\n",
       "      <td>4</td>\n",
       "      <td>Krish Star</td>\n",
       "      <td>Four</td>\n",
       "      <td>60</td>\n",
       "      <td>female</td>\n",
       "    </tr>\n",
       "    <tr>\n",
       "      <th>4</th>\n",
       "      <td>5</td>\n",
       "      <td>John Mike</td>\n",
       "      <td>Four</td>\n",
       "      <td>60</td>\n",
       "      <td>female</td>\n",
       "    </tr>\n",
       "    <tr>\n",
       "      <th>5</th>\n",
       "      <td>6</td>\n",
       "      <td>Alex John</td>\n",
       "      <td>Four</td>\n",
       "      <td>55</td>\n",
       "      <td>male</td>\n",
       "    </tr>\n",
       "    <tr>\n",
       "      <th>6</th>\n",
       "      <td>7</td>\n",
       "      <td>My John Rob</td>\n",
       "      <td>Five</td>\n",
       "      <td>78</td>\n",
       "      <td>male</td>\n",
       "    </tr>\n",
       "    <tr>\n",
       "      <th>7</th>\n",
       "      <td>8</td>\n",
       "      <td>Asruid</td>\n",
       "      <td>Five</td>\n",
       "      <td>85</td>\n",
       "      <td>male</td>\n",
       "    </tr>\n",
       "    <tr>\n",
       "      <th>8</th>\n",
       "      <td>9</td>\n",
       "      <td>Tes Qry</td>\n",
       "      <td>Six</td>\n",
       "      <td>78</td>\n",
       "      <td>male</td>\n",
       "    </tr>\n",
       "    <tr>\n",
       "      <th>9</th>\n",
       "      <td>10</td>\n",
       "      <td>Big John</td>\n",
       "      <td>Four</td>\n",
       "      <td>55</td>\n",
       "      <td>female</td>\n",
       "    </tr>\n",
       "    <tr>\n",
       "      <th>10</th>\n",
       "      <td>11</td>\n",
       "      <td>Ronald</td>\n",
       "      <td>Six</td>\n",
       "      <td>89</td>\n",
       "      <td>female</td>\n",
       "    </tr>\n",
       "    <tr>\n",
       "      <th>11</th>\n",
       "      <td>12</td>\n",
       "      <td>Recky</td>\n",
       "      <td>Six</td>\n",
       "      <td>94</td>\n",
       "      <td>female</td>\n",
       "    </tr>\n",
       "    <tr>\n",
       "      <th>12</th>\n",
       "      <td>13</td>\n",
       "      <td>Kty</td>\n",
       "      <td>Seven</td>\n",
       "      <td>88</td>\n",
       "      <td>female</td>\n",
       "    </tr>\n",
       "    <tr>\n",
       "      <th>13</th>\n",
       "      <td>14</td>\n",
       "      <td>Bigy</td>\n",
       "      <td>Seven</td>\n",
       "      <td>88</td>\n",
       "      <td>female</td>\n",
       "    </tr>\n",
       "    <tr>\n",
       "      <th>14</th>\n",
       "      <td>15</td>\n",
       "      <td>Tade Row</td>\n",
       "      <td>Four</td>\n",
       "      <td>88</td>\n",
       "      <td>male</td>\n",
       "    </tr>\n",
       "    <tr>\n",
       "      <th>15</th>\n",
       "      <td>16</td>\n",
       "      <td>Gimmy</td>\n",
       "      <td>Four</td>\n",
       "      <td>88</td>\n",
       "      <td>male</td>\n",
       "    </tr>\n",
       "    <tr>\n",
       "      <th>16</th>\n",
       "      <td>17</td>\n",
       "      <td>Tumyu</td>\n",
       "      <td>Six</td>\n",
       "      <td>54</td>\n",
       "      <td>male</td>\n",
       "    </tr>\n",
       "    <tr>\n",
       "      <th>17</th>\n",
       "      <td>18</td>\n",
       "      <td>Honny</td>\n",
       "      <td>Five</td>\n",
       "      <td>75</td>\n",
       "      <td>male</td>\n",
       "    </tr>\n",
       "    <tr>\n",
       "      <th>18</th>\n",
       "      <td>19</td>\n",
       "      <td>Tinny</td>\n",
       "      <td>Nine</td>\n",
       "      <td>18</td>\n",
       "      <td>male</td>\n",
       "    </tr>\n",
       "    <tr>\n",
       "      <th>19</th>\n",
       "      <td>20</td>\n",
       "      <td>Jackly</td>\n",
       "      <td>Nine</td>\n",
       "      <td>65</td>\n",
       "      <td>female</td>\n",
       "    </tr>\n",
       "    <tr>\n",
       "      <th>20</th>\n",
       "      <td>21</td>\n",
       "      <td>Babby John</td>\n",
       "      <td>Four</td>\n",
       "      <td>69</td>\n",
       "      <td>female</td>\n",
       "    </tr>\n",
       "    <tr>\n",
       "      <th>21</th>\n",
       "      <td>22</td>\n",
       "      <td>Reggid</td>\n",
       "      <td>Seven</td>\n",
       "      <td>55</td>\n",
       "      <td>female</td>\n",
       "    </tr>\n",
       "    <tr>\n",
       "      <th>22</th>\n",
       "      <td>23</td>\n",
       "      <td>Herod</td>\n",
       "      <td>Eight</td>\n",
       "      <td>79</td>\n",
       "      <td>male</td>\n",
       "    </tr>\n",
       "    <tr>\n",
       "      <th>23</th>\n",
       "      <td>24</td>\n",
       "      <td>Tiddy Now</td>\n",
       "      <td>Seven</td>\n",
       "      <td>78</td>\n",
       "      <td>male</td>\n",
       "    </tr>\n",
       "    <tr>\n",
       "      <th>24</th>\n",
       "      <td>25</td>\n",
       "      <td>Giff Tow</td>\n",
       "      <td>Six</td>\n",
       "      <td>88</td>\n",
       "      <td>male</td>\n",
       "    </tr>\n",
       "    <tr>\n",
       "      <th>25</th>\n",
       "      <td>26</td>\n",
       "      <td>Crelea</td>\n",
       "      <td>Seven</td>\n",
       "      <td>79</td>\n",
       "      <td>male</td>\n",
       "    </tr>\n",
       "    <tr>\n",
       "      <th>26</th>\n",
       "      <td>27</td>\n",
       "      <td>Big Nose</td>\n",
       "      <td>Three</td>\n",
       "      <td>81</td>\n",
       "      <td>female</td>\n",
       "    </tr>\n",
       "    <tr>\n",
       "      <th>27</th>\n",
       "      <td>28</td>\n",
       "      <td>Rojj Base</td>\n",
       "      <td>Seven</td>\n",
       "      <td>86</td>\n",
       "      <td>female</td>\n",
       "    </tr>\n",
       "    <tr>\n",
       "      <th>28</th>\n",
       "      <td>29</td>\n",
       "      <td>Tess Played</td>\n",
       "      <td>Seven</td>\n",
       "      <td>55</td>\n",
       "      <td>male</td>\n",
       "    </tr>\n",
       "    <tr>\n",
       "      <th>29</th>\n",
       "      <td>30</td>\n",
       "      <td>Reppy Red</td>\n",
       "      <td>Six</td>\n",
       "      <td>79</td>\n",
       "      <td>female</td>\n",
       "    </tr>\n",
       "    <tr>\n",
       "      <th>30</th>\n",
       "      <td>31</td>\n",
       "      <td>Marry Toeey</td>\n",
       "      <td>Four</td>\n",
       "      <td>88</td>\n",
       "      <td>male</td>\n",
       "    </tr>\n",
       "    <tr>\n",
       "      <th>31</th>\n",
       "      <td>32</td>\n",
       "      <td>Binn Rott</td>\n",
       "      <td>Seven</td>\n",
       "      <td>90</td>\n",
       "      <td>female</td>\n",
       "    </tr>\n",
       "    <tr>\n",
       "      <th>32</th>\n",
       "      <td>33</td>\n",
       "      <td>Kenn Rein</td>\n",
       "      <td>Six</td>\n",
       "      <td>96</td>\n",
       "      <td>female</td>\n",
       "    </tr>\n",
       "    <tr>\n",
       "      <th>33</th>\n",
       "      <td>34</td>\n",
       "      <td>Gain Toe</td>\n",
       "      <td>Seven</td>\n",
       "      <td>69</td>\n",
       "      <td>male</td>\n",
       "    </tr>\n",
       "    <tr>\n",
       "      <th>34</th>\n",
       "      <td>35</td>\n",
       "      <td>Rows Noump</td>\n",
       "      <td>Six</td>\n",
       "      <td>88</td>\n",
       "      <td>female</td>\n",
       "    </tr>\n",
       "  </tbody>\n",
       "</table>\n",
       "</div>"
      ],
      "text/plain": [
       "    id         name  class  mark  gender\n",
       "0    1     John Deo   Four    75  female\n",
       "1    2     Max Ruin  Three    85    male\n",
       "2    3       Arnold  Three    55    male\n",
       "3    4   Krish Star   Four    60  female\n",
       "4    5    John Mike   Four    60  female\n",
       "5    6    Alex John   Four    55    male\n",
       "6    7  My John Rob   Five    78    male\n",
       "7    8       Asruid   Five    85    male\n",
       "8    9      Tes Qry    Six    78    male\n",
       "9   10     Big John   Four    55  female\n",
       "10  11       Ronald    Six    89  female\n",
       "11  12        Recky    Six    94  female\n",
       "12  13          Kty  Seven    88  female\n",
       "13  14         Bigy  Seven    88  female\n",
       "14  15     Tade Row   Four    88    male\n",
       "15  16        Gimmy   Four    88    male\n",
       "16  17        Tumyu    Six    54    male\n",
       "17  18        Honny   Five    75    male\n",
       "18  19        Tinny   Nine    18    male\n",
       "19  20       Jackly   Nine    65  female\n",
       "20  21   Babby John   Four    69  female\n",
       "21  22       Reggid  Seven    55  female\n",
       "22  23        Herod  Eight    79    male\n",
       "23  24    Tiddy Now  Seven    78    male\n",
       "24  25     Giff Tow    Six    88    male\n",
       "25  26       Crelea  Seven    79    male\n",
       "26  27     Big Nose  Three    81  female\n",
       "27  28    Rojj Base  Seven    86  female\n",
       "28  29  Tess Played  Seven    55    male\n",
       "29  30    Reppy Red    Six    79  female\n",
       "30  31  Marry Toeey   Four    88    male\n",
       "31  32    Binn Rott  Seven    90  female\n",
       "32  33    Kenn Rein    Six    96  female\n",
       "33  34     Gain Toe  Seven    69    male\n",
       "34  35   Rows Noump    Six    88  female"
      ]
     },
     "execution_count": 243,
     "metadata": {},
     "output_type": "execute_result"
    }
   ],
   "source": [
    "df3 = pd.read_excel('student.xlsx') # excel file \n",
    "df3"
   ]
  },
  {
   "cell_type": "code",
   "execution_count": 244,
   "id": "a0851ab4",
   "metadata": {},
   "outputs": [
    {
     "data": {
      "text/html": [
       "<div>\n",
       "<style scoped>\n",
       "    .dataframe tbody tr th:only-of-type {\n",
       "        vertical-align: middle;\n",
       "    }\n",
       "\n",
       "    .dataframe tbody tr th {\n",
       "        vertical-align: top;\n",
       "    }\n",
       "\n",
       "    .dataframe thead th {\n",
       "        text-align: right;\n",
       "    }\n",
       "</style>\n",
       "<table border=\"1\" class=\"dataframe\">\n",
       "  <thead>\n",
       "    <tr style=\"text-align: right;\">\n",
       "      <th></th>\n",
       "      <th>id</th>\n",
       "      <th>name</th>\n",
       "      <th>class</th>\n",
       "      <th>mark</th>\n",
       "      <th>gender</th>\n",
       "    </tr>\n",
       "  </thead>\n",
       "  <tbody>\n",
       "    <tr>\n",
       "      <th>0</th>\n",
       "      <td>1</td>\n",
       "      <td>John Deo</td>\n",
       "      <td>Four</td>\n",
       "      <td>75</td>\n",
       "      <td>female</td>\n",
       "    </tr>\n",
       "    <tr>\n",
       "      <th>1</th>\n",
       "      <td>2</td>\n",
       "      <td>Max Ruin</td>\n",
       "      <td>Three</td>\n",
       "      <td>85</td>\n",
       "      <td>male</td>\n",
       "    </tr>\n",
       "    <tr>\n",
       "      <th>2</th>\n",
       "      <td>3</td>\n",
       "      <td>Arnold</td>\n",
       "      <td>Three</td>\n",
       "      <td>55</td>\n",
       "      <td>male</td>\n",
       "    </tr>\n",
       "    <tr>\n",
       "      <th>3</th>\n",
       "      <td>4</td>\n",
       "      <td>Krish Star</td>\n",
       "      <td>Four</td>\n",
       "      <td>60</td>\n",
       "      <td>female</td>\n",
       "    </tr>\n",
       "    <tr>\n",
       "      <th>4</th>\n",
       "      <td>5</td>\n",
       "      <td>John Mike</td>\n",
       "      <td>Four</td>\n",
       "      <td>60</td>\n",
       "      <td>female</td>\n",
       "    </tr>\n",
       "    <tr>\n",
       "      <th>5</th>\n",
       "      <td>6</td>\n",
       "      <td>Alex John</td>\n",
       "      <td>Four</td>\n",
       "      <td>55</td>\n",
       "      <td>male</td>\n",
       "    </tr>\n",
       "    <tr>\n",
       "      <th>6</th>\n",
       "      <td>7</td>\n",
       "      <td>My John Rob</td>\n",
       "      <td>Fifth</td>\n",
       "      <td>78</td>\n",
       "      <td>male</td>\n",
       "    </tr>\n",
       "    <tr>\n",
       "      <th>7</th>\n",
       "      <td>8</td>\n",
       "      <td>Asruid</td>\n",
       "      <td>Five</td>\n",
       "      <td>85</td>\n",
       "      <td>male</td>\n",
       "    </tr>\n",
       "    <tr>\n",
       "      <th>8</th>\n",
       "      <td>9</td>\n",
       "      <td>Tes Qry</td>\n",
       "      <td>Six</td>\n",
       "      <td>78</td>\n",
       "      <td>male</td>\n",
       "    </tr>\n",
       "    <tr>\n",
       "      <th>9</th>\n",
       "      <td>10</td>\n",
       "      <td>Big John</td>\n",
       "      <td>Four</td>\n",
       "      <td>55</td>\n",
       "      <td>female</td>\n",
       "    </tr>\n",
       "    <tr>\n",
       "      <th>10</th>\n",
       "      <td>11</td>\n",
       "      <td>Ronald</td>\n",
       "      <td>Six</td>\n",
       "      <td>89</td>\n",
       "      <td>female</td>\n",
       "    </tr>\n",
       "    <tr>\n",
       "      <th>11</th>\n",
       "      <td>12</td>\n",
       "      <td>Recky</td>\n",
       "      <td>Six</td>\n",
       "      <td>94</td>\n",
       "      <td>female</td>\n",
       "    </tr>\n",
       "    <tr>\n",
       "      <th>12</th>\n",
       "      <td>13</td>\n",
       "      <td>Kty</td>\n",
       "      <td>Seven</td>\n",
       "      <td>88</td>\n",
       "      <td>female</td>\n",
       "    </tr>\n",
       "    <tr>\n",
       "      <th>13</th>\n",
       "      <td>14</td>\n",
       "      <td>Bigy</td>\n",
       "      <td>Seven</td>\n",
       "      <td>88</td>\n",
       "      <td>female</td>\n",
       "    </tr>\n",
       "    <tr>\n",
       "      <th>14</th>\n",
       "      <td>15</td>\n",
       "      <td>Tade Row</td>\n",
       "      <td>Four</td>\n",
       "      <td>88</td>\n",
       "      <td>male</td>\n",
       "    </tr>\n",
       "    <tr>\n",
       "      <th>15</th>\n",
       "      <td>16</td>\n",
       "      <td>Gimmy</td>\n",
       "      <td>Four</td>\n",
       "      <td>88</td>\n",
       "      <td>male</td>\n",
       "    </tr>\n",
       "    <tr>\n",
       "      <th>16</th>\n",
       "      <td>17</td>\n",
       "      <td>Tumyu</td>\n",
       "      <td>Six</td>\n",
       "      <td>54</td>\n",
       "      <td>male</td>\n",
       "    </tr>\n",
       "    <tr>\n",
       "      <th>17</th>\n",
       "      <td>18</td>\n",
       "      <td>Honny</td>\n",
       "      <td>Five</td>\n",
       "      <td>75</td>\n",
       "      <td>male</td>\n",
       "    </tr>\n",
       "    <tr>\n",
       "      <th>18</th>\n",
       "      <td>19</td>\n",
       "      <td>Tinny</td>\n",
       "      <td>Nine</td>\n",
       "      <td>18</td>\n",
       "      <td>male</td>\n",
       "    </tr>\n",
       "    <tr>\n",
       "      <th>19</th>\n",
       "      <td>20</td>\n",
       "      <td>Jackly</td>\n",
       "      <td>Nine</td>\n",
       "      <td>65</td>\n",
       "      <td>female</td>\n",
       "    </tr>\n",
       "    <tr>\n",
       "      <th>20</th>\n",
       "      <td>21</td>\n",
       "      <td>Babby John</td>\n",
       "      <td>Four</td>\n",
       "      <td>69</td>\n",
       "      <td>female</td>\n",
       "    </tr>\n",
       "    <tr>\n",
       "      <th>21</th>\n",
       "      <td>22</td>\n",
       "      <td>Reggid</td>\n",
       "      <td>Seven</td>\n",
       "      <td>55</td>\n",
       "      <td>female</td>\n",
       "    </tr>\n",
       "    <tr>\n",
       "      <th>22</th>\n",
       "      <td>23</td>\n",
       "      <td>Herod</td>\n",
       "      <td>Eight</td>\n",
       "      <td>79</td>\n",
       "      <td>male</td>\n",
       "    </tr>\n",
       "    <tr>\n",
       "      <th>23</th>\n",
       "      <td>24</td>\n",
       "      <td>Tiddy Now</td>\n",
       "      <td>Seven</td>\n",
       "      <td>78</td>\n",
       "      <td>male</td>\n",
       "    </tr>\n",
       "    <tr>\n",
       "      <th>24</th>\n",
       "      <td>25</td>\n",
       "      <td>Giff Tow</td>\n",
       "      <td>Seven</td>\n",
       "      <td>88</td>\n",
       "      <td>male</td>\n",
       "    </tr>\n",
       "    <tr>\n",
       "      <th>25</th>\n",
       "      <td>26</td>\n",
       "      <td>Crelea</td>\n",
       "      <td>Seven</td>\n",
       "      <td>79</td>\n",
       "      <td>male</td>\n",
       "    </tr>\n",
       "    <tr>\n",
       "      <th>26</th>\n",
       "      <td>27</td>\n",
       "      <td>Big Nose</td>\n",
       "      <td>Three</td>\n",
       "      <td>81</td>\n",
       "      <td>female</td>\n",
       "    </tr>\n",
       "    <tr>\n",
       "      <th>27</th>\n",
       "      <td>28</td>\n",
       "      <td>Rojj Base</td>\n",
       "      <td>Seven</td>\n",
       "      <td>86</td>\n",
       "      <td>female</td>\n",
       "    </tr>\n",
       "    <tr>\n",
       "      <th>28</th>\n",
       "      <td>29</td>\n",
       "      <td>Tess Played</td>\n",
       "      <td>Seven</td>\n",
       "      <td>55</td>\n",
       "      <td>male</td>\n",
       "    </tr>\n",
       "    <tr>\n",
       "      <th>29</th>\n",
       "      <td>30</td>\n",
       "      <td>Reppy Red</td>\n",
       "      <td>Six</td>\n",
       "      <td>79</td>\n",
       "      <td>female</td>\n",
       "    </tr>\n",
       "    <tr>\n",
       "      <th>30</th>\n",
       "      <td>31</td>\n",
       "      <td>Marry Toeey</td>\n",
       "      <td>Four</td>\n",
       "      <td>88</td>\n",
       "      <td>male</td>\n",
       "    </tr>\n",
       "    <tr>\n",
       "      <th>31</th>\n",
       "      <td>32</td>\n",
       "      <td>Binn Rott</td>\n",
       "      <td>Seven</td>\n",
       "      <td>90</td>\n",
       "      <td>female</td>\n",
       "    </tr>\n",
       "    <tr>\n",
       "      <th>32</th>\n",
       "      <td>33</td>\n",
       "      <td>Kenn Rein</td>\n",
       "      <td>Six</td>\n",
       "      <td>96</td>\n",
       "      <td>female</td>\n",
       "    </tr>\n",
       "    <tr>\n",
       "      <th>33</th>\n",
       "      <td>34</td>\n",
       "      <td>Gain Toe</td>\n",
       "      <td>Seven</td>\n",
       "      <td>69</td>\n",
       "      <td>male</td>\n",
       "    </tr>\n",
       "    <tr>\n",
       "      <th>34</th>\n",
       "      <td>35</td>\n",
       "      <td>Rows Noump</td>\n",
       "      <td>Six</td>\n",
       "      <td>88</td>\n",
       "      <td>female</td>\n",
       "    </tr>\n",
       "  </tbody>\n",
       "</table>\n",
       "</div>"
      ],
      "text/plain": [
       "    id         name  class  mark  gender\n",
       "0    1     John Deo   Four    75  female\n",
       "1    2     Max Ruin  Three    85    male\n",
       "2    3       Arnold  Three    55    male\n",
       "3    4   Krish Star   Four    60  female\n",
       "4    5    John Mike   Four    60  female\n",
       "5    6    Alex John   Four    55    male\n",
       "6    7  My John Rob  Fifth    78    male\n",
       "7    8       Asruid   Five    85    male\n",
       "8    9      Tes Qry    Six    78    male\n",
       "9   10     Big John   Four    55  female\n",
       "10  11       Ronald    Six    89  female\n",
       "11  12        Recky    Six    94  female\n",
       "12  13          Kty  Seven    88  female\n",
       "13  14         Bigy  Seven    88  female\n",
       "14  15     Tade Row   Four    88    male\n",
       "15  16        Gimmy   Four    88    male\n",
       "16  17        Tumyu    Six    54    male\n",
       "17  18        Honny   Five    75    male\n",
       "18  19        Tinny   Nine    18    male\n",
       "19  20       Jackly   Nine    65  female\n",
       "20  21   Babby John   Four    69  female\n",
       "21  22       Reggid  Seven    55  female\n",
       "22  23        Herod  Eight    79    male\n",
       "23  24    Tiddy Now  Seven    78    male\n",
       "24  25     Giff Tow  Seven    88    male\n",
       "25  26       Crelea  Seven    79    male\n",
       "26  27     Big Nose  Three    81  female\n",
       "27  28    Rojj Base  Seven    86  female\n",
       "28  29  Tess Played  Seven    55    male\n",
       "29  30    Reppy Red    Six    79  female\n",
       "30  31  Marry Toeey   Four    88    male\n",
       "31  32    Binn Rott  Seven    90  female\n",
       "32  33    Kenn Rein    Six    96  female\n",
       "33  34     Gain Toe  Seven    69    male\n",
       "34  35   Rows Noump    Six    88  female"
      ]
     },
     "execution_count": 244,
     "metadata": {},
     "output_type": "execute_result"
    }
   ],
   "source": [
    "df = pd.read_csv('student.csv')\n",
    "df"
   ]
  },
  {
   "cell_type": "code",
   "execution_count": 245,
   "id": "8178b5f5",
   "metadata": {},
   "outputs": [
    {
     "data": {
      "text/html": [
       "<div>\n",
       "<style scoped>\n",
       "    .dataframe tbody tr th:only-of-type {\n",
       "        vertical-align: middle;\n",
       "    }\n",
       "\n",
       "    .dataframe tbody tr th {\n",
       "        vertical-align: top;\n",
       "    }\n",
       "\n",
       "    .dataframe thead th {\n",
       "        text-align: right;\n",
       "    }\n",
       "</style>\n",
       "<table border=\"1\" class=\"dataframe\">\n",
       "  <thead>\n",
       "    <tr style=\"text-align: right;\">\n",
       "      <th></th>\n",
       "      <th>name</th>\n",
       "      <th>class</th>\n",
       "      <th>mark</th>\n",
       "      <th>gender</th>\n",
       "    </tr>\n",
       "    <tr>\n",
       "      <th>id</th>\n",
       "      <th></th>\n",
       "      <th></th>\n",
       "      <th></th>\n",
       "      <th></th>\n",
       "    </tr>\n",
       "  </thead>\n",
       "  <tbody>\n",
       "    <tr>\n",
       "      <th>1</th>\n",
       "      <td>John Deo</td>\n",
       "      <td>Four</td>\n",
       "      <td>75</td>\n",
       "      <td>female</td>\n",
       "    </tr>\n",
       "    <tr>\n",
       "      <th>2</th>\n",
       "      <td>Max Ruin</td>\n",
       "      <td>Three</td>\n",
       "      <td>85</td>\n",
       "      <td>male</td>\n",
       "    </tr>\n",
       "    <tr>\n",
       "      <th>3</th>\n",
       "      <td>Arnold</td>\n",
       "      <td>Three</td>\n",
       "      <td>55</td>\n",
       "      <td>male</td>\n",
       "    </tr>\n",
       "    <tr>\n",
       "      <th>4</th>\n",
       "      <td>Krish Star</td>\n",
       "      <td>Four</td>\n",
       "      <td>60</td>\n",
       "      <td>female</td>\n",
       "    </tr>\n",
       "    <tr>\n",
       "      <th>5</th>\n",
       "      <td>John Mike</td>\n",
       "      <td>Four</td>\n",
       "      <td>60</td>\n",
       "      <td>female</td>\n",
       "    </tr>\n",
       "    <tr>\n",
       "      <th>6</th>\n",
       "      <td>Alex John</td>\n",
       "      <td>Four</td>\n",
       "      <td>55</td>\n",
       "      <td>male</td>\n",
       "    </tr>\n",
       "    <tr>\n",
       "      <th>7</th>\n",
       "      <td>My John Rob</td>\n",
       "      <td>Fifth</td>\n",
       "      <td>78</td>\n",
       "      <td>male</td>\n",
       "    </tr>\n",
       "    <tr>\n",
       "      <th>8</th>\n",
       "      <td>Asruid</td>\n",
       "      <td>Five</td>\n",
       "      <td>85</td>\n",
       "      <td>male</td>\n",
       "    </tr>\n",
       "    <tr>\n",
       "      <th>9</th>\n",
       "      <td>Tes Qry</td>\n",
       "      <td>Six</td>\n",
       "      <td>78</td>\n",
       "      <td>male</td>\n",
       "    </tr>\n",
       "    <tr>\n",
       "      <th>10</th>\n",
       "      <td>Big John</td>\n",
       "      <td>Four</td>\n",
       "      <td>55</td>\n",
       "      <td>female</td>\n",
       "    </tr>\n",
       "    <tr>\n",
       "      <th>11</th>\n",
       "      <td>Ronald</td>\n",
       "      <td>Six</td>\n",
       "      <td>89</td>\n",
       "      <td>female</td>\n",
       "    </tr>\n",
       "    <tr>\n",
       "      <th>12</th>\n",
       "      <td>Recky</td>\n",
       "      <td>Six</td>\n",
       "      <td>94</td>\n",
       "      <td>female</td>\n",
       "    </tr>\n",
       "    <tr>\n",
       "      <th>13</th>\n",
       "      <td>Kty</td>\n",
       "      <td>Seven</td>\n",
       "      <td>88</td>\n",
       "      <td>female</td>\n",
       "    </tr>\n",
       "    <tr>\n",
       "      <th>14</th>\n",
       "      <td>Bigy</td>\n",
       "      <td>Seven</td>\n",
       "      <td>88</td>\n",
       "      <td>female</td>\n",
       "    </tr>\n",
       "    <tr>\n",
       "      <th>15</th>\n",
       "      <td>Tade Row</td>\n",
       "      <td>Four</td>\n",
       "      <td>88</td>\n",
       "      <td>male</td>\n",
       "    </tr>\n",
       "    <tr>\n",
       "      <th>16</th>\n",
       "      <td>Gimmy</td>\n",
       "      <td>Four</td>\n",
       "      <td>88</td>\n",
       "      <td>male</td>\n",
       "    </tr>\n",
       "    <tr>\n",
       "      <th>17</th>\n",
       "      <td>Tumyu</td>\n",
       "      <td>Six</td>\n",
       "      <td>54</td>\n",
       "      <td>male</td>\n",
       "    </tr>\n",
       "    <tr>\n",
       "      <th>18</th>\n",
       "      <td>Honny</td>\n",
       "      <td>Five</td>\n",
       "      <td>75</td>\n",
       "      <td>male</td>\n",
       "    </tr>\n",
       "    <tr>\n",
       "      <th>19</th>\n",
       "      <td>Tinny</td>\n",
       "      <td>Nine</td>\n",
       "      <td>18</td>\n",
       "      <td>male</td>\n",
       "    </tr>\n",
       "    <tr>\n",
       "      <th>20</th>\n",
       "      <td>Jackly</td>\n",
       "      <td>Nine</td>\n",
       "      <td>65</td>\n",
       "      <td>female</td>\n",
       "    </tr>\n",
       "    <tr>\n",
       "      <th>21</th>\n",
       "      <td>Babby John</td>\n",
       "      <td>Four</td>\n",
       "      <td>69</td>\n",
       "      <td>female</td>\n",
       "    </tr>\n",
       "    <tr>\n",
       "      <th>22</th>\n",
       "      <td>Reggid</td>\n",
       "      <td>Seven</td>\n",
       "      <td>55</td>\n",
       "      <td>female</td>\n",
       "    </tr>\n",
       "    <tr>\n",
       "      <th>23</th>\n",
       "      <td>Herod</td>\n",
       "      <td>Eight</td>\n",
       "      <td>79</td>\n",
       "      <td>male</td>\n",
       "    </tr>\n",
       "    <tr>\n",
       "      <th>24</th>\n",
       "      <td>Tiddy Now</td>\n",
       "      <td>Seven</td>\n",
       "      <td>78</td>\n",
       "      <td>male</td>\n",
       "    </tr>\n",
       "    <tr>\n",
       "      <th>25</th>\n",
       "      <td>Giff Tow</td>\n",
       "      <td>Seven</td>\n",
       "      <td>88</td>\n",
       "      <td>male</td>\n",
       "    </tr>\n",
       "    <tr>\n",
       "      <th>26</th>\n",
       "      <td>Crelea</td>\n",
       "      <td>Seven</td>\n",
       "      <td>79</td>\n",
       "      <td>male</td>\n",
       "    </tr>\n",
       "    <tr>\n",
       "      <th>27</th>\n",
       "      <td>Big Nose</td>\n",
       "      <td>Three</td>\n",
       "      <td>81</td>\n",
       "      <td>female</td>\n",
       "    </tr>\n",
       "    <tr>\n",
       "      <th>28</th>\n",
       "      <td>Rojj Base</td>\n",
       "      <td>Seven</td>\n",
       "      <td>86</td>\n",
       "      <td>female</td>\n",
       "    </tr>\n",
       "    <tr>\n",
       "      <th>29</th>\n",
       "      <td>Tess Played</td>\n",
       "      <td>Seven</td>\n",
       "      <td>55</td>\n",
       "      <td>male</td>\n",
       "    </tr>\n",
       "    <tr>\n",
       "      <th>30</th>\n",
       "      <td>Reppy Red</td>\n",
       "      <td>Six</td>\n",
       "      <td>79</td>\n",
       "      <td>female</td>\n",
       "    </tr>\n",
       "    <tr>\n",
       "      <th>31</th>\n",
       "      <td>Marry Toeey</td>\n",
       "      <td>Four</td>\n",
       "      <td>88</td>\n",
       "      <td>male</td>\n",
       "    </tr>\n",
       "    <tr>\n",
       "      <th>32</th>\n",
       "      <td>Binn Rott</td>\n",
       "      <td>Seven</td>\n",
       "      <td>90</td>\n",
       "      <td>female</td>\n",
       "    </tr>\n",
       "    <tr>\n",
       "      <th>33</th>\n",
       "      <td>Kenn Rein</td>\n",
       "      <td>Six</td>\n",
       "      <td>96</td>\n",
       "      <td>female</td>\n",
       "    </tr>\n",
       "    <tr>\n",
       "      <th>34</th>\n",
       "      <td>Gain Toe</td>\n",
       "      <td>Seven</td>\n",
       "      <td>69</td>\n",
       "      <td>male</td>\n",
       "    </tr>\n",
       "    <tr>\n",
       "      <th>35</th>\n",
       "      <td>Rows Noump</td>\n",
       "      <td>Six</td>\n",
       "      <td>88</td>\n",
       "      <td>female</td>\n",
       "    </tr>\n",
       "  </tbody>\n",
       "</table>\n",
       "</div>"
      ],
      "text/plain": [
       "           name  class  mark  gender\n",
       "id                                  \n",
       "1      John Deo   Four    75  female\n",
       "2      Max Ruin  Three    85    male\n",
       "3        Arnold  Three    55    male\n",
       "4    Krish Star   Four    60  female\n",
       "5     John Mike   Four    60  female\n",
       "6     Alex John   Four    55    male\n",
       "7   My John Rob  Fifth    78    male\n",
       "8        Asruid   Five    85    male\n",
       "9       Tes Qry    Six    78    male\n",
       "10     Big John   Four    55  female\n",
       "11       Ronald    Six    89  female\n",
       "12        Recky    Six    94  female\n",
       "13          Kty  Seven    88  female\n",
       "14         Bigy  Seven    88  female\n",
       "15     Tade Row   Four    88    male\n",
       "16        Gimmy   Four    88    male\n",
       "17        Tumyu    Six    54    male\n",
       "18        Honny   Five    75    male\n",
       "19        Tinny   Nine    18    male\n",
       "20       Jackly   Nine    65  female\n",
       "21   Babby John   Four    69  female\n",
       "22       Reggid  Seven    55  female\n",
       "23        Herod  Eight    79    male\n",
       "24    Tiddy Now  Seven    78    male\n",
       "25     Giff Tow  Seven    88    male\n",
       "26       Crelea  Seven    79    male\n",
       "27     Big Nose  Three    81  female\n",
       "28    Rojj Base  Seven    86  female\n",
       "29  Tess Played  Seven    55    male\n",
       "30    Reppy Red    Six    79  female\n",
       "31  Marry Toeey   Four    88    male\n",
       "32    Binn Rott  Seven    90  female\n",
       "33    Kenn Rein    Six    96  female\n",
       "34     Gain Toe  Seven    69    male\n",
       "35   Rows Noump    Six    88  female"
      ]
     },
     "execution_count": 245,
     "metadata": {},
     "output_type": "execute_result"
    }
   ],
   "source": [
    "df2 = pd.read_csv('student.csv', index_col=0)\n",
    "df2"
   ]
  },
  {
   "cell_type": "code",
   "execution_count": 246,
   "id": "471cdc48",
   "metadata": {},
   "outputs": [
    {
     "data": {
      "text/html": [
       "<div>\n",
       "<style scoped>\n",
       "    .dataframe tbody tr th:only-of-type {\n",
       "        vertical-align: middle;\n",
       "    }\n",
       "\n",
       "    .dataframe tbody tr th {\n",
       "        vertical-align: top;\n",
       "    }\n",
       "\n",
       "    .dataframe thead th {\n",
       "        text-align: right;\n",
       "    }\n",
       "</style>\n",
       "<table border=\"1\" class=\"dataframe\">\n",
       "  <thead>\n",
       "    <tr style=\"text-align: right;\">\n",
       "      <th></th>\n",
       "      <th>id</th>\n",
       "      <th>name</th>\n",
       "      <th>class</th>\n",
       "      <th>mark</th>\n",
       "      <th>gender</th>\n",
       "    </tr>\n",
       "  </thead>\n",
       "  <tbody>\n",
       "    <tr>\n",
       "      <th>0</th>\n",
       "      <td>1</td>\n",
       "      <td>John Deo</td>\n",
       "      <td>Four</td>\n",
       "      <td>75</td>\n",
       "      <td>female</td>\n",
       "    </tr>\n",
       "    <tr>\n",
       "      <th>1</th>\n",
       "      <td>2</td>\n",
       "      <td>Max Ruin</td>\n",
       "      <td>Three</td>\n",
       "      <td>85</td>\n",
       "      <td>male</td>\n",
       "    </tr>\n",
       "    <tr>\n",
       "      <th>2</th>\n",
       "      <td>3</td>\n",
       "      <td>Arnold</td>\n",
       "      <td>Three</td>\n",
       "      <td>55</td>\n",
       "      <td>male</td>\n",
       "    </tr>\n",
       "    <tr>\n",
       "      <th>3</th>\n",
       "      <td>4</td>\n",
       "      <td>Krish Star</td>\n",
       "      <td>Four</td>\n",
       "      <td>60</td>\n",
       "      <td>female</td>\n",
       "    </tr>\n",
       "    <tr>\n",
       "      <th>4</th>\n",
       "      <td>5</td>\n",
       "      <td>John Mike</td>\n",
       "      <td>Four</td>\n",
       "      <td>60</td>\n",
       "      <td>female</td>\n",
       "    </tr>\n",
       "  </tbody>\n",
       "</table>\n",
       "</div>"
      ],
      "text/plain": [
       "   id        name  class  mark  gender\n",
       "0   1    John Deo   Four    75  female\n",
       "1   2    Max Ruin  Three    85    male\n",
       "2   3      Arnold  Three    55    male\n",
       "3   4  Krish Star   Four    60  female\n",
       "4   5   John Mike   Four    60  female"
      ]
     },
     "execution_count": 246,
     "metadata": {},
     "output_type": "execute_result"
    }
   ],
   "source": [
    "# Returns the first 5 rows of the dataframe.\n",
    "# To override the default, you may insert a value between the parenthesis to change the number of rows returned\n",
    "df.head()  "
   ]
  },
  {
   "cell_type": "code",
   "execution_count": 247,
   "id": "9f4af463",
   "metadata": {},
   "outputs": [
    {
     "data": {
      "text/html": [
       "<div>\n",
       "<style scoped>\n",
       "    .dataframe tbody tr th:only-of-type {\n",
       "        vertical-align: middle;\n",
       "    }\n",
       "\n",
       "    .dataframe tbody tr th {\n",
       "        vertical-align: top;\n",
       "    }\n",
       "\n",
       "    .dataframe thead th {\n",
       "        text-align: right;\n",
       "    }\n",
       "</style>\n",
       "<table border=\"1\" class=\"dataframe\">\n",
       "  <thead>\n",
       "    <tr style=\"text-align: right;\">\n",
       "      <th></th>\n",
       "      <th>name</th>\n",
       "      <th>class</th>\n",
       "      <th>mark</th>\n",
       "      <th>gender</th>\n",
       "    </tr>\n",
       "    <tr>\n",
       "      <th>id</th>\n",
       "      <th></th>\n",
       "      <th></th>\n",
       "      <th></th>\n",
       "      <th></th>\n",
       "    </tr>\n",
       "  </thead>\n",
       "  <tbody>\n",
       "    <tr>\n",
       "      <th>1</th>\n",
       "      <td>John Deo</td>\n",
       "      <td>Four</td>\n",
       "      <td>75</td>\n",
       "      <td>female</td>\n",
       "    </tr>\n",
       "    <tr>\n",
       "      <th>2</th>\n",
       "      <td>Max Ruin</td>\n",
       "      <td>Three</td>\n",
       "      <td>85</td>\n",
       "      <td>male</td>\n",
       "    </tr>\n",
       "    <tr>\n",
       "      <th>3</th>\n",
       "      <td>Arnold</td>\n",
       "      <td>Three</td>\n",
       "      <td>55</td>\n",
       "      <td>male</td>\n",
       "    </tr>\n",
       "    <tr>\n",
       "      <th>4</th>\n",
       "      <td>Krish Star</td>\n",
       "      <td>Four</td>\n",
       "      <td>60</td>\n",
       "      <td>female</td>\n",
       "    </tr>\n",
       "    <tr>\n",
       "      <th>5</th>\n",
       "      <td>John Mike</td>\n",
       "      <td>Four</td>\n",
       "      <td>60</td>\n",
       "      <td>female</td>\n",
       "    </tr>\n",
       "    <tr>\n",
       "      <th>6</th>\n",
       "      <td>Alex John</td>\n",
       "      <td>Four</td>\n",
       "      <td>55</td>\n",
       "      <td>male</td>\n",
       "    </tr>\n",
       "    <tr>\n",
       "      <th>7</th>\n",
       "      <td>My John Rob</td>\n",
       "      <td>Fifth</td>\n",
       "      <td>78</td>\n",
       "      <td>male</td>\n",
       "    </tr>\n",
       "  </tbody>\n",
       "</table>\n",
       "</div>"
      ],
      "text/plain": [
       "           name  class  mark  gender\n",
       "id                                  \n",
       "1      John Deo   Four    75  female\n",
       "2      Max Ruin  Three    85    male\n",
       "3        Arnold  Three    55    male\n",
       "4    Krish Star   Four    60  female\n",
       "5     John Mike   Four    60  female\n",
       "6     Alex John   Four    55    male\n",
       "7   My John Rob  Fifth    78    male"
      ]
     },
     "execution_count": 247,
     "metadata": {},
     "output_type": "execute_result"
    }
   ],
   "source": [
    "pd.read_csv('student.csv', index_col=0, nrows=7)"
   ]
  },
  {
   "cell_type": "code",
   "execution_count": 248,
   "id": "00c2e47b",
   "metadata": {},
   "outputs": [
    {
     "data": {
      "text/plain": [
       "{'Country': ['Belgium', 'India', 'Brazil'],\n",
       " 'Capital': ['Brussels', 'New Delhi', 'Brasília'],\n",
       " 'Population': [11000000, 130000000, 207000000]}"
      ]
     },
     "execution_count": 248,
     "metadata": {},
     "output_type": "execute_result"
    }
   ],
   "source": [
    "data = {'Country': ['Belgium', 'India', 'Brazil'],\n",
    "'Capital': ['Brussels', 'New Delhi', 'Brasília'],\n",
    "'Population': [11000000, 130000000, 207000000]}\n",
    "\n",
    "data"
   ]
  },
  {
   "cell_type": "code",
   "execution_count": 249,
   "id": "a8f91748",
   "metadata": {},
   "outputs": [
    {
     "data": {
      "text/html": [
       "<div>\n",
       "<style scoped>\n",
       "    .dataframe tbody tr th:only-of-type {\n",
       "        vertical-align: middle;\n",
       "    }\n",
       "\n",
       "    .dataframe tbody tr th {\n",
       "        vertical-align: top;\n",
       "    }\n",
       "\n",
       "    .dataframe thead th {\n",
       "        text-align: right;\n",
       "    }\n",
       "</style>\n",
       "<table border=\"1\" class=\"dataframe\">\n",
       "  <thead>\n",
       "    <tr style=\"text-align: right;\">\n",
       "      <th></th>\n",
       "      <th>Country</th>\n",
       "      <th>Capital</th>\n",
       "      <th>Population</th>\n",
       "    </tr>\n",
       "  </thead>\n",
       "  <tbody>\n",
       "    <tr>\n",
       "      <th>0</th>\n",
       "      <td>Belgium</td>\n",
       "      <td>Brussels</td>\n",
       "      <td>11000000</td>\n",
       "    </tr>\n",
       "    <tr>\n",
       "      <th>1</th>\n",
       "      <td>India</td>\n",
       "      <td>New Delhi</td>\n",
       "      <td>130000000</td>\n",
       "    </tr>\n",
       "    <tr>\n",
       "      <th>2</th>\n",
       "      <td>Brazil</td>\n",
       "      <td>Brasília</td>\n",
       "      <td>207000000</td>\n",
       "    </tr>\n",
       "  </tbody>\n",
       "</table>\n",
       "</div>"
      ],
      "text/plain": [
       "   Country    Capital  Population\n",
       "0  Belgium   Brussels    11000000\n",
       "1    India  New Delhi   130000000\n",
       "2   Brazil   Brasília   207000000"
      ]
     },
     "execution_count": 249,
     "metadata": {},
     "output_type": "execute_result"
    }
   ],
   "source": [
    "df3 = pd.DataFrame(data, columns=['Country', 'Capital', 'Population'])\n",
    "df3"
   ]
  },
  {
   "cell_type": "code",
   "execution_count": 250,
   "id": "9d96d555",
   "metadata": {},
   "outputs": [
    {
     "data": {
      "text/plain": [
       "Country              BelgiumIndiaBrazil\n",
       "Capital       BrusselsNew DelhiBrasília\n",
       "Population                    348000000\n",
       "dtype: object"
      ]
     },
     "execution_count": 250,
     "metadata": {},
     "output_type": "execute_result"
    }
   ],
   "source": [
    "df3.sum()"
   ]
  },
  {
   "cell_type": "code",
   "execution_count": 251,
   "id": "63d9902e",
   "metadata": {},
   "outputs": [
    {
     "data": {
      "text/plain": [
       "(3, 3)"
      ]
     },
     "execution_count": 251,
     "metadata": {},
     "output_type": "execute_result"
    }
   ],
   "source": [
    "df3.shape"
   ]
  },
  {
   "cell_type": "code",
   "execution_count": 252,
   "id": "deeadb3f",
   "metadata": {},
   "outputs": [
    {
     "data": {
      "text/plain": [
       "Index(['Country', 'Capital', 'Population'], dtype='object')"
      ]
     },
     "execution_count": 252,
     "metadata": {},
     "output_type": "execute_result"
    }
   ],
   "source": [
    "df3.columns"
   ]
  },
  {
   "cell_type": "code",
   "execution_count": 253,
   "id": "0d7bfb03",
   "metadata": {},
   "outputs": [
    {
     "data": {
      "text/plain": [
       "Country       3\n",
       "Capital       3\n",
       "Population    3\n",
       "dtype: int64"
      ]
     },
     "execution_count": 253,
     "metadata": {},
     "output_type": "execute_result"
    }
   ],
   "source": [
    "df3.count()"
   ]
  }
 ],
 "metadata": {
  "kernelspec": {
   "display_name": "Python 3 (ipykernel)",
   "language": "python",
   "name": "python3"
  },
  "language_info": {
   "codemirror_mode": {
    "name": "ipython",
    "version": 3
   },
   "file_extension": ".py",
   "mimetype": "text/x-python",
   "name": "python",
   "nbconvert_exporter": "python",
   "pygments_lexer": "ipython3",
   "version": "3.9.13"
  }
 },
 "nbformat": 4,
 "nbformat_minor": 5
}
