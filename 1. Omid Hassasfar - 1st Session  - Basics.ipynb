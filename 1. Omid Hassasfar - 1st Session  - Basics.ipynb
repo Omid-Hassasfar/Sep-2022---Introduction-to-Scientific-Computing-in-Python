{
 "cells": [
  {
   "cell_type": "markdown",
   "id": "abe2b14d",
   "metadata": {},
   "source": [
    "# Python Workshop\n",
    "\n",
    "# <span style='color:Blue'> Introduction to Scientific Computing in Python  </span>\n",
    "\n",
    "## <span style='color:red'> Omid Hassasfar  </span>\n",
    "\n",
    "### September 2022 \n",
    "\n",
    "My LinkedIn : https://www.linkedin.com/in/abbas-omid-hassasfar/\n",
    "\n",
    "My Email Address : Omid.Hassasfar@gmail.com\n",
    "\n",
    "\n",
    "***"
   ]
  },
  {
   "cell_type": "markdown",
   "id": "bcd0fb42",
   "metadata": {},
   "source": [
    "There are two main cells: Code and Markdown.\n",
    "\n",
    "A markdown cell is used to write text descriptions, notes, formulas or include graphics and images.\n",
    "\n",
    "On a markdown cell, you can format your content by using Markdown, HTML, or LaTeX code.\n",
    "\n",
    "# ----------------------------------------------------------------------------------"
   ]
  },
  {
   "cell_type": "code",
   "execution_count": 19,
   "id": "32b571f2",
   "metadata": {},
   "outputs": [],
   "source": [
    "# everything after # is comment \n",
    "\n",
    "# for executing each cell \n",
    "\n",
    "# 1) pressing CTRL+ENTER or SHIFT+ENTER\n",
    "# 2) or clicking \"Run\" on the menu\n",
    "\n",
    "# Showing line numbers: View  →  Toggle Line Numbers"
   ]
  },
  {
   "cell_type": "markdown",
   "id": "c06da9a1",
   "metadata": {},
   "source": [
    "*Italicized text*   or  _Italicized text_\n",
    "\n",
    "**Bold text**   or   __Bold text__\n",
    "\n",
    "***Bold & Italic text***\n",
    "\n",
    "~Croos word~\n",
    "\n",
    "# ----------------------------------------------------------------------------------"
   ]
  },
  {
   "cell_type": "markdown",
   "id": "a24f43e9",
   "metadata": {},
   "source": [
    "Heading!\n",
    "\n",
    "# 1.This cell is Markdown. It is not Code!\n",
    "## 2.This cell is Markdown. It is not Code!\n",
    "### 3.This cell is Markdown. It is not Code!\n",
    "#### 4.This cell is Markdown. It is not Code!\n",
    "# ----------------------------------------------------------------------------------"
   ]
  },
  {
   "cell_type": "markdown",
   "id": "ea90f167",
   "metadata": {},
   "source": [
    "## Items1 :\n",
    "1. First item\n",
    "2. Second item\n",
    "3. Third item\n",
    "\n",
    "## Items2 :\n",
    "- First item\n",
    "- Second item\n",
    "- Third item\n",
    "\n",
    "## Items3 :\n",
    "- First item\n",
    "- Second item\n",
    "- Third item\n",
    "    - Indented item\n",
    "    - Indented item\n",
    "- Fourth item\n",
    "\n",
    "# ----------------------------------------------------------------------------------"
   ]
  },
  {
   "cell_type": "markdown",
   "id": "79ec9e94",
   "metadata": {},
   "source": [
    "## Text color\n",
    "# <span style='color:Blue'> The Text color is Blue.  </span>\n",
    "\n",
    "## <span style='background :yellow' > Background color is yellow </span>"
   ]
  },
  {
   "cell_type": "markdown",
   "id": "13a83703",
   "metadata": {},
   "source": [
    "To create a blockquote, add a > in front of a paragraph.\n",
    "\n",
    "Blockquotes can be nested. Add a >> in front of the paragraph you want to nest.\n",
    "\n",
    "\n",
    "> Dorothy followed her through many of the beautiful rooms in her castle.\n",
    "\n",
    "> Dorothy followed her through many of the beautiful rooms in her castle.\n",
    ">\n",
    ">> The Witch bade her clean the pots and kettles and sweep the floor and keep the fire fed with wood.\n",
    "\n",
    "> #### The quarterly results look great!\n",
    ">\n",
    "> - Revenue was off the chart.\n",
    "> - Profits were higher than ever.\n",
    ">\n",
    ">  *Everything* is going according to **plan**.\n",
    "\n",
    "# ----------------------------------------------------------------------------------"
   ]
  },
  {
   "cell_type": "markdown",
   "id": "9155290a",
   "metadata": {},
   "source": [
    "## Table\n",
    "| How | To | Make | a table|\n",
    "| :---: | :---: | :---: | :---: |\n",
    "| in   | <span style= 'background:yellow'> Jupyter </span>| <span style= 'background:yellow'> Notebook </span>| <span style= 'background:yellow'> Markdown </span> |\n",
    "| It | is | really| cool |"
   ]
  },
  {
   "cell_type": "markdown",
   "id": "3fcbffcc",
   "metadata": {},
   "source": [
    "## Play with some formula :\n",
    "LaTex is used to show mathematical expressions, formulas, etc. \n",
    "\n",
    "For example, $ x^2 + y ^ 2 = \\frac{4}{9} $, $ \\sum_{i=1}^n (i+2)^{3} $, or $ \\left( \\begin{array}{rr}  1 & 0 & -1 \\\\ 2 & -2 & 0 \\\\ 3 & -1 & -2  \\end{array} \\right) $.\n",
    "\n",
    "\n",
    "$ \\frac{{ - b \\pm \\sqrt {{b^2} - 4ac} }}{{2a}} $\n",
    "\n",
    "$\\hat{Y} = \\hat{\\beta}_{0} + \\sum \\limits _{j=1} ^{p} X_{j}\\hat{\\beta}_{j} $\n",
    "# ----------------------------------------------------------------------------------"
   ]
  },
  {
   "cell_type": "markdown",
   "id": "c854e87b",
   "metadata": {},
   "source": [
    "It is possible to include hyperlinks : \n",
    "\n",
    "[Anaconda - Download](https://www.anaconda.com/products/distribution)\n",
    "\n",
    "### Let's Check Google Colab as well : https://colab.research.google.com/\n",
    "\n",
    "# ----------------------------------------------------------------------------------"
   ]
  },
  {
   "cell_type": "code",
   "execution_count": 20,
   "id": "82b9591a",
   "metadata": {},
   "outputs": [
    {
     "data": {
      "image/png": "[encoded data removed]",
      "text/plain": [
       "<IPython.core.display.Image object>"
      ]
     },
     "execution_count": 20,
     "metadata": {
      "image/png": {
       "height": 500,
       "width": 200
      }
     },
     "output_type": "execute_result"
    }
   ],
   "source": [
    "# How to Import Image fom Local derive\n",
    "\n",
    "from IPython.display import Image\n",
    "\n",
    "Image(filename='Snake-Python.png', width=200, height=500)"
   ]
  },
  {
   "cell_type": "code",
   "execution_count": 21,
   "id": "adb97adf",
   "metadata": {},
   "outputs": [
    {
     "name": "stdout",
     "output_type": "stream",
     "text": [
      "Python 3.9.12\n"
     ]
    }
   ],
   "source": [
    "!python -V"
   ]
  },
  {
   "cell_type": "markdown",
   "id": "1703cfa6",
   "metadata": {},
   "source": [
    "## .py vs  .ipynb\n",
    "\n",
    ".py is a regular python file. It's plain text and contains just your code. .ipynb is a python notebook and it contains the notebook code, the execution results and other internal settings in a specific format.\n",
    "\n",
    "As you move forward, it will be important to not only work **interactively**, but also to create and reuse **Python files**. For this, a powerful code editor will get you far. Here are several good easy-to-use editors:\n",
    "\n",
    "- **Spyder**: integrates an IPython console, a debugger, a profiler. . .  https://www.spyder-ide.org/ \n",
    "- **Visual Studio Code**: itegrates a Python console, notebooks, a debugger, . . .https://code.visualstudio.com/docs/languages/python\n",
    "- **PyCharm**: integrates an IPython console, notebooks, a debugger. . . (freely available, but commercial) https://www.jetbrains.com/pycharm/\n",
    "- **Atom**  https://atom.io/\n",
    "- **Notepad++** : https://notepad-plus-plus.org/downloads/"
   ]
  },
  {
   "cell_type": "code",
   "execution_count": 22,
   "id": "730f7775",
   "metadata": {},
   "outputs": [
    {
     "name": "stdout",
     "output_type": "stream",
     "text": [
      "Hello World!\n",
      "Hello World!\n"
     ]
    }
   ],
   "source": [
    "print('Hello World!')\n",
    "print(\"Hello World!\")"
   ]
  },
  {
   "cell_type": "code",
   "execution_count": 23,
   "id": "133f5b89",
   "metadata": {},
   "outputs": [],
   "source": [
    "print?"
   ]
  },
  {
   "cell_type": "markdown",
   "id": "ae5b946a",
   "metadata": {},
   "source": [
    "# Integer"
   ]
  },
  {
   "cell_type": "markdown",
   "id": "7e888e09",
   "metadata": {},
   "source": [
    "Two variables a and b have been defined above. Note that one does not declare the type of a\n",
    "variable before assigning its value. In C language, conversely, one should write: int a = 3;"
   ]
  },
  {
   "cell_type": "code",
   "execution_count": 24,
   "id": "b59a058b",
   "metadata": {},
   "outputs": [
    {
     "name": "stdout",
     "output_type": "stream",
     "text": [
      "-6\n"
     ]
    }
   ],
   "source": [
    "a = 3\n",
    "b = -2*a\n",
    "print(b)"
   ]
  },
  {
   "cell_type": "code",
   "execution_count": 25,
   "id": "e49d305f",
   "metadata": {},
   "outputs": [
    {
     "name": "stdout",
     "output_type": "stream",
     "text": [
      "a = 3\n",
      "\n",
      "b = -6\n"
     ]
    }
   ],
   "source": [
    "print(\"a =\",a) \n",
    "print()\n",
    "print(\"b =\",b)"
   ]
  },
  {
   "cell_type": "code",
   "execution_count": 26,
   "id": "5ae4cd35",
   "metadata": {},
   "outputs": [
    {
     "data": {
      "text/plain": [
       "int"
      ]
     },
     "execution_count": 26,
     "metadata": {},
     "output_type": "execute_result"
    }
   ],
   "source": [
    "type(b)"
   ]
  },
  {
   "cell_type": "markdown",
   "id": "a732e374",
   "metadata": {},
   "source": [
    "# Floats"
   ]
  },
  {
   "cell_type": "code",
   "execution_count": 27,
   "id": "73b09d79",
   "metadata": {},
   "outputs": [],
   "source": [
    "c = 2.1"
   ]
  },
  {
   "cell_type": "code",
   "execution_count": 28,
   "id": "1723066c",
   "metadata": {},
   "outputs": [
    {
     "data": {
      "text/plain": [
       "float"
      ]
     },
     "execution_count": 28,
     "metadata": {},
     "output_type": "execute_result"
    }
   ],
   "source": [
    "type(c)"
   ]
  },
  {
   "cell_type": "markdown",
   "id": "2e819287",
   "metadata": {},
   "source": [
    "## String"
   ]
  },
  {
   "cell_type": "code",
   "execution_count": 29,
   "id": "b417123b",
   "metadata": {},
   "outputs": [],
   "source": [
    "d = 'Omid'"
   ]
  },
  {
   "cell_type": "code",
   "execution_count": 30,
   "id": "da13be99",
   "metadata": {},
   "outputs": [
    {
     "data": {
      "text/plain": [
       "str"
      ]
     },
     "execution_count": 30,
     "metadata": {},
     "output_type": "execute_result"
    }
   ],
   "source": [
    "type(d)"
   ]
  },
  {
   "cell_type": "code",
   "execution_count": 31,
   "id": "4d521c1b",
   "metadata": {},
   "outputs": [
    {
     "name": "stdout",
     "output_type": "stream",
     "text": [
      "hello world\n",
      "hello quantum world\n"
     ]
    }
   ],
   "source": [
    "hw = \"hello world\" # we can use double quotes\n",
    "hqw = 'hello quantum world' # we can use single quotes\n",
    "\n",
    "# let's print them\n",
    "print(hw)\n",
    "print(hqw)"
   ]
  },
  {
   "cell_type": "code",
   "execution_count": 32,
   "id": "7d4b9a04",
   "metadata": {},
   "outputs": [
    {
     "name": "stdout",
     "output_type": "stream",
     "text": [
      "hello world and hello quantum world\n"
     ]
    }
   ],
   "source": [
    "# let's print them together by inserting another string in between\n",
    "print(hw,'and',hqw)"
   ]
  },
  {
   "cell_type": "markdown",
   "id": "7b49f286",
   "metadata": {},
   "source": [
    "## Complex"
   ]
  },
  {
   "cell_type": "code",
   "execution_count": 33,
   "id": "9c0c905b",
   "metadata": {},
   "outputs": [
    {
     "data": {
      "text/plain": [
       "(1.5+0.5j)"
      ]
     },
     "execution_count": 33,
     "metadata": {},
     "output_type": "execute_result"
    }
   ],
   "source": [
    "e = 1.5 + 0.5j\n",
    "e"
   ]
  },
  {
   "cell_type": "code",
   "execution_count": 34,
   "id": "fb4b47c3",
   "metadata": {},
   "outputs": [
    {
     "data": {
      "text/plain": [
       "complex"
      ]
     },
     "execution_count": 34,
     "metadata": {},
     "output_type": "execute_result"
    }
   ],
   "source": [
    "type(e)"
   ]
  },
  {
   "cell_type": "code",
   "execution_count": 35,
   "id": "9d01d0dd",
   "metadata": {},
   "outputs": [
    {
     "data": {
      "text/plain": [
       "1.5"
      ]
     },
     "execution_count": 35,
     "metadata": {},
     "output_type": "execute_result"
    }
   ],
   "source": [
    "e.real"
   ]
  },
  {
   "cell_type": "code",
   "execution_count": 36,
   "id": "db7a44f1",
   "metadata": {},
   "outputs": [
    {
     "data": {
      "text/plain": [
       "0.5"
      ]
     },
     "execution_count": 36,
     "metadata": {},
     "output_type": "execute_result"
    }
   ],
   "source": [
    "e.imag"
   ]
  },
  {
   "cell_type": "markdown",
   "id": "de2810f8",
   "metadata": {},
   "source": [
    "## Booleans"
   ]
  },
  {
   "cell_type": "code",
   "execution_count": 37,
   "id": "6b72a3d6",
   "metadata": {},
   "outputs": [
    {
     "data": {
      "text/plain": [
       "True"
      ]
     },
     "execution_count": 37,
     "metadata": {},
     "output_type": "execute_result"
    }
   ],
   "source": [
    "a = 4\n",
    "b = 4\n",
    "c = 5\n",
    "a == b"
   ]
  },
  {
   "cell_type": "code",
   "execution_count": 38,
   "id": "44ccd874",
   "metadata": {},
   "outputs": [
    {
     "data": {
      "text/plain": [
       "False"
      ]
     },
     "execution_count": 38,
     "metadata": {},
     "output_type": "execute_result"
    }
   ],
   "source": [
    "a != b"
   ]
  },
  {
   "cell_type": "code",
   "execution_count": 39,
   "id": "9fd0d569",
   "metadata": {},
   "outputs": [
    {
     "data": {
      "text/plain": [
       "True"
      ]
     },
     "execution_count": 39,
     "metadata": {},
     "output_type": "execute_result"
    }
   ],
   "source": [
    "a != c"
   ]
  },
  {
   "cell_type": "code",
   "execution_count": 40,
   "id": "38f64c7f",
   "metadata": {},
   "outputs": [
    {
     "data": {
      "text/plain": [
       "False"
      ]
     },
     "execution_count": 40,
     "metadata": {},
     "output_type": "execute_result"
    }
   ],
   "source": [
    "3 > 4"
   ]
  },
  {
   "cell_type": "code",
   "execution_count": 41,
   "id": "82e2712b",
   "metadata": {},
   "outputs": [
    {
     "data": {
      "text/plain": [
       "True"
      ]
     },
     "execution_count": 41,
     "metadata": {},
     "output_type": "execute_result"
    }
   ],
   "source": [
    "3 < 4"
   ]
  },
  {
   "cell_type": "code",
   "execution_count": 42,
   "id": "4ae69308",
   "metadata": {},
   "outputs": [
    {
     "data": {
      "text/plain": [
       "False"
      ]
     },
     "execution_count": 42,
     "metadata": {},
     "output_type": "execute_result"
    }
   ],
   "source": [
    "f = (3 > 4)\n",
    "f"
   ]
  },
  {
   "cell_type": "code",
   "execution_count": 43,
   "id": "95ed2b4c",
   "metadata": {},
   "outputs": [
    {
     "data": {
      "text/plain": [
       "bool"
      ]
     },
     "execution_count": 43,
     "metadata": {},
     "output_type": "execute_result"
    }
   ],
   "source": [
    "type(f)"
   ]
  },
  {
   "cell_type": "code",
   "execution_count": 44,
   "id": "96759c1d",
   "metadata": {},
   "outputs": [
    {
     "name": "stdout",
     "output_type": "stream",
     "text": [
      "True False\n"
     ]
    }
   ],
   "source": [
    "# Booleen variables\n",
    "t = True\n",
    "f = False\n",
    "\n",
    "# let's print their values\n",
    "print(t,f)"
   ]
  },
  {
   "cell_type": "code",
   "execution_count": 45,
   "id": "7445c57d",
   "metadata": {},
   "outputs": [
    {
     "name": "stdout",
     "output_type": "stream",
     "text": [
      "False\n",
      "the negation of True is False\n",
      "True\n",
      "the negation of False is True\n"
     ]
    }
   ],
   "source": [
    "# print their negations\n",
    "print(not t) \n",
    "print(\"the negation of\",t,\"is\",not t)\n",
    "\n",
    "print(not f)\n",
    "print(\"the negation of\",f,\"is\",not f)"
   ]
  },
  {
   "cell_type": "code",
   "execution_count": 46,
   "id": "b706213c",
   "metadata": {},
   "outputs": [
    {
     "data": {
      "text/plain": [
       "True"
      ]
     },
     "execution_count": 46,
     "metadata": {},
     "output_type": "execute_result"
    }
   ],
   "source": [
    "b = [1, 2, 3]\n",
    "2 in b"
   ]
  },
  {
   "cell_type": "code",
   "execution_count": 47,
   "id": "e75a94e9",
   "metadata": {},
   "outputs": [
    {
     "data": {
      "text/plain": [
       "False"
      ]
     },
     "execution_count": 47,
     "metadata": {},
     "output_type": "execute_result"
    }
   ],
   "source": [
    "5 in b"
   ]
  },
  {
   "cell_type": "markdown",
   "id": "93a80c6b",
   "metadata": {},
   "source": [
    "## Basic Arithmetic Operations : +, -, *, /, %, ** ,//"
   ]
  },
  {
   "cell_type": "code",
   "execution_count": 48,
   "id": "ff71a7c9",
   "metadata": {},
   "outputs": [
    {
     "data": {
      "text/plain": [
       "10"
      ]
     },
     "execution_count": 48,
     "metadata": {},
     "output_type": "execute_result"
    }
   ],
   "source": [
    "7+3   # Summation of a and b"
   ]
  },
  {
   "cell_type": "code",
   "execution_count": 49,
   "id": "496dca40",
   "metadata": {},
   "outputs": [
    {
     "data": {
      "text/plain": [
       "4"
      ]
     },
     "execution_count": 49,
     "metadata": {},
     "output_type": "execute_result"
    }
   ],
   "source": [
    "7-3  # Subtracting "
   ]
  },
  {
   "cell_type": "code",
   "execution_count": 50,
   "id": "080277df",
   "metadata": {},
   "outputs": [
    {
     "data": {
      "text/plain": [
       "21"
      ]
     },
     "execution_count": 50,
     "metadata": {},
     "output_type": "execute_result"
    }
   ],
   "source": [
    "7 * 3  # Multiplication"
   ]
  },
  {
   "cell_type": "code",
   "execution_count": 51,
   "id": "12ce76df",
   "metadata": {},
   "outputs": [
    {
     "data": {
      "text/plain": [
       "2.6666666666666665"
      ]
     },
     "execution_count": 51,
     "metadata": {},
     "output_type": "execute_result"
    }
   ],
   "source": [
    "# Division\n",
    "\n",
    "8/3"
   ]
  },
  {
   "cell_type": "code",
   "execution_count": 52,
   "id": "4d632d0e",
   "metadata": {},
   "outputs": [
    {
     "data": {
      "text/plain": [
       "2"
      ]
     },
     "execution_count": 52,
     "metadata": {},
     "output_type": "execute_result"
    }
   ],
   "source": [
    "# Integer division\n",
    "8//3"
   ]
  },
  {
   "cell_type": "code",
   "execution_count": 53,
   "id": "b436c50b",
   "metadata": {},
   "outputs": [
    {
     "data": {
      "text/plain": [
       "4"
      ]
     },
     "execution_count": 53,
     "metadata": {},
     "output_type": "execute_result"
    }
   ],
   "source": [
    "# Integer division\n",
    "13//3"
   ]
  },
  {
   "cell_type": "code",
   "execution_count": 54,
   "id": "fea7a830",
   "metadata": {},
   "outputs": [
    {
     "data": {
      "text/plain": [
       "1"
      ]
     },
     "execution_count": 54,
     "metadata": {},
     "output_type": "execute_result"
    }
   ],
   "source": [
    "# Reminder/mod operator or modulus operators\n",
    "13 % 3\n",
    "\n",
    "# 13 mod 3 = 1\n",
    "# or when 13 is divided by 3 over integers, the reminder is 1\n",
    "# 13 = 4 * 3 + 1"
   ]
  },
  {
   "cell_type": "code",
   "execution_count": 55,
   "id": "743107c6",
   "metadata": {},
   "outputs": [
    {
     "data": {
      "text/plain": [
       "134"
      ]
     },
     "execution_count": 55,
     "metadata": {},
     "output_type": "execute_result"
    }
   ],
   "source": [
    "# Let's use parentheses in our expression\n",
    "(23*13) - (11 * 15)"
   ]
  },
  {
   "cell_type": "markdown",
   "id": "69dac4a4",
   "metadata": {},
   "source": [
    "<h4> Exponent operator</h4>"
   ]
  },
  {
   "cell_type": "code",
   "execution_count": 56,
   "id": "edd7b476",
   "metadata": {},
   "outputs": [
    {
     "data": {
      "text/plain": [
       "1024"
      ]
     },
     "execution_count": 56,
     "metadata": {},
     "output_type": "execute_result"
    }
   ],
   "source": [
    "# raise the number on the left to the Power of the exponent of the right\n",
    "\n",
    "2**10   "
   ]
  },
  {
   "cell_type": "code",
   "execution_count": 57,
   "id": "1ac0d8c0",
   "metadata": {},
   "outputs": [
    {
     "data": {
      "text/plain": [
       "4.0"
      ]
     },
     "execution_count": 57,
     "metadata": {},
     "output_type": "execute_result"
    }
   ],
   "source": [
    "16**(1/2)  "
   ]
  },
  {
   "cell_type": "code",
   "execution_count": 58,
   "id": "86dc2353",
   "metadata": {},
   "outputs": [
    {
     "name": "stdout",
     "output_type": "stream",
     "text": [
      "b*b*b = 125\n"
     ]
    }
   ],
   "source": [
    "b = 5\n",
    "print(\"b*b*b =\",b**3)"
   ]
  },
  {
   "cell_type": "markdown",
   "id": "cc86909a",
   "metadata": {},
   "source": [
    "### Quick Task\n",
    "\n",
    "<a id=\"task2\"></a>\n",
    "<h3> Task 2 </h3>\n",
    "\n",
    "By using the same variables (you may not need to define them again), calculate and print the following value in python:\n",
    "$$\n",
    "    \\dfrac{(n1-n2)\\cdot(n2-n3)}{(n3-n1)\\cdot(n3+1)} .\n",
    "$$\n",
    "\n",
    "You may round any float number up to a decimal digit by $ round(variable,digit) $."
   ]
  },
  {
   "cell_type": "code",
   "execution_count": 59,
   "id": "f04cfbe5",
   "metadata": {},
   "outputs": [
    {
     "name": "stdout",
     "output_type": "stream",
     "text": [
      "-3.3333333333333335\n",
      "-3.333\n"
     ]
    }
   ],
   "source": [
    "n1,n2,n3 = 3,-4,6\n",
    "\n",
    "up = (n1-n2) * (n2-n3)\n",
    "down = (n3-n1) * (n3+1)\n",
    "\n",
    "result = up/down\n",
    "print (result)\n",
    "\n",
    "# round the result up the 3rd decimal digit\n",
    "print(round(result,3))"
   ]
  },
  {
   "cell_type": "markdown",
   "id": "d1a9ee85",
   "metadata": {},
   "source": [
    "<a id=\"Size_of_an_object\"></a>\n",
    "<h3> Size of an object </h3>\n",
    "\n",
    "We use the method \"len()\" that takes an object as the input."
   ]
  },
  {
   "cell_type": "code",
   "execution_count": 60,
   "id": "bbe00724",
   "metadata": {},
   "outputs": [
    {
     "name": "stdout",
     "output_type": "stream",
     "text": [
      "46\n",
      "4\n",
      "3\n"
     ]
    }
   ],
   "source": [
    "# length of a string\n",
    "print(len(\"Introduction to Scientific Computing in Python\"))\n",
    "\n",
    "# size of a list\n",
    "print(len([1,2,3,4]))\n",
    "\n",
    "# size of a dictionary\n",
    "mydictionary = { 'name' : \"Asja\", 'surname':'Karaindrou', 'age': 23}\n",
    "print(len(mydictionary))"
   ]
  },
  {
   "cell_type": "code",
   "execution_count": 61,
   "id": "126d6d50",
   "metadata": {},
   "outputs": [],
   "source": [
    "a = 'name'"
   ]
  },
  {
   "cell_type": "code",
   "execution_count": 62,
   "id": "14313de8",
   "metadata": {},
   "outputs": [
    {
     "data": {
      "text/plain": [
       "4"
      ]
     },
     "execution_count": 62,
     "metadata": {},
     "output_type": "execute_result"
    }
   ],
   "source": [
    "len(a)"
   ]
  },
  {
   "cell_type": "markdown",
   "id": "b867796d",
   "metadata": {},
   "source": [
    "# Lists\n",
    "A list is an ordered collection of objects, that may have different types"
   ]
  },
  {
   "cell_type": "code",
   "execution_count": 63,
   "id": "8c657719",
   "metadata": {},
   "outputs": [
    {
     "data": {
      "text/plain": [
       "['red', 'blue', 'green', 'black', 'white', 'pink', 'orange']"
      ]
     },
     "execution_count": 63,
     "metadata": {},
     "output_type": "execute_result"
    }
   ],
   "source": [
    "colors = ['red', 'blue', 'green', 'black', 'white', 'pink', 'orange']\n",
    "colors "
   ]
  },
  {
   "cell_type": "code",
   "execution_count": 64,
   "id": "15a7d1e6",
   "metadata": {},
   "outputs": [
    {
     "data": {
      "text/plain": [
       "list"
      ]
     },
     "execution_count": 64,
     "metadata": {},
     "output_type": "execute_result"
    }
   ],
   "source": [
    "type(colors)"
   ]
  },
  {
   "cell_type": "code",
   "execution_count": 65,
   "id": "cdf1b5f5",
   "metadata": {},
   "outputs": [
    {
     "data": {
      "text/plain": [
       "7"
      ]
     },
     "execution_count": 65,
     "metadata": {},
     "output_type": "execute_result"
    }
   ],
   "source": [
    "len(colors)"
   ]
  },
  {
   "cell_type": "markdown",
   "id": "621ede90",
   "metadata": {},
   "source": [
    "#### Indexing: accessing individual objects contained in the list:\n",
    "### Warning: Indexing starts at 0 (as in C), not at 1 (as in Fortran or Matlab)!"
   ]
  },
  {
   "cell_type": "code",
   "execution_count": 66,
   "id": "047e69f0",
   "metadata": {},
   "outputs": [
    {
     "data": {
      "text/plain": [
       "'red'"
      ]
     },
     "execution_count": 66,
     "metadata": {},
     "output_type": "execute_result"
    }
   ],
   "source": [
    "colors[0]"
   ]
  },
  {
   "cell_type": "code",
   "execution_count": 67,
   "id": "9b87cd21",
   "metadata": {},
   "outputs": [
    {
     "data": {
      "text/plain": [
       "'green'"
      ]
     },
     "execution_count": 67,
     "metadata": {},
     "output_type": "execute_result"
    }
   ],
   "source": [
    "colors[2]"
   ]
  },
  {
   "cell_type": "markdown",
   "id": "a9dc1c33",
   "metadata": {},
   "source": [
    "#### Counting from the end with negative indices:"
   ]
  },
  {
   "cell_type": "code",
   "execution_count": 68,
   "id": "a6b5cdb6",
   "metadata": {},
   "outputs": [
    {
     "data": {
      "text/plain": [
       "'orange'"
      ]
     },
     "execution_count": 68,
     "metadata": {},
     "output_type": "execute_result"
    }
   ],
   "source": [
    "colors[-1]"
   ]
  },
  {
   "cell_type": "code",
   "execution_count": 69,
   "id": "d327f350",
   "metadata": {},
   "outputs": [
    {
     "data": {
      "text/plain": [
       "'pink'"
      ]
     },
     "execution_count": 69,
     "metadata": {},
     "output_type": "execute_result"
    }
   ],
   "source": [
    "colors[-2]"
   ]
  },
  {
   "cell_type": "markdown",
   "id": "03a4dffc",
   "metadata": {},
   "source": [
    "### Slicing: obtaining sublists of regularly-spaced elements:"
   ]
  },
  {
   "cell_type": "code",
   "execution_count": 70,
   "id": "7e1212d8",
   "metadata": {},
   "outputs": [
    {
     "data": {
      "text/plain": [
       "['red', 'blue', 'green', 'black', 'white', 'pink', 'orange']"
      ]
     },
     "execution_count": 70,
     "metadata": {},
     "output_type": "execute_result"
    }
   ],
   "source": [
    "colors = ['red', 'blue', 'green', 'black', 'white', 'pink', 'orange']\n",
    "colors"
   ]
  },
  {
   "cell_type": "code",
   "execution_count": 71,
   "id": "51c101e9",
   "metadata": {},
   "outputs": [
    {
     "data": {
      "text/plain": [
       "['green', 'black', 'white']"
      ]
     },
     "execution_count": 71,
     "metadata": {},
     "output_type": "execute_result"
    }
   ],
   "source": [
    "colors[2:5]"
   ]
  },
  {
   "cell_type": "markdown",
   "id": "4ad12d56",
   "metadata": {},
   "source": [
    "#### Warning: Note that colors[start:stop] contains the elements with indices i such as \n",
    "start<=i < stop (i ranging from start to stop-1). Therefore, colors[start:stop] has (stop - start)\n",
    "elements.  \n",
    "#### Slicing syntax: colors[start:stop:stride]"
   ]
  },
  {
   "cell_type": "code",
   "execution_count": 72,
   "id": "e1b8a099",
   "metadata": {},
   "outputs": [],
   "source": [
    "colors = ['red', 'blue', 'green', 'black', 'white', 'Pink', 'Orange']"
   ]
  },
  {
   "cell_type": "code",
   "execution_count": 73,
   "id": "72ef4614",
   "metadata": {},
   "outputs": [
    {
     "data": {
      "text/plain": [
       "['black', 'white', 'Pink', 'Orange']"
      ]
     },
     "execution_count": 73,
     "metadata": {},
     "output_type": "execute_result"
    }
   ],
   "source": [
    "colors[3:]"
   ]
  },
  {
   "cell_type": "code",
   "execution_count": 74,
   "id": "b213bbf5",
   "metadata": {},
   "outputs": [
    {
     "data": {
      "text/plain": [
       "['red', 'blue', 'green']"
      ]
     },
     "execution_count": 74,
     "metadata": {},
     "output_type": "execute_result"
    }
   ],
   "source": [
    "colors[:3]"
   ]
  },
  {
   "cell_type": "code",
   "execution_count": 75,
   "id": "d8b16113",
   "metadata": {},
   "outputs": [
    {
     "data": {
      "text/plain": [
       "['red', 'green', 'white', 'Orange']"
      ]
     },
     "execution_count": 75,
     "metadata": {},
     "output_type": "execute_result"
    }
   ],
   "source": [
    "colors[::2]"
   ]
  },
  {
   "cell_type": "markdown",
   "id": "591b1cd5",
   "metadata": {},
   "source": [
    "#### Lists are mutable objects and can be modified:"
   ]
  },
  {
   "cell_type": "code",
   "execution_count": 76,
   "id": "0993fa20",
   "metadata": {},
   "outputs": [],
   "source": [
    "colors = ['red', 'blue', 'green', 'black', 'white', 'pink', 'orange']\n",
    "colors[0] = 'yellow'"
   ]
  },
  {
   "cell_type": "code",
   "execution_count": 77,
   "id": "93529756",
   "metadata": {},
   "outputs": [
    {
     "data": {
      "text/plain": [
       "['yellow', 'blue', 'green', 'black', 'white', 'pink', 'orange']"
      ]
     },
     "execution_count": 77,
     "metadata": {},
     "output_type": "execute_result"
    }
   ],
   "source": [
    "colors"
   ]
  },
  {
   "cell_type": "code",
   "execution_count": 78,
   "id": "60964226",
   "metadata": {},
   "outputs": [
    {
     "data": {
      "text/plain": [
       "['yellow', 'blue', 'gray', 'purple', 'white', 'pink', 'orange']"
      ]
     },
     "execution_count": 78,
     "metadata": {},
     "output_type": "execute_result"
    }
   ],
   "source": [
    "colors[2:4] = ['gray', 'purple']\n",
    "colors"
   ]
  },
  {
   "cell_type": "markdown",
   "id": "5705d9e2",
   "metadata": {},
   "source": [
    "#### Note: The elements of a list may have different types:"
   ]
  },
  {
   "cell_type": "code",
   "execution_count": 79,
   "id": "3909c51f",
   "metadata": {},
   "outputs": [
    {
     "data": {
      "text/plain": [
       "[3, -200, 'hello', (2+4j), 1.5]"
      ]
     },
     "execution_count": 79,
     "metadata": {},
     "output_type": "execute_result"
    }
   ],
   "source": [
    "list4 = [3, -200, 'hello', 2+4j, 1.5]\n",
    "list4"
   ]
  },
  {
   "cell_type": "code",
   "execution_count": 80,
   "id": "9785f088",
   "metadata": {},
   "outputs": [
    {
     "data": {
      "text/plain": [
       "(-200, (2+4j))"
      ]
     },
     "execution_count": 80,
     "metadata": {},
     "output_type": "execute_result"
    }
   ],
   "source": [
    "list4[1], list4[3]"
   ]
  },
  {
   "cell_type": "markdown",
   "id": "2628e12c",
   "metadata": {},
   "source": [
    "#### Add and remove elements:\n",
    "**.append()** adds a single element to the end of the list while **.extend()** can add multiple individual elements to the end of the list."
   ]
  },
  {
   "cell_type": "code",
   "execution_count": 81,
   "id": "e0726419",
   "metadata": {},
   "outputs": [],
   "source": [
    "colors = ['yellow', 'blue', 'green', 'black', 'white', 'pink', 'orange']"
   ]
  },
  {
   "cell_type": "code",
   "execution_count": 82,
   "id": "459d008b",
   "metadata": {},
   "outputs": [
    {
     "data": {
      "text/plain": [
       "7"
      ]
     },
     "execution_count": 82,
     "metadata": {},
     "output_type": "execute_result"
    }
   ],
   "source": [
    "len(colors)"
   ]
  },
  {
   "cell_type": "code",
   "execution_count": 83,
   "id": "db0851ee",
   "metadata": {},
   "outputs": [],
   "source": [
    "colors.append('red')"
   ]
  },
  {
   "cell_type": "code",
   "execution_count": 84,
   "id": "0974d212",
   "metadata": {},
   "outputs": [
    {
     "data": {
      "text/plain": [
       "['yellow', 'blue', 'green', 'black', 'white', 'pink', 'orange', 'red']"
      ]
     },
     "execution_count": 84,
     "metadata": {},
     "output_type": "execute_result"
    }
   ],
   "source": [
    "colors"
   ]
  },
  {
   "cell_type": "code",
   "execution_count": 85,
   "id": "dcf86f86",
   "metadata": {},
   "outputs": [
    {
     "data": {
      "text/plain": [
       "8"
      ]
     },
     "execution_count": 85,
     "metadata": {},
     "output_type": "execute_result"
    }
   ],
   "source": [
    "len(colors)"
   ]
  },
  {
   "cell_type": "code",
   "execution_count": 86,
   "id": "5b473547",
   "metadata": {},
   "outputs": [],
   "source": [
    "colors.extend(['brown', 'purple']) "
   ]
  },
  {
   "cell_type": "code",
   "execution_count": 87,
   "id": "13c2badf",
   "metadata": {},
   "outputs": [
    {
     "data": {
      "text/plain": [
       "['yellow',\n",
       " 'blue',\n",
       " 'green',\n",
       " 'black',\n",
       " 'white',\n",
       " 'pink',\n",
       " 'orange',\n",
       " 'red',\n",
       " 'brown',\n",
       " 'purple']"
      ]
     },
     "execution_count": 87,
     "metadata": {},
     "output_type": "execute_result"
    }
   ],
   "source": [
    "colors"
   ]
  },
  {
   "cell_type": "code",
   "execution_count": 88,
   "id": "059433c4",
   "metadata": {},
   "outputs": [
    {
     "data": {
      "text/plain": [
       "10"
      ]
     },
     "execution_count": 88,
     "metadata": {},
     "output_type": "execute_result"
    }
   ],
   "source": [
    "len(colors)"
   ]
  },
  {
   "cell_type": "code",
   "execution_count": 89,
   "id": "e68ec282",
   "metadata": {},
   "outputs": [
    {
     "data": {
      "text/plain": [
       "['purple',\n",
       " 'brown',\n",
       " 'red',\n",
       " 'orange',\n",
       " 'pink',\n",
       " 'white',\n",
       " 'black',\n",
       " 'green',\n",
       " 'blue',\n",
       " 'yellow']"
      ]
     },
     "execution_count": 89,
     "metadata": {},
     "output_type": "execute_result"
    }
   ],
   "source": [
    "rcolors = colors[::-1]  # Reverse:\n",
    "rcolors"
   ]
  },
  {
   "cell_type": "markdown",
   "id": "01c3d23c",
   "metadata": {},
   "source": [
    "### Concatenate and repeat lists:"
   ]
  },
  {
   "cell_type": "code",
   "execution_count": 90,
   "id": "83026fed",
   "metadata": {},
   "outputs": [
    {
     "data": {
      "text/plain": [
       "['purple',\n",
       " 'brown',\n",
       " 'red',\n",
       " 'orange',\n",
       " 'pink',\n",
       " 'white',\n",
       " 'black',\n",
       " 'green',\n",
       " 'blue',\n",
       " 'yellow',\n",
       " 'yellow',\n",
       " 'blue',\n",
       " 'green',\n",
       " 'black',\n",
       " 'white',\n",
       " 'pink',\n",
       " 'orange',\n",
       " 'red',\n",
       " 'brown',\n",
       " 'purple']"
      ]
     },
     "execution_count": 90,
     "metadata": {},
     "output_type": "execute_result"
    }
   ],
   "source": [
    "rcolors + colors"
   ]
  },
  {
   "cell_type": "code",
   "execution_count": 91,
   "id": "57d26f2b",
   "metadata": {},
   "outputs": [
    {
     "data": {
      "text/plain": [
       "['yellow',\n",
       " 'blue',\n",
       " 'green',\n",
       " 'black',\n",
       " 'white',\n",
       " 'pink',\n",
       " 'orange',\n",
       " 'red',\n",
       " 'brown',\n",
       " 'purple',\n",
       " 'yellow',\n",
       " 'blue',\n",
       " 'green',\n",
       " 'black',\n",
       " 'white',\n",
       " 'pink',\n",
       " 'orange',\n",
       " 'red',\n",
       " 'brown',\n",
       " 'purple']"
      ]
     },
     "execution_count": 91,
     "metadata": {},
     "output_type": "execute_result"
    }
   ],
   "source": [
    "colors * 2"
   ]
  },
  {
   "cell_type": "code",
   "execution_count": 92,
   "id": "06090392",
   "metadata": {},
   "outputs": [
    {
     "data": {
      "text/plain": [
       "['black',\n",
       " 'blue',\n",
       " 'brown',\n",
       " 'green',\n",
       " 'orange',\n",
       " 'pink',\n",
       " 'purple',\n",
       " 'red',\n",
       " 'white',\n",
       " 'yellow']"
      ]
     },
     "execution_count": 92,
     "metadata": {},
     "output_type": "execute_result"
    }
   ],
   "source": [
    "sorted(colors)   # Sort"
   ]
  },
  {
   "cell_type": "code",
   "execution_count": 93,
   "id": "34fa987c",
   "metadata": {},
   "outputs": [
    {
     "name": "stdout",
     "output_type": "stream",
     "text": [
      "[1, 2, 3, 4, 5, 6]\n"
     ]
    }
   ],
   "source": [
    "list1 = [1,2,3]\n",
    "list2 = [4,5,6]\n",
    "\n",
    "#concatenation of two lists\n",
    "\n",
    "list3 = list1 + list2\n",
    "print(list3)"
   ]
  },
  {
   "cell_type": "code",
   "execution_count": 94,
   "id": "7d04dd1a",
   "metadata": {},
   "outputs": [
    {
     "name": "stdout",
     "output_type": "stream",
     "text": [
      "[4, 5, 6, 1, 2, 3]\n"
     ]
    }
   ],
   "source": [
    "list4 = list2 + list1\n",
    "print(list4)"
   ]
  },
  {
   "cell_type": "code",
   "execution_count": 95,
   "id": "a454773a",
   "metadata": {},
   "outputs": [
    {
     "name": "stdout",
     "output_type": "stream",
     "text": [
      "[0, 1, 2, 3]\n"
     ]
    }
   ],
   "source": [
    "list = [0,1,2]\n",
    "\n",
    "list.append(3)\n",
    "print(list)"
   ]
  },
  {
   "cell_type": "code",
   "execution_count": 96,
   "id": "7856fdb6",
   "metadata": {},
   "outputs": [
    {
     "name": "stdout",
     "output_type": "stream",
     "text": [
      "[0, 1, 2, 3, 4]\n"
     ]
    }
   ],
   "source": [
    "list = list + [4]\n",
    "print(list)"
   ]
  },
  {
   "cell_type": "markdown",
   "id": "9f3334df",
   "metadata": {},
   "source": [
    "<a id=\"Double_list\"></a>\n",
    "<h3> Double list </h3>"
   ]
  },
  {
   "cell_type": "code",
   "execution_count": 97,
   "id": "5c30c9ae",
   "metadata": {},
   "outputs": [
    {
     "name": "stdout",
     "output_type": "stream",
     "text": [
      "[[1, 2, 3], [-2, -4, -6], [3, 6, 9]]\n",
      "\n",
      "[1, 2, 3]\n",
      "[-2, -4, -6]\n",
      "[3, 6, 9]\n"
     ]
    }
   ],
   "source": [
    "A = [ [1,2,3], [-2,-4,-6], [3,6,9] ]\n",
    "\n",
    "# print all\n",
    "print(A)\n",
    "print()\n",
    "\n",
    "# print each list in a new line\n",
    "for list in A:\n",
    "    print(list)"
   ]
  },
  {
   "cell_type": "code",
   "execution_count": 98,
   "id": "2923a639",
   "metadata": {},
   "outputs": [
    {
     "data": {
      "text/plain": [
       "[3, 6, 9]"
      ]
     },
     "execution_count": 98,
     "metadata": {},
     "output_type": "execute_result"
    }
   ],
   "source": [
    "A[2]"
   ]
  },
  {
   "cell_type": "markdown",
   "id": "3385b952",
   "metadata": {},
   "source": [
    "## Strings\n",
    "Different string syntaxes (simple, double or triple quotes):"
   ]
  },
  {
   "cell_type": "code",
   "execution_count": 99,
   "id": "54a307ea",
   "metadata": {},
   "outputs": [
    {
     "data": {
      "text/plain": [
       "'Hello, how are you?'"
      ]
     },
     "execution_count": 99,
     "metadata": {},
     "output_type": "execute_result"
    }
   ],
   "source": [
    "s1 = 'Hello, how are you?'\n",
    "s1"
   ]
  },
  {
   "cell_type": "code",
   "execution_count": 100,
   "id": "d13a3bc8",
   "metadata": {},
   "outputs": [
    {
     "data": {
      "text/plain": [
       "\"Hi, what's up\""
      ]
     },
     "execution_count": 100,
     "metadata": {},
     "output_type": "execute_result"
    }
   ],
   "source": [
    "s2 = \"Hi, what's up\"\n",
    "s2"
   ]
  },
  {
   "cell_type": "code",
   "execution_count": 101,
   "id": "3ff89f4f",
   "metadata": {},
   "outputs": [],
   "source": [
    "s3 = '''Hello,\n",
    "how are you'''\n",
    "\n",
    "# tripling the quotes allows the string to span more than one line"
   ]
  },
  {
   "cell_type": "code",
   "execution_count": 102,
   "id": "a643118f",
   "metadata": {},
   "outputs": [
    {
     "name": "stdout",
     "output_type": "stream",
     "text": [
      "Hello,\n",
      "how are you\n"
     ]
    }
   ],
   "source": [
    "print(s3)"
   ]
  },
  {
   "cell_type": "code",
   "execution_count": 103,
   "id": "972df541",
   "metadata": {},
   "outputs": [],
   "source": [
    "s4 = \"\"\"Hi,\n",
    "what's up?\"\"\""
   ]
  },
  {
   "cell_type": "code",
   "execution_count": 104,
   "id": "ee1a1788",
   "metadata": {},
   "outputs": [
    {
     "name": "stdout",
     "output_type": "stream",
     "text": [
      "Hi,\n",
      "what's up?\n"
     ]
    }
   ],
   "source": [
    "print(s4)"
   ]
  },
  {
   "cell_type": "code",
   "execution_count": 105,
   "id": "de5af7f6",
   "metadata": {},
   "outputs": [
    {
     "name": "stdout",
     "output_type": "stream",
     "text": [
      "Hello,\n",
      "how are you Hi,\n",
      "what's up? what is your name? what is your job?\n"
     ]
    }
   ],
   "source": [
    "print(s3,s4,'what is your name?','what is your job?')"
   ]
  },
  {
   "cell_type": "code",
   "execution_count": 106,
   "id": "9348e5dd",
   "metadata": {},
   "outputs": [
    {
     "name": "stdout",
     "output_type": "stream",
     "text": [
      "Hello,\n",
      "how are you Hi,\n",
      "what's up? what is your name?\t what is your job?\n"
     ]
    }
   ],
   "source": [
    "print(s3,s4,'what is your name?\\t','what is your job?')"
   ]
  },
  {
   "cell_type": "code",
   "execution_count": 107,
   "id": "48b42dee",
   "metadata": {},
   "outputs": [
    {
     "name": "stdout",
     "output_type": "stream",
     "text": [
      "Hello,\n",
      "how are you Hi,\n",
      "what's up? what is your name?\n",
      " what is your job?\n"
     ]
    }
   ],
   "source": [
    "print(s3,s4,'what is your name?\\n','what is your job?')"
   ]
  },
  {
   "cell_type": "code",
   "execution_count": 108,
   "id": "bdcd0c0e",
   "metadata": {},
   "outputs": [],
   "source": [
    " a1 = \"saturn\""
   ]
  },
  {
   "cell_type": "code",
   "execution_count": 109,
   "id": "e55c480b",
   "metadata": {},
   "outputs": [
    {
     "data": {
      "text/plain": [
       "'t'"
      ]
     },
     "execution_count": 109,
     "metadata": {},
     "output_type": "execute_result"
    }
   ],
   "source": [
    "a1[2]"
   ]
  },
  {
   "cell_type": "code",
   "execution_count": 110,
   "id": "2c3d9154",
   "metadata": {},
   "outputs": [
    {
     "data": {
      "text/plain": [
       "'r'"
      ]
     },
     "execution_count": 110,
     "metadata": {},
     "output_type": "execute_result"
    }
   ],
   "source": [
    "a1[-2]  # Remember that negative indices correspond to counting from the right end"
   ]
  },
  {
   "cell_type": "code",
   "execution_count": 111,
   "id": "757d41a7",
   "metadata": {},
   "outputs": [],
   "source": [
    "a2 = \"hello, world!\""
   ]
  },
  {
   "cell_type": "code",
   "execution_count": 112,
   "id": "c0f48040",
   "metadata": {},
   "outputs": [
    {
     "data": {
      "text/plain": [
       "'lo o'"
      ]
     },
     "execution_count": 112,
     "metadata": {},
     "output_type": "execute_result"
    }
   ],
   "source": [
    "a2[2:10:2]                       # Syntax: a[start:stop:step]"
   ]
  },
  {
   "cell_type": "markdown",
   "id": "d8291041",
   "metadata": {},
   "source": [
    "Note: A string is an immutable object and it is not possible to modify its contents. One may however create\n",
    "new strings from the original one."
   ]
  },
  {
   "cell_type": "code",
   "execution_count": 113,
   "id": "928c1f60",
   "metadata": {},
   "outputs": [
    {
     "ename": "TypeError",
     "evalue": "'str' object does not support item assignment",
     "output_type": "error",
     "traceback": [
      "\u001b[1;31m---------------------------------------------------------------------------\u001b[0m",
      "\u001b[1;31mTypeError\u001b[0m                                 Traceback (most recent call last)",
      "Input \u001b[1;32mIn [113]\u001b[0m, in \u001b[0;36m<cell line: 1>\u001b[1;34m()\u001b[0m\n\u001b[1;32m----> 1\u001b[0m a2[\u001b[38;5;241m2\u001b[39m] \u001b[38;5;241m=\u001b[39m \u001b[38;5;124m'\u001b[39m\u001b[38;5;124mz\u001b[39m\u001b[38;5;124m'\u001b[39m\n",
      "\u001b[1;31mTypeError\u001b[0m: 'str' object does not support item assignment"
     ]
    }
   ],
   "source": [
    " a2[2] = 'z'"
   ]
  },
  {
   "cell_type": "code",
   "execution_count": null,
   "id": "6b7a7ede",
   "metadata": {},
   "outputs": [],
   "source": [
    " a2.replace('l', 'z')"
   ]
  },
  {
   "cell_type": "code",
   "execution_count": null,
   "id": "02a55695",
   "metadata": {},
   "outputs": [],
   "source": [
    "a3 = \"hello, world!\""
   ]
  },
  {
   "cell_type": "code",
   "execution_count": 114,
   "id": "ca0ae5b6",
   "metadata": {},
   "outputs": [
    {
     "ename": "NameError",
     "evalue": "name 'a3' is not defined",
     "output_type": "error",
     "traceback": [
      "\u001b[1;31m---------------------------------------------------------------------------\u001b[0m",
      "\u001b[1;31mNameError\u001b[0m                                 Traceback (most recent call last)",
      "Input \u001b[1;32mIn [114]\u001b[0m, in \u001b[0;36m<cell line: 1>\u001b[1;34m()\u001b[0m\n\u001b[1;32m----> 1\u001b[0m \u001b[43ma3\u001b[49m\u001b[38;5;241m.\u001b[39mreplace(\u001b[38;5;124m'\u001b[39m\u001b[38;5;124ml\u001b[39m\u001b[38;5;124m'\u001b[39m, \u001b[38;5;124m'\u001b[39m\u001b[38;5;124mz\u001b[39m\u001b[38;5;124m'\u001b[39m,\u001b[38;5;241m1\u001b[39m)\n",
      "\u001b[1;31mNameError\u001b[0m: name 'a3' is not defined"
     ]
    }
   ],
   "source": [
    " a3.replace('l', 'z',1)"
   ]
  },
  {
   "cell_type": "markdown",
   "id": "23a30a00",
   "metadata": {},
   "source": [
    "## Dictionaries\n",
    "A dictionary is basically an efficient table that maps keys to values.\n",
    "\n",
    "Dictionary in Python is a collection of keys values, used to store data values like a map, which, unlike other data types which hold only a single value as an element.\n",
    "\n",
    "Dictionary holds key:value pair. Key-Value is provided in the dictionary to make it more optimized. "
   ]
  },
  {
   "cell_type": "code",
   "execution_count": 115,
   "id": "7ef85632",
   "metadata": {},
   "outputs": [
    {
     "data": {
      "text/plain": [
       "{'a': 1, 'b': 2, 3: 'hello'}"
      ]
     },
     "execution_count": 115,
     "metadata": {},
     "output_type": "execute_result"
    }
   ],
   "source": [
    "d = {'a':1, 'b':2, 3:'hello'}\n",
    "d"
   ]
  },
  {
   "cell_type": "code",
   "execution_count": 116,
   "id": "a856a4ad",
   "metadata": {},
   "outputs": [],
   "source": [
    "mydictionary = {'name' : \"Omid\",'surname':'Hassasfar','Height': 181}"
   ]
  },
  {
   "cell_type": "code",
   "execution_count": 117,
   "id": "ad7df5f2",
   "metadata": {},
   "outputs": [
    {
     "name": "stdout",
     "output_type": "stream",
     "text": [
      "{'name': 'Omid', 'surname': 'Hassasfar', 'Height': 181}\n"
     ]
    }
   ],
   "source": [
    "print(mydictionary)"
   ]
  },
  {
   "cell_type": "code",
   "execution_count": 118,
   "id": "76da56fe",
   "metadata": {},
   "outputs": [
    {
     "name": "stdout",
     "output_type": "stream",
     "text": [
      "Hassasfar\n"
     ]
    }
   ],
   "source": [
    "print(mydictionary['surname'])"
   ]
  },
  {
   "cell_type": "code",
   "execution_count": 119,
   "id": "92305421",
   "metadata": {},
   "outputs": [
    {
     "name": "stdout",
     "output_type": "stream",
     "text": [
      "181\n"
     ]
    }
   ],
   "source": [
    "print(mydictionary['Height'])"
   ]
  },
  {
   "cell_type": "code",
   "execution_count": 120,
   "id": "d7cea6a3",
   "metadata": {},
   "outputs": [
    {
     "data": {
      "text/plain": [
       "{'emmanuelle': 18, 'sebastian': 19}"
      ]
     },
     "execution_count": 120,
     "metadata": {},
     "output_type": "execute_result"
    }
   ],
   "source": [
    "tel = {'emmanuelle': 18, 'sebastian': 19}\n",
    "tel"
   ]
  },
  {
   "cell_type": "code",
   "execution_count": 121,
   "id": "c4621bfe",
   "metadata": {},
   "outputs": [],
   "source": [
    "tel['francis'] = 21"
   ]
  },
  {
   "cell_type": "code",
   "execution_count": 122,
   "id": "17b8f5cd",
   "metadata": {},
   "outputs": [
    {
     "data": {
      "text/plain": [
       "{'emmanuelle': 18, 'sebastian': 19, 'francis': 21}"
      ]
     },
     "execution_count": 122,
     "metadata": {},
     "output_type": "execute_result"
    }
   ],
   "source": [
    "tel"
   ]
  },
  {
   "cell_type": "code",
   "execution_count": 123,
   "id": "042659bf",
   "metadata": {},
   "outputs": [
    {
     "data": {
      "text/plain": [
       "dict_keys(['emmanuelle', 'sebastian', 'francis'])"
      ]
     },
     "execution_count": 123,
     "metadata": {},
     "output_type": "execute_result"
    }
   ],
   "source": [
    "tel.keys()"
   ]
  },
  {
   "cell_type": "code",
   "execution_count": 124,
   "id": "eb943e47",
   "metadata": {},
   "outputs": [
    {
     "data": {
      "text/plain": [
       "dict_values([18, 19, 21])"
      ]
     },
     "execution_count": 124,
     "metadata": {},
     "output_type": "execute_result"
    }
   ],
   "source": [
    "tel.values()"
   ]
  },
  {
   "cell_type": "markdown",
   "id": "91ba280b",
   "metadata": {},
   "source": [
    "## Tuples\n",
    "Tuples are basically immutable lists. The elements of a tuple are written between parentheses, or just\n",
    "separated by commas:\n",
    "\n",
    "Tuples are used to store multiple items in a single variable. Tuple is one of 4 built-in data types in Python used to store collections of data, the other 3 are List, Set, and Dictionary, all with different qualities and usage. A tuple is a collection which is ordered and unchangeable."
   ]
  },
  {
   "cell_type": "code",
   "execution_count": 125,
   "id": "e1789d00",
   "metadata": {},
   "outputs": [
    {
     "name": "stdout",
     "output_type": "stream",
     "text": [
      "(1, 2, 3)\n"
     ]
    }
   ],
   "source": [
    "# Tuple having integers\n",
    "my_tuple = (1, 2, 3)\n",
    "print(my_tuple)"
   ]
  },
  {
   "cell_type": "code",
   "execution_count": 126,
   "id": "d3ef4403",
   "metadata": {},
   "outputs": [
    {
     "name": "stdout",
     "output_type": "stream",
     "text": [
      "(1, 'Hello', 3.4)\n"
     ]
    }
   ],
   "source": [
    "# tuple with mixed datatypes\n",
    "my_tuple = (1, \"Hello\", 3.4)\n",
    "print(my_tuple)"
   ]
  },
  {
   "cell_type": "code",
   "execution_count": 127,
   "id": "d058b7ed",
   "metadata": {},
   "outputs": [
    {
     "name": "stdout",
     "output_type": "stream",
     "text": [
      "(1, 4, 5, 'Ali')\n"
     ]
    }
   ],
   "source": [
    "mytuple=(1,4,5,'Ali') \n",
    "\n",
    "print(mytuple)"
   ]
  },
  {
   "cell_type": "code",
   "execution_count": 128,
   "id": "5f160209",
   "metadata": {},
   "outputs": [
    {
     "name": "stdout",
     "output_type": "stream",
     "text": [
      "('mouse', [8, 4, 6], (1, 2, 3))\n"
     ]
    }
   ],
   "source": [
    "# nested tuple\n",
    "my_tuple = (\"mouse\", [8, 4, 6], (1, 2, 3))\n",
    "print(my_tuple)"
   ]
  },
  {
   "cell_type": "code",
   "execution_count": 129,
   "id": "ecba0bfd",
   "metadata": {},
   "outputs": [
    {
     "data": {
      "text/plain": [
       "[8, 4, 6]"
      ]
     },
     "execution_count": 129,
     "metadata": {},
     "output_type": "execute_result"
    }
   ],
   "source": [
    "my_tuple[1]"
   ]
  },
  {
   "cell_type": "code",
   "execution_count": 130,
   "id": "b5b97f59",
   "metadata": {},
   "outputs": [
    {
     "name": "stdout",
     "output_type": "stream",
     "text": [
      "(2, 4, 5)\n",
      "(8, 10)\n",
      "(7, 8, 10)\n",
      "(5, 7, 8)\n"
     ]
    }
   ],
   "source": [
    "num_tuple = 2, 4, 5, 7, 8, 10\n",
    "print(num_tuple[:3])\n",
    "print(num_tuple[4:])\n",
    "print(num_tuple[-3:])\n",
    "print(num_tuple[2:5])"
   ]
  },
  {
   "cell_type": "markdown",
   "id": "a327c33b",
   "metadata": {},
   "source": [
    "## Assignment operator\n",
    "Assignment statements are used to (re)bind names to values and to modify attributes or\n",
    "items of mutable objects.\n",
    "1. an expression on the right hand side is evaluated, the corresponding object is created/obtained\n",
    "2. a name on the left hand side is assigned, or bound, to the r.h.s. object\n",
    "\n",
    "### Note : \n",
    "1. +=\tx += 3\tSame As  x = x + 3\n",
    "2. -=\tx -= 3\tSame As  x = x - 3\n",
    "3. *=\tx *= 3\tSame As  x = x * 3\n",
    "4. /=\tx /= 3\tSame As  x = x / 3\n",
    "5. %=\tx %= 3\tSame As  x = x % 3\n",
    "6. //=\tx //= 3\tx = x // 3"
   ]
  },
  {
   "cell_type": "code",
   "execution_count": 189,
   "id": "dd5b843f",
   "metadata": {},
   "outputs": [
    {
     "name": "stdout",
     "output_type": "stream",
     "text": [
      "0\n",
      "1\n"
     ]
    }
   ],
   "source": [
    "a, b = 0, 1\n",
    "print(a)\n",
    "print(b)"
   ]
  },
  {
   "cell_type": "code",
   "execution_count": 132,
   "id": "5b6dbb26",
   "metadata": {},
   "outputs": [],
   "source": [
    "a = [1, 2, 3]"
   ]
  },
  {
   "cell_type": "code",
   "execution_count": 133,
   "id": "bb980659",
   "metadata": {},
   "outputs": [],
   "source": [
    "c = a"
   ]
  },
  {
   "cell_type": "code",
   "execution_count": 134,
   "id": "303035f8",
   "metadata": {},
   "outputs": [
    {
     "data": {
      "text/plain": [
       "[1, 2, 3]"
      ]
     },
     "execution_count": 134,
     "metadata": {},
     "output_type": "execute_result"
    }
   ],
   "source": [
    "a"
   ]
  },
  {
   "cell_type": "code",
   "execution_count": 135,
   "id": "27997982",
   "metadata": {},
   "outputs": [
    {
     "data": {
      "text/plain": [
       "[1, 2, 3]"
      ]
     },
     "execution_count": 135,
     "metadata": {},
     "output_type": "execute_result"
    }
   ],
   "source": [
    "c"
   ]
  },
  {
   "cell_type": "code",
   "execution_count": 136,
   "id": "531185eb",
   "metadata": {},
   "outputs": [
    {
     "data": {
      "text/plain": [
       "True"
      ]
     },
     "execution_count": 136,
     "metadata": {},
     "output_type": "execute_result"
    }
   ],
   "source": [
    "a is c"
   ]
  },
  {
   "cell_type": "code",
   "execution_count": 190,
   "id": "57afbddc",
   "metadata": {},
   "outputs": [
    {
     "name": "stdout",
     "output_type": "stream",
     "text": [
      "value assigned to a\n",
      "4\n",
      "value assigned to b\n",
      "8\n"
     ]
    }
   ],
   "source": [
    "# var_name = value\n",
    "\n",
    "f, g = 4, 8\n",
    "print(\"value assigned to a\")\n",
    "print(f)\n",
    "print(\"value assigned to b\")\n",
    "print(g)"
   ]
  },
  {
   "cell_type": "markdown",
   "id": "99147ceb",
   "metadata": {},
   "source": [
    "# Control Flow\n",
    "Controls the order in which the code is executed.\n",
    "be careful to respect the indentation\n",
    "depth. The Ipython shell automatically increases the indentation depth after a colon : sign; to decrease the indentation depth, go **4** spaces to the left with the Backspace key. "
   ]
  },
  {
   "cell_type": "markdown",
   "id": "a7f56451",
   "metadata": {},
   "source": [
    "## if/elif/else"
   ]
  },
  {
   "cell_type": "code",
   "execution_count": 143,
   "id": "9a43eb36",
   "metadata": {},
   "outputs": [
    {
     "name": "stdout",
     "output_type": "stream",
     "text": [
      "2 is LESS THAN OR EQUAL TO 5\n"
     ]
    }
   ],
   "source": [
    "# Operator \"not equal to\"\n",
    "i = 2\n",
    "if i <= 5:\n",
    "    print(i,\"is LESS THAN OR EQUAL TO 5\")"
   ]
  },
  {
   "cell_type": "code",
   "execution_count": 138,
   "id": "538727a1",
   "metadata": {},
   "outputs": [
    {
     "name": "stdout",
     "output_type": "stream",
     "text": [
      "5 is GREATER THAN OR EQUAL TO 3\n"
     ]
    }
   ],
   "source": [
    "# Operator \"not equal to\"\n",
    "i = 5\n",
    "if i >= 1:\n",
    "    print(i,\"is GREATER THAN OR EQUAL TO 3\")"
   ]
  },
  {
   "cell_type": "code",
   "execution_count": 139,
   "id": "4d3e0e0c",
   "metadata": {},
   "outputs": [
    {
     "name": "stdout",
     "output_type": "stream",
     "text": [
      "-3 has minus sign negative AND 4 has plus sign\n"
     ]
    }
   ],
   "source": [
    "# Logical operator \"and\"\n",
    "i = -3\n",
    "j = 4\n",
    "if i<0 and j > 0:  \n",
    "    print(i,\"has minus sign negative AND\",j,\"has plus sign\")"
   ]
  },
  {
   "cell_type": "code",
   "execution_count": 140,
   "id": "f8ce5881",
   "metadata": {},
   "outputs": [
    {
     "name": "stdout",
     "output_type": "stream",
     "text": [
      "Positive or Zero\n"
     ]
    }
   ],
   "source": [
    "# Program checks if the number is positive or negative\n",
    "# And displays an appropriate message\n",
    "\n",
    "num = 3\n",
    "\n",
    "# Try these two variations as well. \n",
    "# num = -5\n",
    "# num = 0\n",
    "\n",
    "if num >= 0:\n",
    "    print(\"Positive or Zero\")\n",
    "else:\n",
    "    print(\"Negative number\")"
   ]
  },
  {
   "cell_type": "code",
   "execution_count": 141,
   "id": "a2d696f5",
   "metadata": {},
   "outputs": [
    {
     "name": "stdout",
     "output_type": "stream",
     "text": [
      "Two\n"
     ]
    }
   ],
   "source": [
    "a = 2\n",
    "\n",
    "if a == 1:\n",
    "    print('One')\n",
    "elif a == 2:\n",
    "    print('Two')\n",
    "elif a == 3:\n",
    "    print('Three')\n",
    "else:\n",
    "    print('A lot')"
   ]
  },
  {
   "cell_type": "markdown",
   "id": "bbc62bb0",
   "metadata": {},
   "source": [
    "### Python Nested if Example\n",
    "Nested if-elif-else Conditions"
   ]
  },
  {
   "cell_type": "code",
   "execution_count": 142,
   "id": "9db2c7ab",
   "metadata": {},
   "outputs": [
    {
     "name": "stdout",
     "output_type": "stream",
     "text": [
      "Amount is between 200 and 500\n"
     ]
    }
   ],
   "source": [
    "price = 50\n",
    "quantity = 5\n",
    "amount = price*quantity\n",
    "\n",
    "if amount > 100:\n",
    "    if amount > 500:\n",
    "        print(\"Amount is greater than 500\")\n",
    "    else:\n",
    "        if amount < 500 and amount > 400:\n",
    "            print(\"Amount is\")\n",
    "        elif amount < 500 and amount > 300:\n",
    "            print(\"Amount is between 300 and 500\")\n",
    "        else:\n",
    "            print(\"Amount is between 200 and 500\")\n",
    "elif amount == 100:\n",
    "    print(\"Amount is 100\")\n",
    "else:\n",
    "    print(\"Amount is less than 100\")"
   ]
  },
  {
   "cell_type": "markdown",
   "id": "022b3c2c",
   "metadata": {},
   "source": [
    "# Loops\n",
    "## for/range"
   ]
  },
  {
   "cell_type": "code",
   "execution_count": 143,
   "id": "e1b2a56b",
   "metadata": {},
   "outputs": [
    {
     "name": "stdout",
     "output_type": "stream",
     "text": [
      "0\n",
      "1\n",
      "2\n",
      "3\n",
      "4\n"
     ]
    }
   ],
   "source": [
    "for i in range(5):\n",
    "    print(i)"
   ]
  },
  {
   "cell_type": "code",
   "execution_count": 144,
   "id": "934537f9",
   "metadata": {},
   "outputs": [
    {
     "name": "stdout",
     "output_type": "stream",
     "text": [
      "-5\n",
      "-4\n",
      "-3\n",
      "-2\n",
      "-1\n",
      "0\n",
      "1\n",
      "2\n",
      "3\n",
      "4\n",
      "5\n"
     ]
    }
   ],
   "source": [
    "for i in range(-5,6): # i is in [-5,-4,...,0,...,4,5]\n",
    "    print(i)"
   ]
  },
  {
   "cell_type": "code",
   "execution_count": 145,
   "id": "052f224b",
   "metadata": {},
   "outputs": [
    {
     "name": "stdout",
     "output_type": "stream",
     "text": [
      "0\n",
      "4\n",
      "8\n",
      "12\n",
      "16\n",
      "20\n"
     ]
    }
   ],
   "source": [
    "for i in range(0,23,4): # i is in [0,4,8,12,16,20]\n",
    "    print(i)"
   ]
  },
  {
   "cell_type": "code",
   "execution_count": 146,
   "id": "a115cd69",
   "metadata": {},
   "outputs": [
    {
     "name": "stdout",
     "output_type": "stream",
     "text": [
      "3\n",
      "8\n",
      "-5\n",
      "11\n"
     ]
    }
   ],
   "source": [
    "for i in [3,8,-5,11]: \n",
    "    print(i)"
   ]
  },
  {
   "cell_type": "code",
   "execution_count": 147,
   "id": "1220d09f",
   "metadata": {},
   "outputs": [
    {
     "name": "stdout",
     "output_type": "stream",
     "text": [
      "P\n",
      "y\n",
      "t\n",
      "h\n",
      "o\n",
      "n\n"
     ]
    }
   ],
   "source": [
    "for i in \"Python\":\n",
    "    print(i)"
   ]
  },
  {
   "cell_type": "code",
   "execution_count": 148,
   "id": "ab1c9033",
   "metadata": {},
   "outputs": [
    {
     "name": "stdout",
     "output_type": "stream",
     "text": [
      "Python is cool \n",
      "Python is powerful \n",
      "Python is readable \n"
     ]
    }
   ],
   "source": [
    "for word in ('cool', 'powerful', 'readable'):\n",
    "    print('Python is %s ' % word)"
   ]
  },
  {
   "cell_type": "code",
   "execution_count": 149,
   "id": "178822c5",
   "metadata": {},
   "outputs": [
    {
     "name": "stdout",
     "output_type": "stream",
     "text": [
      "0\n",
      "1\n",
      "3\n",
      "6\n",
      "10\n",
      "15\n",
      "total number is  15\n"
     ]
    }
   ],
   "source": [
    "n = 6\n",
    "total = 0 \n",
    "for i in range(n): # do not forget to use colon\n",
    "    total = total + i # the value of total is increased by i in each iteration\n",
    "    print(total)\n",
    "    # alternatively, the same assignment can shortly be written as total += i similarly to the languages C, C++, Java, etc.\n",
    "    \n",
    "# now I am out of the scope of for-loop\n",
    "# let's print the final value of total\n",
    "print('total number is ', total)"
   ]
  },
  {
   "cell_type": "code",
   "execution_count": 150,
   "id": "51e21372",
   "metadata": {},
   "outputs": [
    {
     "name": "stdout",
     "output_type": "stream",
     "text": [
      "4 is less than 5\n",
      "5 is equal to 5\n",
      "6 is greater than 5\n",
      "7 is greater than 5\n"
     ]
    }
   ],
   "source": [
    "for a in range(4,8):\n",
    "    \n",
    "    # if condition(s)\n",
    "    if a<5: \n",
    "        print(a,\"is less than 5\")\n",
    "        \n",
    "    # elif conditions(s)\n",
    "    elif a==5: \n",
    "        print(a,\"is equal to 5\")\n",
    "        \n",
    "    # else\n",
    "    else:\n",
    "        print(a,\"is greater than 5\")"
   ]
  },
  {
   "cell_type": "code",
   "execution_count": 151,
   "id": "329725f5",
   "metadata": {},
   "outputs": [
    {
     "name": "stdout",
     "output_type": "stream",
     "text": [
      "1 is odd\n",
      "2 is even\n",
      "3 is odd\n",
      "4 is even\n",
      "5 is odd\n",
      "6 is even\n",
      "7 is odd\n",
      "8 is even\n",
      "9 is odd\n",
      "10 is even\n"
     ]
    }
   ],
   "source": [
    "for n in range(1,11):\n",
    "    if n % 2 == 0:\n",
    "    #if remainder(n,2)==0:\n",
    "\n",
    "        print(n,'is even')\n",
    "    else:\n",
    "        print(n,'is odd')"
   ]
  },
  {
   "cell_type": "code",
   "execution_count": 152,
   "id": "d56b369f",
   "metadata": {},
   "outputs": [
    {
     "name": "stdout",
     "output_type": "stream",
     "text": [
      "1 is odd\n",
      "2 is even\n",
      "3 is odd\n",
      "4 is even\n",
      "5 is odd\n",
      "6 is even\n",
      "7 is odd\n",
      "8 is even\n",
      "9 is odd\n",
      "10 is even\n"
     ]
    }
   ],
   "source": [
    "for n in range(1,11):\n",
    "    if n % 2 != 0:\n",
    "    #if remainder(n,2)==0:\n",
    "\n",
    "        print(n,'is odd')\n",
    "    else:\n",
    "        print(n,'is even')"
   ]
  },
  {
   "cell_type": "markdown",
   "id": "8d032583",
   "metadata": {},
   "source": [
    "### Looping over a dictionary"
   ]
  },
  {
   "cell_type": "code",
   "execution_count": 153,
   "id": "e0579611",
   "metadata": {},
   "outputs": [
    {
     "name": "stdout",
     "output_type": "stream",
     "text": [
      "key is name and its value is Ali\n",
      "key is surname and its value is Alizadeh\n",
      "key is age and its value is 23\n"
     ]
    }
   ],
   "source": [
    "# dictionary\n",
    "mydictionary = { 'name' : \"Ali\", 'surname':'Alizadeh', 'age': 23,}\n",
    "\n",
    "for key in mydictionary:\n",
    "    print(\"key is\",key,\"and its value is\",mydictionary[key])"
   ]
  },
  {
   "cell_type": "markdown",
   "id": "559ed43c",
   "metadata": {},
   "source": [
    "#### Instead of creating a list by means of a loop, one can make use of a list comprehension with a rather self-explaining syntax."
   ]
  },
  {
   "cell_type": "code",
   "execution_count": 154,
   "id": "4538a078",
   "metadata": {},
   "outputs": [
    {
     "data": {
      "text/plain": [
       "[0, 1, 4, 9, 16]"
      ]
     },
     "execution_count": 154,
     "metadata": {},
     "output_type": "execute_result"
    }
   ],
   "source": [
    "[i**2 for i in range(5)]"
   ]
  },
  {
   "cell_type": "markdown",
   "id": "22b09096",
   "metadata": {},
   "source": [
    "# Loop\n",
    "## while/break/continue"
   ]
  },
  {
   "cell_type": "code",
   "execution_count": 155,
   "id": "c282bfb6",
   "metadata": {},
   "outputs": [
    {
     "name": "stdout",
     "output_type": "stream",
     "text": [
      "0\n",
      "1\n",
      "2\n",
      "3\n",
      "4\n",
      "5\n",
      "6\n",
      "7\n",
      "8\n",
      "9\n"
     ]
    }
   ],
   "source": [
    "i = 0\n",
    "while i != 10: # \"!=\" is used for operator \"not equal to\"  \n",
    "    print(i)\n",
    "    i=i+1"
   ]
  },
  {
   "cell_type": "code",
   "execution_count": 156,
   "id": "8012a9af",
   "metadata": {},
   "outputs": [
    {
     "name": "stdout",
     "output_type": "stream",
     "text": [
      "100\n",
      "90\n",
      "80\n",
      "70\n",
      "60\n",
      "50\n",
      "40\n",
      "30\n",
      "20\n",
      "10\n"
     ]
    }
   ],
   "source": [
    "i = 100\n",
    "while i>0: # while condition(s):\n",
    "    print(i)\n",
    "    i = i - 10"
   ]
  },
  {
   "cell_type": "markdown",
   "id": "aee1693b",
   "metadata": {},
   "source": [
    "### break out of enclosing for/while loop:"
   ]
  },
  {
   "cell_type": "code",
   "execution_count": 157,
   "id": "965bf1f5",
   "metadata": {},
   "outputs": [
    {
     "name": "stdout",
     "output_type": "stream",
     "text": [
      "s\n",
      "t\n",
      "r\n",
      "The end\n"
     ]
    }
   ],
   "source": [
    "# Use of break statement inside the loop\n",
    "\n",
    "for val in \"string\":\n",
    "    if val == \"i\":\n",
    "        break\n",
    "    print(val)\n",
    "\n",
    "print(\"The end\")"
   ]
  },
  {
   "cell_type": "markdown",
   "id": "14a4df29",
   "metadata": {},
   "source": [
    "### continue the next iteration of a loop.:"
   ]
  },
  {
   "cell_type": "code",
   "execution_count": 158,
   "id": "bd160258",
   "metadata": {},
   "outputs": [
    {
     "name": "stdout",
     "output_type": "stream",
     "text": [
      "s\n",
      "t\n",
      "r\n",
      "n\n",
      "g\n",
      "The end\n"
     ]
    }
   ],
   "source": [
    "# Program to show the use of continue statement inside loops\n",
    "\n",
    "for val in \"string\":\n",
    "    if val == \"i\":\n",
    "        continue\n",
    "    print(val)\n",
    "\n",
    "print(\"The end\")"
   ]
  },
  {
   "cell_type": "code",
   "execution_count": 159,
   "id": "86a5b8ac",
   "metadata": {},
   "outputs": [],
   "source": [
    "a = [1, 2, 0, 4, 5]"
   ]
  },
  {
   "cell_type": "code",
   "execution_count": 160,
   "id": "d5a06145",
   "metadata": {},
   "outputs": [
    {
     "name": "stdout",
     "output_type": "stream",
     "text": [
      "1.0\n",
      "0.5\n"
     ]
    },
    {
     "ename": "ZeroDivisionError",
     "evalue": "float division by zero",
     "output_type": "error",
     "traceback": [
      "\u001b[1;31m---------------------------------------------------------------------------\u001b[0m",
      "\u001b[1;31mZeroDivisionError\u001b[0m                         Traceback (most recent call last)",
      "Input \u001b[1;32mIn [160]\u001b[0m, in \u001b[0;36m<cell line: 1>\u001b[1;34m()\u001b[0m\n\u001b[0;32m      1\u001b[0m \u001b[38;5;28;01mfor\u001b[39;00m element \u001b[38;5;129;01min\u001b[39;00m a:\n\u001b[1;32m----> 2\u001b[0m     \u001b[38;5;28mprint\u001b[39m(\u001b[38;5;241;43m1.\u001b[39;49m\u001b[43m \u001b[49m\u001b[38;5;241;43m/\u001b[39;49m\u001b[43m \u001b[49m\u001b[43melement\u001b[49m)\n",
      "\u001b[1;31mZeroDivisionError\u001b[0m: float division by zero"
     ]
    }
   ],
   "source": [
    "for element in a:\n",
    "    print(1. / element)"
   ]
  },
  {
   "cell_type": "code",
   "execution_count": 161,
   "id": "d82f069c",
   "metadata": {},
   "outputs": [],
   "source": [
    "a = [1, 2, 0, 4, 5]"
   ]
  },
  {
   "cell_type": "code",
   "execution_count": 162,
   "id": "8a86eb1c",
   "metadata": {},
   "outputs": [
    {
     "name": "stdout",
     "output_type": "stream",
     "text": [
      "1.0\n",
      "0.5\n",
      "0.25\n",
      "0.2\n"
     ]
    }
   ],
   "source": [
    "for element in a:\n",
    "    if element == 0:\n",
    "        continue\n",
    "    print(1. / element)"
   ]
  },
  {
   "cell_type": "markdown",
   "id": "62f9de43",
   "metadata": {},
   "source": [
    "## Defining functions\n",
    "#### Warning: Function blocks must be indented as other control-flow blocks.\n",
    "\n",
    "Note the syntax to define a function:\n",
    "- the def keyword\n",
    "-is followed by the function’s name, then\n",
    "-the arguments of the function are given between parentheses followed by a colon.\n",
    "-the function body;\n",
    "-and return object for optionally returning values"
   ]
  },
  {
   "cell_type": "code",
   "execution_count": 163,
   "id": "940c8cd1",
   "metadata": {},
   "outputs": [],
   "source": [
    "def test():\n",
    "    print('in test function')"
   ]
  },
  {
   "cell_type": "code",
   "execution_count": 164,
   "id": "838ee6f1",
   "metadata": {},
   "outputs": [
    {
     "name": "stdout",
     "output_type": "stream",
     "text": [
      "in test function\n"
     ]
    }
   ],
   "source": [
    "test()"
   ]
  },
  {
   "cell_type": "markdown",
   "id": "31fa3ff4",
   "metadata": {},
   "source": [
    "### Functions can optionally return values."
   ]
  },
  {
   "cell_type": "code",
   "execution_count": 165,
   "id": "9d3be32d",
   "metadata": {},
   "outputs": [],
   "source": [
    "def disk_area(radius):\n",
    "    Area = 3.14 * radius * radius\n",
    "    return (Area)"
   ]
  },
  {
   "cell_type": "code",
   "execution_count": 166,
   "id": "0e6505f7",
   "metadata": {},
   "outputs": [
    {
     "data": {
      "text/plain": [
       "7.0649999999999995"
      ]
     },
     "execution_count": 166,
     "metadata": {},
     "output_type": "execute_result"
    }
   ],
   "source": [
    "disk_area(1.5)"
   ]
  },
  {
   "cell_type": "code",
   "execution_count": 167,
   "id": "51644462",
   "metadata": {},
   "outputs": [],
   "source": [
    "# Mandatory parameters (positional arguments)\n",
    "\n",
    "def double_it(x):\n",
    "    return x * 2"
   ]
  },
  {
   "cell_type": "code",
   "execution_count": 168,
   "id": "b6a28765",
   "metadata": {},
   "outputs": [
    {
     "data": {
      "text/plain": [
       "6"
      ]
     },
     "execution_count": 168,
     "metadata": {},
     "output_type": "execute_result"
    }
   ],
   "source": [
    "double_it(3)"
   ]
  },
  {
   "cell_type": "code",
   "execution_count": 169,
   "id": "97772b89",
   "metadata": {},
   "outputs": [
    {
     "ename": "TypeError",
     "evalue": "double_it() missing 1 required positional argument: 'x'",
     "output_type": "error",
     "traceback": [
      "\u001b[1;31m---------------------------------------------------------------------------\u001b[0m",
      "\u001b[1;31mTypeError\u001b[0m                                 Traceback (most recent call last)",
      "Input \u001b[1;32mIn [169]\u001b[0m, in \u001b[0;36m<cell line: 1>\u001b[1;34m()\u001b[0m\n\u001b[1;32m----> 1\u001b[0m \u001b[43mdouble_it\u001b[49m\u001b[43m(\u001b[49m\u001b[43m)\u001b[49m\n",
      "\u001b[1;31mTypeError\u001b[0m: double_it() missing 1 required positional argument: 'x'"
     ]
    }
   ],
   "source": [
    "double_it()"
   ]
  },
  {
   "cell_type": "code",
   "execution_count": 170,
   "id": "ceb697e2",
   "metadata": {},
   "outputs": [],
   "source": [
    "#Optional parameters (keyword or named arguments)  ,  Keyword arguments allow you to specify default values.\n",
    "\n",
    "def double_it(x=2):\n",
    "    return x * 2"
   ]
  },
  {
   "cell_type": "code",
   "execution_count": 171,
   "id": "adb2f990",
   "metadata": {},
   "outputs": [
    {
     "data": {
      "text/plain": [
       "4"
      ]
     },
     "execution_count": 171,
     "metadata": {},
     "output_type": "execute_result"
    }
   ],
   "source": [
    "double_it()"
   ]
  },
  {
   "cell_type": "code",
   "execution_count": 172,
   "id": "ff112066",
   "metadata": {},
   "outputs": [
    {
     "data": {
      "text/plain": [
       "6"
      ]
     },
     "execution_count": 172,
     "metadata": {},
     "output_type": "execute_result"
    }
   ],
   "source": [
    "double_it(3)"
   ]
  },
  {
   "cell_type": "code",
   "execution_count": 178,
   "id": "2bd97cdd",
   "metadata": {},
   "outputs": [],
   "source": [
    "def summation_of_integers(n):\n",
    "    summation = 0\n",
    "    for integer in range(n+1):\n",
    "        #summation = summation + integer\n",
    "        summation +=  integer\n",
    "        print(summation)\n",
    "    return summation"
   ]
  },
  {
   "cell_type": "code",
   "execution_count": 179,
   "id": "d9634b92",
   "metadata": {},
   "outputs": [
    {
     "name": "stdout",
     "output_type": "stream",
     "text": [
      "0\n",
      "1\n",
      "3\n",
      "6\n",
      "10\n",
      "15\n"
     ]
    },
    {
     "data": {
      "text/plain": [
       "15"
      ]
     },
     "execution_count": 179,
     "metadata": {},
     "output_type": "execute_result"
    }
   ],
   "source": [
    "summation_of_integers(5)"
   ]
  },
  {
   "cell_type": "code",
   "execution_count": 181,
   "id": "e880b60f",
   "metadata": {},
   "outputs": [
    {
     "name": "stdout",
     "output_type": "stream",
     "text": [
      "0\n",
      "1\n",
      "3\n",
      "6\n",
      "10\n",
      "15\n",
      "21\n",
      "28\n",
      "36\n",
      "45\n",
      "55\n"
     ]
    },
    {
     "data": {
      "text/plain": [
       "55"
      ]
     },
     "execution_count": 181,
     "metadata": {},
     "output_type": "execute_result"
    }
   ],
   "source": [
    "summation_of_integers(10)"
   ]
  },
  {
   "cell_type": "markdown",
   "id": "a408f490",
   "metadata": {},
   "source": [
    "### Global variables vs Local variables\n",
    "Variables declared outside the function can be referenced within the function:\n",
    "\n",
    "Variables that are defined inside a function body have a local scope, and those defined outside have a global scope. This means that local variables can be accessed only inside the function in which they are declared, whereas global variables can be accessed throughout the program body by all functions."
   ]
  },
  {
   "cell_type": "code",
   "execution_count": 120,
   "id": "5709b018",
   "metadata": {},
   "outputs": [],
   "source": [
    "x = 5\n",
    "\n",
    "def addx(y):\n",
    "    return x + y"
   ]
  },
  {
   "cell_type": "code",
   "execution_count": 121,
   "id": "99da030a",
   "metadata": {},
   "outputs": [
    {
     "data": {
      "text/plain": [
       "15"
      ]
     },
     "execution_count": 121,
     "metadata": {},
     "output_type": "execute_result"
    }
   ],
   "source": [
    "addx(10)"
   ]
  },
  {
   "cell_type": "code",
   "execution_count": 130,
   "id": "ad824da7",
   "metadata": {},
   "outputs": [],
   "source": [
    "def sum( arg1, arg2 ):\n",
    "   # Add both the parameters and return them.\"\n",
    "   total = arg1 + arg2; # Here total is local variable.\n",
    "   return total;"
   ]
  },
  {
   "cell_type": "code",
   "execution_count": 131,
   "id": "3912df8b",
   "metadata": {},
   "outputs": [
    {
     "data": {
      "text/plain": [
       "11"
      ]
     },
     "execution_count": 131,
     "metadata": {},
     "output_type": "execute_result"
    }
   ],
   "source": [
    "sum( 3, 8 )"
   ]
  },
  {
   "cell_type": "code",
   "execution_count": 11,
   "id": "bcc5a74f",
   "metadata": {},
   "outputs": [],
   "source": [
    "# We can return multiple values from a function using tuples\n",
    "\n",
    "def powers(x):\n",
    "    \n",
    "    \"\"\"\n",
    "    Return a few powers of x.\n",
    "    \n",
    "    \"\"\"\n",
    "    return (x ** 2, x ** 3, x ** 4)"
   ]
  },
  {
   "cell_type": "code",
   "execution_count": 12,
   "id": "0ca9431b",
   "metadata": {},
   "outputs": [],
   "source": [
    "powers?"
   ]
  },
  {
   "cell_type": "code",
   "execution_count": 13,
   "id": "67eb972e",
   "metadata": {},
   "outputs": [
    {
     "data": {
      "text/plain": [
       "(16, 64, 256)"
      ]
     },
     "execution_count": 13,
     "metadata": {},
     "output_type": "execute_result"
    }
   ],
   "source": [
    "powers(4)"
   ]
  },
  {
   "cell_type": "markdown",
   "id": "c100bed1",
   "metadata": {},
   "source": [
    "## Unnamed functions (lambda function)"
   ]
  },
  {
   "cell_type": "code",
   "execution_count": 15,
   "id": "c4fe49c3",
   "metadata": {},
   "outputs": [],
   "source": [
    "f1 = lambda x: x**5"
   ]
  },
  {
   "cell_type": "code",
   "execution_count": 16,
   "id": "1154357d",
   "metadata": {},
   "outputs": [
    {
     "data": {
      "text/plain": [
       "32"
      ]
     },
     "execution_count": 16,
     "metadata": {},
     "output_type": "execute_result"
    }
   ],
   "source": [
    "f1(2)"
   ]
  },
  {
   "cell_type": "code",
   "execution_count": 22,
   "id": "5517afad",
   "metadata": {},
   "outputs": [],
   "source": [
    "# is equivalent to\n",
    "\n",
    "def f2(x):\n",
    "    return x**5"
   ]
  },
  {
   "cell_type": "code",
   "execution_count": 24,
   "id": "654b0d8f",
   "metadata": {},
   "outputs": [
    {
     "data": {
      "text/plain": [
       "(32, 243)"
      ]
     },
     "execution_count": 24,
     "metadata": {},
     "output_type": "execute_result"
    }
   ],
   "source": [
    "f2(2) , f2(3)"
   ]
  },
  {
   "cell_type": "markdown",
   "id": "55982a09",
   "metadata": {},
   "source": [
    "## Exercise: Fibonacci sequence\n",
    "Write a function that displays the n first terms of the Fibonacci sequence, defined by:\n",
    "\n",
    "$\n",
    "\\Large\\begin{gathered}\n",
    "  {U_0} = 0\\,\\,,\\,\\,{U_1} = 1\\, \\hfill \\\\\n",
    "  {U_n} = \\,{U_{n - 1}} + \\,{U_{n - 2}} \\hfill \\\\ \n",
    "\\end{gathered} \n",
    "$\n"
   ]
  },
  {
   "cell_type": "code",
   "execution_count": 192,
   "id": "d0eb329d",
   "metadata": {},
   "outputs": [],
   "source": [
    "def fib(n):\n",
    "    \"\"\"Display the n first terms of Fibonacci sequence\"\"\"\n",
    "    a, b = 0, 1\n",
    "    i = 0\n",
    "    while i < n:\n",
    "        print(\"b=\" ,b)\n",
    "#         print(\"a=\" , a)\n",
    "        a, b = b, a+b\n",
    "        i =i+1"
   ]
  },
  {
   "cell_type": "code",
   "execution_count": 193,
   "id": "63162047",
   "metadata": {},
   "outputs": [
    {
     "name": "stdout",
     "output_type": "stream",
     "text": [
      "b= 1\n",
      "b= 1\n",
      "b= 2\n",
      "b= 3\n",
      "b= 5\n",
      "b= 8\n",
      "b= 13\n",
      "b= 21\n",
      "b= 34\n",
      "b= 55\n"
     ]
    }
   ],
   "source": [
    "fib(10)"
   ]
  },
  {
   "cell_type": "code",
   "execution_count": 194,
   "id": "0af1bcba",
   "metadata": {},
   "outputs": [
    {
     "name": "stdout",
     "output_type": "stream",
     "text": [
      "[0, 1, 1, 2, 3, 5, 8, 13, 21, 34]\n"
     ]
    }
   ],
   "source": [
    "n = 10\n",
    "fib = [0,1]\n",
    "for i in range(2,n):\n",
    "    fib.append(fib[i-1]+fib[i-2])\n",
    "print(fib)"
   ]
  },
  {
   "cell_type": "code",
   "execution_count": 195,
   "id": "2beb2d05",
   "metadata": {},
   "outputs": [
    {
     "name": "stdout",
     "output_type": "stream",
     "text": [
      "[0, 1, 1, 2, 3, 5, 8, 13, 21, 34]\n"
     ]
    }
   ],
   "source": [
    "n = 2\n",
    "fib = [0,1]\n",
    "while n<10:\n",
    "    fib.append(fib[n-1]+fib[n-2])\n",
    "    n = n+1\n",
    "print(fib)"
   ]
  },
  {
   "cell_type": "markdown",
   "id": "b9c2aae2",
   "metadata": {},
   "source": [
    "## Exercise : \n",
    "Compute the decimals of Pi using the Wallis formula:\n",
    "\n",
    "$\n",
    "\\Large\\pi \\, = \\,2\\,\\prod\\limits_{i = 1}^\\infty  {\\frac{{4{i^2}}}{{4{i^2} - 1}}} \n",
    "$"
   ]
  },
  {
   "cell_type": "code",
   "execution_count": 196,
   "id": "bfb120d6",
   "metadata": {},
   "outputs": [
    {
     "ename": "NameError",
     "evalue": "name 'pi' is not defined",
     "output_type": "error",
     "traceback": [
      "\u001b[1;31m---------------------------------------------------------------------------\u001b[0m",
      "\u001b[1;31mNameError\u001b[0m                                 Traceback (most recent call last)",
      "Input \u001b[1;32mIn [196]\u001b[0m, in \u001b[0;36m<cell line: 1>\u001b[1;34m()\u001b[0m\n\u001b[1;32m----> 1\u001b[0m \u001b[43mpi\u001b[49m\n",
      "\u001b[1;31mNameError\u001b[0m: name 'pi' is not defined"
     ]
    }
   ],
   "source": [
    "pi"
   ]
  },
  {
   "cell_type": "code",
   "execution_count": 197,
   "id": "abcd3c1f",
   "metadata": {},
   "outputs": [],
   "source": [
    "from math import *"
   ]
  },
  {
   "cell_type": "code",
   "execution_count": 198,
   "id": "5fd806e5",
   "metadata": {},
   "outputs": [
    {
     "data": {
      "text/plain": [
       "2.718281828459045"
      ]
     },
     "execution_count": 198,
     "metadata": {},
     "output_type": "execute_result"
    }
   ],
   "source": [
    "e"
   ]
  },
  {
   "cell_type": "code",
   "execution_count": 199,
   "id": "9c567e23",
   "metadata": {},
   "outputs": [
    {
     "data": {
      "text/plain": [
       "3.141592653589793"
      ]
     },
     "execution_count": 199,
     "metadata": {},
     "output_type": "execute_result"
    }
   ],
   "source": [
    "pi"
   ]
  },
  {
   "cell_type": "code",
   "execution_count": 200,
   "id": "9865491a",
   "metadata": {},
   "outputs": [
    {
     "name": "stdout",
     "output_type": "stream",
     "text": [
      "3.141592653589793\n",
      "3.1415141108281714\n",
      "7.85427616216694e-05\n"
     ]
    },
    {
     "data": {
      "text/plain": [
       "0.0001"
      ]
     },
     "execution_count": 200,
     "metadata": {},
     "output_type": "execute_result"
    }
   ],
   "source": [
    "my_pi = 1.\n",
    "\n",
    "for i in range(1, 10000):\n",
    "    my_pi *= (4 * i ** 2) / (4 * i ** 2 - 1.)\n",
    "\n",
    "my_pi *= 2\n",
    "\n",
    "print(pi)\n",
    "print(my_pi)\n",
    "print(abs(pi - my_pi))\n",
    "\n",
    "d3 = abs(pi - my_pi)\n",
    "round(d3,4)\n"
   ]
  },
  {
   "cell_type": "code",
   "execution_count": 201,
   "id": "38651b0b",
   "metadata": {},
   "outputs": [
    {
     "data": {
      "text/plain": [
       "0.0"
      ]
     },
     "execution_count": 201,
     "metadata": {},
     "output_type": "execute_result"
    }
   ],
   "source": [
    "round(d3,3)"
   ]
  },
  {
   "cell_type": "code",
   "execution_count": 202,
   "id": "9f6f126e",
   "metadata": {},
   "outputs": [],
   "source": [
    "def wallis(n):\n",
    "    my_pi = 1.\n",
    "\n",
    "    for i in range(1, n):\n",
    "        my_pi *= (4 * i ** 2) / (4 * i ** 2 - 1.)\n",
    "\n",
    "    my_pi *= 2\n",
    "    return my_pi\n"
   ]
  },
  {
   "cell_type": "code",
   "execution_count": 203,
   "id": "32b8aa11",
   "metadata": {},
   "outputs": [
    {
     "data": {
      "text/plain": [
       "3.1415141108281714"
      ]
     },
     "execution_count": 203,
     "metadata": {},
     "output_type": "execute_result"
    }
   ],
   "source": [
    "wallis(10000)"
   ]
  },
  {
   "cell_type": "code",
   "execution_count": 204,
   "id": "3afe5e2b",
   "metadata": {},
   "outputs": [
    {
     "name": "stdout",
     "output_type": "stream",
     "text": [
      "CPU times: total: 141 ms\n",
      "Wall time: 141 ms\n"
     ]
    },
    {
     "data": {
      "text/plain": [
       "3.141584799578707"
      ]
     },
     "execution_count": 204,
     "metadata": {},
     "output_type": "execute_result"
    }
   ],
   "source": [
    "%%time\n",
    "\n",
    "# %%time is a magic command. It's a part of IPython  , %%time prints the wall time for the entire cell\n",
    "\n",
    "wallis(100000)"
   ]
  },
  {
   "cell_type": "markdown",
   "id": "9f15d393",
   "metadata": {},
   "source": [
    "## Random Number"
   ]
  },
  {
   "cell_type": "code",
   "execution_count": 2,
   "id": "f4d335ed",
   "metadata": {},
   "outputs": [
    {
     "name": "stdout",
     "output_type": "stream",
     "text": [
      "9 is picked randomly between 0 and 9\n",
      "8 is picked randomly between -9 and 9\n",
      "12 is picked randomly from the list [0,3,6,9,12,15,18]\n"
     ]
    }
   ],
   "source": [
    "from random import randrange\n",
    "\n",
    "print(randrange(10),\"is picked randomly between 0 and 9\")\n",
    "      \n",
    "print(randrange(-9,10),\"is picked randomly between -9 and 9\")\n",
    "\n",
    "print(randrange(0,20,3),\"is picked randomly from the list [0,3,6,9,12,15,18]\")"
   ]
  },
  {
   "cell_type": "markdown",
   "id": "4ac8e1e7",
   "metadata": {},
   "source": [
    "## Python User Input"
   ]
  },
  {
   "cell_type": "code",
   "execution_count": 6,
   "id": "4493082c",
   "metadata": {},
   "outputs": [
    {
     "name": "stdout",
     "output_type": "stream",
     "text": [
      "Enter username:Bob\n"
     ]
    }
   ],
   "source": [
    "username = input(\"Enter username:\")\n",
    "# After inserting input just press Enter  NOT SHIFT+ENTER"
   ]
  },
  {
   "cell_type": "code",
   "execution_count": 7,
   "id": "a597c255",
   "metadata": {},
   "outputs": [
    {
     "name": "stdout",
     "output_type": "stream",
     "text": [
      "Username is: Bob\n"
     ]
    }
   ],
   "source": [
    "print(\"Username is: \" + username)"
   ]
  },
  {
   "cell_type": "code",
   "execution_count": 59,
   "id": "42dec3d9",
   "metadata": {},
   "outputs": [
    {
     "name": "stdout",
     "output_type": "stream",
     "text": [
      "Enter the Length :2\n",
      "Enter Width :3\n"
     ]
    }
   ],
   "source": [
    "# Area of a circle\n",
    "t1 = input(\"Enter the Length :\")\n",
    "t2 = input(\"Enter Width :\")"
   ]
  },
  {
   "cell_type": "code",
   "execution_count": 63,
   "id": "e1929c54",
   "metadata": {},
   "outputs": [
    {
     "ename": "TypeError",
     "evalue": "can't multiply sequence by non-int of type 'str'",
     "output_type": "error",
     "traceback": [
      "\u001b[1;31m---------------------------------------------------------------------------\u001b[0m",
      "\u001b[1;31mTypeError\u001b[0m                                 Traceback (most recent call last)",
      "Input \u001b[1;32mIn [63]\u001b[0m, in \u001b[0;36m<cell line: 1>\u001b[1;34m()\u001b[0m\n\u001b[1;32m----> 1\u001b[0m A \u001b[38;5;241m=\u001b[39m \u001b[43mt1\u001b[49m\u001b[43m \u001b[49m\u001b[38;5;241;43m*\u001b[39;49m\u001b[43m \u001b[49m\u001b[43mt2\u001b[49m\n\u001b[0;32m      2\u001b[0m A\n",
      "\u001b[1;31mTypeError\u001b[0m: can't multiply sequence by non-int of type 'str'"
     ]
    }
   ],
   "source": [
    "A = t1 * t2\n",
    "A"
   ]
  },
  {
   "cell_type": "code",
   "execution_count": 64,
   "id": "580aaab6",
   "metadata": {},
   "outputs": [
    {
     "name": "stdout",
     "output_type": "stream",
     "text": [
      "Enter the Length :2\n",
      "Enter Width :3\n"
     ]
    }
   ],
   "source": [
    "# Area of a circle\n",
    "t3 = float(input(\"Enter the Length :\"))\n",
    "t4 = float(input(\"Enter Width :\"))"
   ]
  },
  {
   "cell_type": "code",
   "execution_count": 65,
   "id": "b06e200d",
   "metadata": {},
   "outputs": [
    {
     "data": {
      "text/plain": [
       "6.0"
      ]
     },
     "execution_count": 65,
     "metadata": {},
     "output_type": "execute_result"
    }
   ],
   "source": [
    "A = t3 * t4\n",
    "A"
   ]
  },
  {
   "cell_type": "markdown",
   "id": "b79bfeba",
   "metadata": {},
   "source": [
    "## Scripts\n",
    "A Python script file is nothing but a text file containing Python code that ends with a **.py** extension. Python scripts are also called Python programs. If we open up any editor, then we are given a blank window that we can enter our Python commands in."
   ]
  },
  {
   "cell_type": "markdown",
   "id": "1f70dda9",
   "metadata": {},
   "source": [
    "## Magic functions\n",
    "notebooks support so-called magic functions by prefixing a command with the % character"
   ]
  },
  {
   "cell_type": "markdown",
   "id": "a3da3ed7",
   "metadata": {},
   "source": [
    "As an exercise, create a file my_file.py in a code editor (NotePad ot NotePad++, ...), and add the following lines:  \n",
    "\n",
    "s1 = 'Hello world1'   \n",
    "s2 = 'Hello world2'   \n",
    "print(s1)    \n",
    "print(s2)"
   ]
  },
  {
   "cell_type": "code",
   "execution_count": 43,
   "id": "6a31000b",
   "metadata": {},
   "outputs": [
    {
     "name": "stdout",
     "output_type": "stream",
     "text": [
      "Hello world1\n",
      "Hello world2\n"
     ]
    }
   ],
   "source": [
    "s1 = 'Hello world1'   \n",
    "s2 = 'Hello world2'   \n",
    "print(s1)    \n",
    "print(s2)"
   ]
  },
  {
   "cell_type": "markdown",
   "id": "41187a3d",
   "metadata": {},
   "source": [
    "## %run Execute an external script without loading its content into the cell"
   ]
  },
  {
   "cell_type": "code",
   "execution_count": 44,
   "id": "774c78a6",
   "metadata": {},
   "outputs": [
    {
     "name": "stdout",
     "output_type": "stream",
     "text": [
      "Hello world1\n",
      "Hello world2\n"
     ]
    }
   ],
   "source": [
    "%run my_file.py"
   ]
  },
  {
   "cell_type": "markdown",
   "id": "16dec6ae",
   "metadata": {},
   "source": [
    "##     %load\n",
    "\n",
    "<b><u>Load an external script</u></b> into a cell:\n",
    "Once this command is executed, the content of the cell is replaced with the content of the file (The previous content is deleted)."
   ]
  },
  {
   "cell_type": "code",
   "execution_count": null,
   "id": "ff1b7d17",
   "metadata": {},
   "outputs": [],
   "source": [
    "# %load my_file.py\n",
    "s1 = 'Hello world1'   \n",
    "s2 = 'Hello world2'   \n",
    "print(s1)    \n",
    "print(s2)"
   ]
  },
  {
   "cell_type": "markdown",
   "id": "de8d81e9",
   "metadata": {},
   "source": [
    "## %%write\n",
    "<b><u>Write the content of a code cell</u></b> into an external file:"
   ]
  },
  {
   "cell_type": "code",
   "execution_count": 18,
   "id": "f23a61fd",
   "metadata": {},
   "outputs": [
    {
     "name": "stdout",
     "output_type": "stream",
     "text": [
      "Writing first_example.py\n"
     ]
    }
   ],
   "source": [
    "%%writefile first_example.py \n",
    "\n",
    "print(\"Bye world\")\n",
    "\n",
    "str=\"*\"\n",
    "for i in range(5):\n",
    "    print(str)\n",
    "    str+=\"*\"  "
   ]
  },
  {
   "cell_type": "code",
   "execution_count": 45,
   "id": "7ff63015",
   "metadata": {},
   "outputs": [
    {
     "name": "stdout",
     "output_type": "stream",
     "text": [
      "Bye world\n",
      "*\n",
      "**\n",
      "***\n",
      "****\n",
      "*****\n"
     ]
    }
   ],
   "source": [
    "%run first_example.py"
   ]
  },
  {
   "cell_type": "code",
   "execution_count": 46,
   "id": "0f8bbf61",
   "metadata": {},
   "outputs": [],
   "source": [
    "f = open(\"Test2.txt\", 'r')"
   ]
  },
  {
   "cell_type": "code",
   "execution_count": 47,
   "id": "6fdd8ebf",
   "metadata": {},
   "outputs": [
    {
     "name": "stdout",
     "output_type": "stream",
     "text": [
      "Hello Python \n",
      "\n"
     ]
    }
   ],
   "source": [
    "print(f.read())"
   ]
  },
  {
   "cell_type": "code",
   "execution_count": 49,
   "id": "f0fb9a19",
   "metadata": {},
   "outputs": [],
   "source": [
    "f = open(\"Test2.txt\", 'w')"
   ]
  },
  {
   "cell_type": "code",
   "execution_count": 50,
   "id": "8a5e0917",
   "metadata": {},
   "outputs": [
    {
     "data": {
      "text/plain": [
       "14"
      ]
     },
     "execution_count": 50,
     "metadata": {},
     "output_type": "execute_result"
    }
   ],
   "source": [
    "f.write(\"Hello Python \\n\")"
   ]
  },
  {
   "cell_type": "code",
   "execution_count": 37,
   "id": "772afbc2",
   "metadata": {},
   "outputs": [
    {
     "name": "stdout",
     "output_type": "stream",
     "text": [
      "Variable   Type             Data/Info\n",
      "-------------------------------------\n",
      "f          TextIOWrapper    <_io.TextIOWrapper name='<...>de='w' encoding='cp1252'>\n",
      "f22        TextIOWrapper    <_io.TextIOWrapper name='<...>de='w' encoding='cp1252'>\n",
      "i          int              4\n",
      "s          str              Hello world\n",
      "s1         str              Hello world1\n",
      "s2         str              Hello world2\n",
      "str        str              ******\n"
     ]
    }
   ],
   "source": [
    "%whos\n",
    "\n",
    "# You can use the %whos command at any time to see what variables you have created \n",
    "# and what modules you have loaded into the computer's memory. As this is an IPython command, \n",
    "# it will only work if you are in an IPython terminal or the Jupyter Notebook.\n"
   ]
  },
  {
   "cell_type": "markdown",
   "id": "f63c89b6",
   "metadata": {},
   "source": [
    "## In Python, there are approximately around thirty-three (36) keywords:\n",
    "\n",
    "Keywords are the reserved words in Python. We ***cannot*** use a keyword as a variable name, function name or any other identifier."
   ]
  },
  {
   "cell_type": "code",
   "execution_count": 51,
   "id": "c2edd0dc",
   "metadata": {},
   "outputs": [
    {
     "name": "stdout",
     "output_type": "stream",
     "text": [
      "\n",
      "Here is a list of the Python keywords.  Enter any keyword to get more help.\n",
      "\n",
      "False               break               for                 not\n",
      "None                class               from                or\n",
      "True                continue            global              pass\n",
      "__peg_parser__      def                 if                  raise\n",
      "and                 del                 import              return\n",
      "as                  elif                in                  try\n",
      "assert              else                is                  while\n",
      "async               except              lambda              with\n",
      "await               finally             nonlocal            yield\n",
      "\n"
     ]
    }
   ],
   "source": [
    "help(\"keywords\")"
   ]
  }
 ],
 "metadata": {
  "kernelspec": {
   "display_name": "Python 3 (ipykernel)",
   "language": "python",
   "name": "python3"
  },
  "language_info": {
   "codemirror_mode": {
    "name": "ipython",
    "version": 3
   },
   "file_extension": ".py",
   "mimetype": "text/x-python",
   "name": "python",
   "nbconvert_exporter": "python",
   "pygments_lexer": "ipython3",
   "version": "3.9.12"
  }
 },
 "nbformat": 4,
 "nbformat_minor": 5
}
